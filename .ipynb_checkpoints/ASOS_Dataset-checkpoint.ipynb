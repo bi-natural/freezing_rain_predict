{
 "cells": [
  {
   "cell_type": "markdown",
   "metadata": {},
   "source": [
    "## 기상청 종관지상관측 데이터 (ASOS)\n",
    "\n",
    "* https://data.kma.go.kr"
   ]
  },
  {
   "cell_type": "code",
   "execution_count": 2,
   "metadata": {},
   "outputs": [],
   "source": [
    "import pandas as pd\n",
    "import os, sys, time\n",
    "import glob"
   ]
  },
  {
   "cell_type": "code",
   "execution_count": 46,
   "metadata": {},
   "outputs": [
    {
     "name": "stdout",
     "output_type": "stream",
     "text": [
      "found : FZ_Data/ASOS_All_csv.csv\n"
     ]
    }
   ],
   "source": [
    "#FILENAME = 'FZ_Data/ASOS_All.xlsx'\n",
    "FILENAME = 'FZ_Data/ASOS_All_csv.csv'\n",
    "\n",
    "if not os.path.exists(FILENAME):\n",
    "    assert False, 'cannot find FILENAME: {}'.format(FILENAME)\n",
    "else:\n",
    "    print('found : {}'.format(FILENAME))"
   ]
  },
  {
   "cell_type": "markdown",
   "metadata": {},
   "source": [
    "### load ASOS 데이터"
   ]
  },
  {
   "cell_type": "code",
   "execution_count": 83,
   "metadata": {},
   "outputs": [],
   "source": [
    "if FILENAME.endswith('.xlsx'):\n",
    "    df = pd.read_excel(FILENAME, \n",
    "                       encoding='euc-kr',\n",
    "                       converters={'지점':str, '지면상태(지면상태코드)':str, '현상번호(국내식)':str})\n",
    "elif FILENAME.endswith('.csv'):\n",
    "    df = pd.read_csv(FILENAME, \n",
    "                       encoding='euc-kr',\n",
    "                       converters={'지점':str, '지면상태(지면상태코드)':str, '현상번호(국내식)':str})"
   ]
  },
  {
   "cell_type": "code",
   "execution_count": 84,
   "metadata": {},
   "outputs": [
    {
     "data": {
      "text/plain": [
       "(29015, 37)"
      ]
     },
     "execution_count": 84,
     "metadata": {},
     "output_type": "execute_result"
    }
   ],
   "source": [
    "df.shape"
   ]
  },
  {
   "cell_type": "code",
   "execution_count": 85,
   "metadata": {},
   "outputs": [
    {
     "data": {
      "text/plain": [
       "Index(['지점', '지점명', '일시', '기온(°C)', '기온 QC플래그', '강수량(mm)', '강수량 QC플래그',\n",
       "       '풍속(m/s)', '풍속 QC플래그', '풍향(16방위)', '풍향 QC플래그', '습도(%)', '습도 QC플래그',\n",
       "       '증기압(hPa)', '이슬점온도(°C)', '현지기압(hPa)', '현지기압 QC플래그', '해면기압(hPa)',\n",
       "       '해면기압 QC플래그', '일조(hr)', '일조 QC플래그', '일사(MJ/m2)', '적설(cm)', '3시간신적설(cm)',\n",
       "       '전운량(10분위)', '중하층운량(10분위)', '운형(운형약어)', '최저운고(100m )', '시정(10m)',\n",
       "       '지면상태(지면상태코드)', '현상번호(국내식)', '지면온도(°C)', '지면온도 QC플래그', '5cm 지중온도(°C)',\n",
       "       '10cm 지중온도(°C)', '20cm 지중온도(°C)', '30cm 지중온도(°C)'],\n",
       "      dtype='object')"
      ]
     },
     "execution_count": 85,
     "metadata": {},
     "output_type": "execute_result"
    }
   ],
   "source": [
    "df.columns"
   ]
  },
  {
   "cell_type": "markdown",
   "metadata": {},
   "source": [
    "### 24개 컬럼이 분석 대상\n",
    "\n",
    "* 데이터품질에 대한 내용인 QC플래그 제외\n",
    "* 특정지점에서만 데이터를 취합하는 지중온도는 제외 "
   ]
  },
  {
   "cell_type": "code",
   "execution_count": 86,
   "metadata": {},
   "outputs": [],
   "source": [
    "use_columns = ['지점', '지점명', '일시', '기온(°C)', '강수량(mm)', \n",
    "       '풍속(m/s)', '풍향(16방위)', '습도(%)', \n",
    "       '증기압(hPa)', '이슬점온도(°C)', '현지기압(hPa)', '해면기압(hPa)',\n",
    "       '일조(hr)', '일사(MJ/m2)', '적설(cm)', '3시간신적설(cm)',\n",
    "       '전운량(10분위)', '중하층운량(10분위)', '운형(운형약어)', '최저운고(100m )', '시정(10m)',\n",
    "       '지면상태(지면상태코드)', '현상번호(국내식)', '지면온도(°C)']"
   ]
  },
  {
   "cell_type": "code",
   "execution_count": 87,
   "metadata": {},
   "outputs": [
    {
     "data": {
      "text/plain": [
       "24"
      ]
     },
     "execution_count": 87,
     "metadata": {},
     "output_type": "execute_result"
    }
   ],
   "source": [
    "len(use_columns)"
   ]
  },
  {
   "cell_type": "code",
   "execution_count": 88,
   "metadata": {},
   "outputs": [],
   "source": [
    "df = df[use_columns]"
   ]
  },
  {
   "cell_type": "markdown",
   "metadata": {},
   "source": [
    "### 결측치 확인"
   ]
  },
  {
   "cell_type": "code",
   "execution_count": 89,
   "metadata": {},
   "outputs": [
    {
     "data": {
      "text/plain": [
       "지점                  0\n",
       "지점명                 0\n",
       "일시                  0\n",
       "기온(°C)              0\n",
       "강수량(mm)         27447\n",
       "풍속(m/s)             0\n",
       "풍향(16방위)            0\n",
       "습도(%)               1\n",
       "증기압(hPa)        14513\n",
       "이슬점온도(°C)       14513\n",
       "현지기압(hPa)       14514\n",
       "해면기압(hPa)       14514\n",
       "일조(hr)          15001\n",
       "일사(MJ/m2)       20261\n",
       "적설(cm)          22727\n",
       "3시간신적설(cm)      28455\n",
       "전운량(10분위)       16067\n",
       "중하층운량(10분위)     16081\n",
       "운형(운형약어)        20738\n",
       "최저운고(100m )     22252\n",
       "시정(10m)         16054\n",
       "지면상태(지면상태코드)        0\n",
       "현상번호(국내식)           0\n",
       "지면온도(°C)        18142\n",
       "dtype: int64"
      ]
     },
     "execution_count": 89,
     "metadata": {},
     "output_type": "execute_result"
    }
   ],
   "source": [
    "df.isnull().sum()"
   ]
  },
  {
   "cell_type": "code",
   "execution_count": 90,
   "metadata": {},
   "outputs": [
    {
     "data": {
      "text/plain": [
       "현상번호(국내식)\n",
       "              19422\n",
       "1               576\n",
       "10                8\n",
       "1005              7\n",
       "100601            2\n",
       "              ...  \n",
       "71704001          1\n",
       "7170401901        1\n",
       "7201              1\n",
       "8                10\n",
       "805               1\n",
       "Length: 112, dtype: int64"
      ]
     },
     "execution_count": 90,
     "metadata": {},
     "output_type": "execute_result"
    }
   ],
   "source": [
    "df.groupby('현상번호(국내식)').size()"
   ]
  },
  {
   "cell_type": "code",
   "execution_count": 91,
   "metadata": {},
   "outputs": [
    {
     "data": {
      "text/html": [
       "<div>\n",
       "<style scoped>\n",
       "    .dataframe tbody tr th:only-of-type {\n",
       "        vertical-align: middle;\n",
       "    }\n",
       "\n",
       "    .dataframe tbody tr th {\n",
       "        vertical-align: top;\n",
       "    }\n",
       "\n",
       "    .dataframe thead th {\n",
       "        text-align: right;\n",
       "    }\n",
       "</style>\n",
       "<table border=\"1\" class=\"dataframe\">\n",
       "  <thead>\n",
       "    <tr style=\"text-align: right;\">\n",
       "      <th></th>\n",
       "      <th>지점</th>\n",
       "      <th>지점명</th>\n",
       "      <th>일시</th>\n",
       "      <th>기온(°C)</th>\n",
       "      <th>강수량(mm)</th>\n",
       "      <th>풍속(m/s)</th>\n",
       "      <th>풍향(16방위)</th>\n",
       "      <th>습도(%)</th>\n",
       "      <th>증기압(hPa)</th>\n",
       "      <th>이슬점온도(°C)</th>\n",
       "      <th>...</th>\n",
       "      <th>적설(cm)</th>\n",
       "      <th>3시간신적설(cm)</th>\n",
       "      <th>전운량(10분위)</th>\n",
       "      <th>중하층운량(10분위)</th>\n",
       "      <th>운형(운형약어)</th>\n",
       "      <th>최저운고(100m )</th>\n",
       "      <th>시정(10m)</th>\n",
       "      <th>지면상태(지면상태코드)</th>\n",
       "      <th>현상번호(국내식)</th>\n",
       "      <th>지면온도(°C)</th>\n",
       "    </tr>\n",
       "  </thead>\n",
       "  <tbody>\n",
       "    <tr>\n",
       "      <td>0</td>\n",
       "      <td>100</td>\n",
       "      <td>대관령</td>\n",
       "      <td>2006-01-01 0:00</td>\n",
       "      <td>-5.7</td>\n",
       "      <td>NaN</td>\n",
       "      <td>4.2</td>\n",
       "      <td>270</td>\n",
       "      <td>96.0</td>\n",
       "      <td>3.6</td>\n",
       "      <td>-7.0</td>\n",
       "      <td>...</td>\n",
       "      <td>1.0</td>\n",
       "      <td>NaN</td>\n",
       "      <td>4.0</td>\n",
       "      <td>4.0</td>\n",
       "      <td>Sc</td>\n",
       "      <td>4.0</td>\n",
       "      <td>1200.0</td>\n",
       "      <td></td>\n",
       "      <td></td>\n",
       "      <td>NaN</td>\n",
       "    </tr>\n",
       "    <tr>\n",
       "      <td>1</td>\n",
       "      <td>100</td>\n",
       "      <td>대관령</td>\n",
       "      <td>2006-01-01 1:00</td>\n",
       "      <td>-5.4</td>\n",
       "      <td>NaN</td>\n",
       "      <td>5.0</td>\n",
       "      <td>270</td>\n",
       "      <td>97.0</td>\n",
       "      <td>NaN</td>\n",
       "      <td>NaN</td>\n",
       "      <td>...</td>\n",
       "      <td>NaN</td>\n",
       "      <td>NaN</td>\n",
       "      <td>NaN</td>\n",
       "      <td>NaN</td>\n",
       "      <td>NaN</td>\n",
       "      <td>NaN</td>\n",
       "      <td>NaN</td>\n",
       "      <td></td>\n",
       "      <td></td>\n",
       "      <td>NaN</td>\n",
       "    </tr>\n",
       "    <tr>\n",
       "      <td>2</td>\n",
       "      <td>100</td>\n",
       "      <td>대관령</td>\n",
       "      <td>2006-01-01 2:00</td>\n",
       "      <td>-5.3</td>\n",
       "      <td>NaN</td>\n",
       "      <td>6.8</td>\n",
       "      <td>270</td>\n",
       "      <td>96.0</td>\n",
       "      <td>NaN</td>\n",
       "      <td>NaN</td>\n",
       "      <td>...</td>\n",
       "      <td>NaN</td>\n",
       "      <td>NaN</td>\n",
       "      <td>NaN</td>\n",
       "      <td>NaN</td>\n",
       "      <td>NaN</td>\n",
       "      <td>NaN</td>\n",
       "      <td>NaN</td>\n",
       "      <td></td>\n",
       "      <td></td>\n",
       "      <td>NaN</td>\n",
       "    </tr>\n",
       "    <tr>\n",
       "      <td>3</td>\n",
       "      <td>100</td>\n",
       "      <td>대관령</td>\n",
       "      <td>2006-01-01 3:00</td>\n",
       "      <td>-5.1</td>\n",
       "      <td>NaN</td>\n",
       "      <td>7.3</td>\n",
       "      <td>270</td>\n",
       "      <td>95.0</td>\n",
       "      <td>3.8</td>\n",
       "      <td>-6.4</td>\n",
       "      <td>...</td>\n",
       "      <td>1.0</td>\n",
       "      <td>NaN</td>\n",
       "      <td>4.0</td>\n",
       "      <td>4.0</td>\n",
       "      <td>Sc</td>\n",
       "      <td>4.0</td>\n",
       "      <td>1200.0</td>\n",
       "      <td>16</td>\n",
       "      <td></td>\n",
       "      <td>-5.3</td>\n",
       "    </tr>\n",
       "    <tr>\n",
       "      <td>4</td>\n",
       "      <td>100</td>\n",
       "      <td>대관령</td>\n",
       "      <td>2006-01-01 4:00</td>\n",
       "      <td>-5.2</td>\n",
       "      <td>NaN</td>\n",
       "      <td>4.1</td>\n",
       "      <td>250</td>\n",
       "      <td>91.0</td>\n",
       "      <td>NaN</td>\n",
       "      <td>NaN</td>\n",
       "      <td>...</td>\n",
       "      <td>1.0</td>\n",
       "      <td>NaN</td>\n",
       "      <td>NaN</td>\n",
       "      <td>NaN</td>\n",
       "      <td>NaN</td>\n",
       "      <td>NaN</td>\n",
       "      <td>NaN</td>\n",
       "      <td></td>\n",
       "      <td></td>\n",
       "      <td>NaN</td>\n",
       "    </tr>\n",
       "  </tbody>\n",
       "</table>\n",
       "<p>5 rows × 24 columns</p>\n",
       "</div>"
      ],
      "text/plain": [
       "    지점  지점명               일시  기온(°C)  강수량(mm)  풍속(m/s)  풍향(16방위)  습도(%)  \\\n",
       "0  100  대관령  2006-01-01 0:00    -5.7      NaN      4.2       270   96.0   \n",
       "1  100  대관령  2006-01-01 1:00    -5.4      NaN      5.0       270   97.0   \n",
       "2  100  대관령  2006-01-01 2:00    -5.3      NaN      6.8       270   96.0   \n",
       "3  100  대관령  2006-01-01 3:00    -5.1      NaN      7.3       270   95.0   \n",
       "4  100  대관령  2006-01-01 4:00    -5.2      NaN      4.1       250   91.0   \n",
       "\n",
       "   증기압(hPa)  이슬점온도(°C)  ...  적설(cm)  3시간신적설(cm)  전운량(10분위)  중하층운량(10분위)  \\\n",
       "0       3.6       -7.0  ...     1.0         NaN        4.0          4.0   \n",
       "1       NaN        NaN  ...     NaN         NaN        NaN          NaN   \n",
       "2       NaN        NaN  ...     NaN         NaN        NaN          NaN   \n",
       "3       3.8       -6.4  ...     1.0         NaN        4.0          4.0   \n",
       "4       NaN        NaN  ...     1.0         NaN        NaN          NaN   \n",
       "\n",
       "   운형(운형약어)  최저운고(100m )  시정(10m)  지면상태(지면상태코드) 현상번호(국내식)  지면온도(°C)  \n",
       "0        Sc          4.0   1200.0                               NaN  \n",
       "1       NaN          NaN      NaN                               NaN  \n",
       "2       NaN          NaN      NaN                               NaN  \n",
       "3        Sc          4.0   1200.0            16                -5.3  \n",
       "4       NaN          NaN      NaN                               NaN  \n",
       "\n",
       "[5 rows x 24 columns]"
      ]
     },
     "execution_count": 91,
     "metadata": {},
     "output_type": "execute_result"
    }
   ],
   "source": [
    "df.head()"
   ]
  },
  {
   "cell_type": "markdown",
   "metadata": {},
   "source": [
    "### 결측치 처리: 숫자가 0인 것들이 데이터가 없는 경우들\n",
    "\n",
    "* 강수량(mm)이 확인 안 된 경우 \n",
    "* 일조(hr)이 확인 안 된 경우\n",
    "* 적설(cm)이 확인 안 된 경우\n",
    "* 3시간신적설(cm)이 확인 안 된 경우"
   ]
  },
  {
   "cell_type": "code",
   "execution_count": 92,
   "metadata": {},
   "outputs": [],
   "source": [
    "for col in ['강수량(mm)', '일조(hr)', '일사(MJ/m2)', '적설(cm)', '3시간신적설(cm)']:\n",
    "    df[col] = df[col].fillna(0)"
   ]
  },
  {
   "cell_type": "code",
   "execution_count": 93,
   "metadata": {},
   "outputs": [
    {
     "data": {
      "text/plain": [
       "강수량(mm)       0\n",
       "일조(hr)        0\n",
       "일사(MJ/m2)     0\n",
       "적설(cm)        0\n",
       "3시간신적설(cm)    0\n",
       "dtype: int64"
      ]
     },
     "execution_count": 93,
     "metadata": {},
     "output_type": "execute_result"
    }
   ],
   "source": [
    "df[['강수량(mm)', '일조(hr)', '일사(MJ/m2)','적설(cm)', '3시간신적설(cm)']].isnull().sum()"
   ]
  },
  {
   "cell_type": "code",
   "execution_count": 94,
   "metadata": {},
   "outputs": [],
   "source": [
    "df_copy = df.copy()"
   ]
  },
  {
   "cell_type": "markdown",
   "metadata": {},
   "source": [
    "### 결측치 처리: 주변값을 활용하여 비슷한 것으로 처리\n",
    "\n",
    "* 습도(%)\n",
    "* 3시간마다 측정하는 값들: 증기압(hPa), 이슬점온도(°C), 현지기압(hPa), 해면기압(hPa), 전운량(10분위), 중하층운량(10분위), 운형(운형약어),\n",
    "  최저운고(100m ), 시정(10m), 지면상태(지면상태코드), 지면온도(°C)"
   ]
  },
  {
   "cell_type": "code",
   "execution_count": 95,
   "metadata": {},
   "outputs": [],
   "source": [
    "IMPUTE_METHOD=['ffill', 'bfill']"
   ]
  },
  {
   "cell_type": "code",
   "execution_count": 96,
   "metadata": {},
   "outputs": [],
   "source": [
    "def impute_columns(df, cols, impute_methods):\n",
    "    if isinstance(cols, str):\n",
    "        cols = [cols]\n",
    "    if isinstance(impute_methods, str):\n",
    "        impute_methods = [impute_methods]\n",
    "    for col in cols:\n",
    "        if col not in df.columns:\n",
    "            print('cannot find such column: {}'.format(col))\n",
    "            continue\n",
    "            \n",
    "        for method in impute_methods:\n",
    "            before = df[col].isnull().sum()\n",
    "            if before > 0:\n",
    "                if method == 'ffill':\n",
    "                    df[col] = df[col].fillna(method='ffill')\n",
    "                    after = df[col].isnull().sum()\n",
    "                    print('** impute: {} column {} -> {}'.format(col, before, after))\n",
    "                elif method == 'bfill':\n",
    "                    df[col] = df[col].fillna(method='bfill')\n",
    "                    after = df[col].isnull().sum()\n",
    "                    print('** impute: {} column {} -> {}'.format(col, before, after))\n",
    "                elif method == 'linear_interpolate':\n",
    "                    df[col] = df[col].interpolate(method='linear')\n",
    "                    after = df[col].isnull().sum()\n",
    "                    print('** impute: {} column {} -> {}'.format(col, before, after))\n",
    "                else:\n",
    "                    print('cannot find such impute method')     "
   ]
  },
  {
   "cell_type": "code",
   "execution_count": 97,
   "metadata": {},
   "outputs": [
    {
     "name": "stdout",
     "output_type": "stream",
     "text": [
      "** impute: 습도(%) column 1 -> 0\n"
     ]
    }
   ],
   "source": [
    "impute_columns(df, ['습도(%)'], IMPUTE_METHOD)"
   ]
  },
  {
   "cell_type": "code",
   "execution_count": 98,
   "metadata": {},
   "outputs": [
    {
     "data": {
      "text/plain": [
       "0"
      ]
     },
     "execution_count": 98,
     "metadata": {},
     "output_type": "execute_result"
    }
   ],
   "source": [
    "df['습도(%)'].isnull().sum()"
   ]
  },
  {
   "cell_type": "code",
   "execution_count": 99,
   "metadata": {},
   "outputs": [
    {
     "name": "stdout",
     "output_type": "stream",
     "text": [
      "** impute: 증기압(hPa) column 14513 -> 0\n",
      "** impute: 이슬점온도(°C) column 14513 -> 0\n",
      "** impute: 현지기압(hPa) column 14514 -> 0\n",
      "** impute: 해면기압(hPa) column 14514 -> 0\n",
      "** impute: 전운량(10분위) column 16067 -> 0\n",
      "** impute: 중하층운량(10분위) column 16081 -> 0\n",
      "** impute: 운형(운형약어) column 20738 -> 0\n",
      "** impute: 최저운고(100m ) column 22252 -> 0\n",
      "** impute: 시정(10m) column 16054 -> 0\n",
      "** impute: 지면온도(°C) column 18142 -> 3\n",
      "** impute: 지면온도(°C) column 3 -> 0\n"
     ]
    }
   ],
   "source": [
    "impute_columns(df, ['증기압(hPa)', '이슬점온도(°C)', '현지기압(hPa)', '해면기압(hPa)', '전운량(10분위)', \n",
    "                    '중하층운량(10분위)', '운형(운형약어)', '최저운고(100m )', '시정(10m)', '지면상태(지면상태코드)', \n",
    "                    '지면온도(°C)'], IMPUTE_METHOD)"
   ]
  },
  {
   "cell_type": "code",
   "execution_count": 100,
   "metadata": {},
   "outputs": [
    {
     "data": {
      "text/plain": [
       "증기압(hPa)        0\n",
       "이슬점온도(°C)       0\n",
       "현지기압(hPa)       0\n",
       "해면기압(hPa)       0\n",
       "전운량(10분위)       0\n",
       "중하층운량(10분위)     0\n",
       "운형(운형약어)        0\n",
       "최저운고(100m )     0\n",
       "시정(10m)         0\n",
       "지면상태(지면상태코드)    0\n",
       "지면온도(°C)        0\n",
       "dtype: int64"
      ]
     },
     "execution_count": 100,
     "metadata": {},
     "output_type": "execute_result"
    }
   ],
   "source": [
    "df[['증기압(hPa)', '이슬점온도(°C)', '현지기압(hPa)', '해면기압(hPa)', '전운량(10분위)', \n",
    "   '중하층운량(10분위)', '운형(운형약어)', '최저운고(100m )', '시정(10m)', '지면상태(지면상태코드)', '지면온도(°C)']].isnull().sum()"
   ]
  },
  {
   "cell_type": "code",
   "execution_count": 101,
   "metadata": {},
   "outputs": [
    {
     "data": {
      "text/plain": [
       "지점              0\n",
       "지점명             0\n",
       "일시              0\n",
       "기온(°C)          0\n",
       "강수량(mm)         0\n",
       "풍속(m/s)         0\n",
       "풍향(16방위)        0\n",
       "습도(%)           0\n",
       "증기압(hPa)        0\n",
       "이슬점온도(°C)       0\n",
       "현지기압(hPa)       0\n",
       "해면기압(hPa)       0\n",
       "일조(hr)          0\n",
       "일사(MJ/m2)       0\n",
       "적설(cm)          0\n",
       "3시간신적설(cm)      0\n",
       "전운량(10분위)       0\n",
       "중하층운량(10분위)     0\n",
       "운형(운형약어)        0\n",
       "최저운고(100m )     0\n",
       "시정(10m)         0\n",
       "지면상태(지면상태코드)    0\n",
       "현상번호(국내식)       0\n",
       "지면온도(°C)        0\n",
       "dtype: int64"
      ]
     },
     "execution_count": 101,
     "metadata": {},
     "output_type": "execute_result"
    }
   ],
   "source": [
    "df.isnull().sum()"
   ]
  },
  {
   "cell_type": "markdown",
   "metadata": {},
   "source": [
    "### 현상번호(국내식)을 FZ_flag로 변환\n",
    "\n",
    "* 3, 7, 12 : 어는 비(Freezing Rain)\n",
    "* 15, 18 : 얼음침 "
   ]
  },
  {
   "cell_type": "code",
   "execution_count": 104,
   "metadata": {},
   "outputs": [],
   "source": [
    "def is_FZ_rain(x):\n",
    "    if pd.isna(x):\n",
    "        return 0\n",
    "    x = str(x)\n",
    "    if len(x) <= 2:\n",
    "        if x in ['3', '7', '12', '15', '18']:\n",
    "            return 1\n",
    "    else:\n",
    "        xx = [x[i:i+2] for i in range(0, len(x), 2)]\n",
    "        for x in xx:\n",
    "            if x in ['03', '07', '12', '15', '18']:\n",
    "                return 1\n",
    "    return 0"
   ]
  },
  {
   "cell_type": "code",
   "execution_count": 105,
   "metadata": {},
   "outputs": [],
   "source": [
    "df['FZ_flag'] = df['현상번호(국내식)'].map(is_FZ_rain)"
   ]
  },
  {
   "cell_type": "code",
   "execution_count": 106,
   "metadata": {},
   "outputs": [
    {
     "data": {
      "text/plain": [
       "FZ_flag\n",
       "0    28946\n",
       "1       69\n",
       "dtype: int64"
      ]
     },
     "execution_count": 106,
     "metadata": {},
     "output_type": "execute_result"
    }
   ],
   "source": [
    "df.groupby('FZ_flag').size()"
   ]
  },
  {
   "cell_type": "markdown",
   "metadata": {},
   "source": [
    "### ffill 방식으로 처리한 것을 저장\n",
    "\n",
    "* FZ_all_ffill.csv"
   ]
  },
  {
   "cell_type": "code",
   "execution_count": 107,
   "metadata": {},
   "outputs": [],
   "source": [
    "df.to_csv('FZ_Data/FZ_all_ffill.csv', index=False, encoding='euc-kr')"
   ]
  },
  {
   "cell_type": "markdown",
   "metadata": {},
   "source": [
    "### interpolate 사용"
   ]
  },
  {
   "cell_type": "code",
   "execution_count": 108,
   "metadata": {},
   "outputs": [
    {
     "data": {
      "text/plain": [
       "지점                  0\n",
       "지점명                 0\n",
       "일시                  0\n",
       "기온(°C)              0\n",
       "강수량(mm)             0\n",
       "풍속(m/s)             0\n",
       "풍향(16방위)            0\n",
       "습도(%)               1\n",
       "증기압(hPa)        14513\n",
       "이슬점온도(°C)       14513\n",
       "현지기압(hPa)       14514\n",
       "해면기압(hPa)       14514\n",
       "일조(hr)              0\n",
       "일사(MJ/m2)           0\n",
       "적설(cm)              0\n",
       "3시간신적설(cm)          0\n",
       "전운량(10분위)       16067\n",
       "중하층운량(10분위)     16081\n",
       "운형(운형약어)        20738\n",
       "최저운고(100m )     22252\n",
       "시정(10m)         16054\n",
       "지면상태(지면상태코드)        0\n",
       "현상번호(국내식)           0\n",
       "지면온도(°C)        18142\n",
       "dtype: int64"
      ]
     },
     "execution_count": 108,
     "metadata": {},
     "output_type": "execute_result"
    }
   ],
   "source": [
    "df_copy.isnull().sum()"
   ]
  },
  {
   "cell_type": "code",
   "execution_count": 109,
   "metadata": {},
   "outputs": [],
   "source": [
    "IMPUTE_METHOD='linear_interpolate'"
   ]
  },
  {
   "cell_type": "code",
   "execution_count": 110,
   "metadata": {},
   "outputs": [
    {
     "name": "stdout",
     "output_type": "stream",
     "text": [
      "** impute: 습도(%) column 1 -> 0\n"
     ]
    }
   ],
   "source": [
    "impute_columns(df_copy, ['습도(%)'], IMPUTE_METHOD)"
   ]
  },
  {
   "cell_type": "code",
   "execution_count": 111,
   "metadata": {},
   "outputs": [
    {
     "name": "stdout",
     "output_type": "stream",
     "text": [
      "** impute: 증기압(hPa) column 14513 -> 0\n",
      "** impute: 이슬점온도(°C) column 14513 -> 0\n",
      "** impute: 현지기압(hPa) column 14514 -> 0\n",
      "** impute: 해면기압(hPa) column 14514 -> 0\n",
      "** impute: 전운량(10분위) column 16067 -> 0\n",
      "** impute: 중하층운량(10분위) column 16081 -> 0\n",
      "** impute: 운형(운형약어) column 20738 -> 20738\n",
      "** impute: 최저운고(100m ) column 22252 -> 0\n",
      "** impute: 시정(10m) column 16054 -> 0\n",
      "** impute: 지면온도(°C) column 18142 -> 3\n"
     ]
    }
   ],
   "source": [
    "impute_columns(df_copy, ['증기압(hPa)', '이슬점온도(°C)', '현지기압(hPa)', '해면기압(hPa)', '전운량(10분위)', \n",
    "                    '중하층운량(10분위)', '운형(운형약어)', '최저운고(100m )', '시정(10m)', '지면상태(지면상태코드)', \n",
    "                    '지면온도(°C)'], IMPUTE_METHOD)"
   ]
  },
  {
   "cell_type": "code",
   "execution_count": 115,
   "metadata": {},
   "outputs": [
    {
     "data": {
      "text/plain": [
       "지점                  0\n",
       "지점명                 0\n",
       "일시                  0\n",
       "기온(°C)              0\n",
       "강수량(mm)             0\n",
       "풍속(m/s)             0\n",
       "풍향(16방위)            0\n",
       "습도(%)               0\n",
       "증기압(hPa)            0\n",
       "이슬점온도(°C)           0\n",
       "현지기압(hPa)           0\n",
       "해면기압(hPa)           0\n",
       "일조(hr)              0\n",
       "일사(MJ/m2)           0\n",
       "적설(cm)              0\n",
       "3시간신적설(cm)          0\n",
       "전운량(10분위)           0\n",
       "중하층운량(10분위)         0\n",
       "운형(운형약어)        20738\n",
       "최저운고(100m )         0\n",
       "시정(10m)             0\n",
       "지면상태(지면상태코드)        0\n",
       "현상번호(국내식)           0\n",
       "지면온도(°C)            3\n",
       "FZ_flag             0\n",
       "dtype: int64"
      ]
     },
     "execution_count": 115,
     "metadata": {},
     "output_type": "execute_result"
    }
   ],
   "source": [
    "df_copy.isnull().sum()"
   ]
  },
  {
   "cell_type": "markdown",
   "metadata": {},
   "source": [
    "### numeric type이 아닌 것은 interpolate가 동작하지 않음"
   ]
  },
  {
   "cell_type": "code",
   "execution_count": 116,
   "metadata": {},
   "outputs": [
    {
     "name": "stdout",
     "output_type": "stream",
     "text": [
      "** impute: 운형(운형약어) column 20738 -> 0\n"
     ]
    }
   ],
   "source": [
    "impute_columns(df_copy, ['운형(운형약어)'], ['ffill', 'bfill'])"
   ]
  },
  {
   "cell_type": "code",
   "execution_count": 120,
   "metadata": {},
   "outputs": [
    {
     "data": {
      "text/plain": [
       "지점              0\n",
       "지점명             0\n",
       "일시              0\n",
       "기온(°C)          0\n",
       "강수량(mm)         0\n",
       "풍속(m/s)         0\n",
       "풍향(16방위)        0\n",
       "습도(%)           0\n",
       "증기압(hPa)        0\n",
       "이슬점온도(°C)       0\n",
       "현지기압(hPa)       0\n",
       "해면기압(hPa)       0\n",
       "일조(hr)          0\n",
       "일사(MJ/m2)       0\n",
       "적설(cm)          0\n",
       "3시간신적설(cm)      0\n",
       "전운량(10분위)       0\n",
       "중하층운량(10분위)     0\n",
       "운형(운형약어)        0\n",
       "최저운고(100m )     0\n",
       "시정(10m)         0\n",
       "지면상태(지면상태코드)    0\n",
       "현상번호(국내식)       0\n",
       "지면온도(°C)        3\n",
       "FZ_flag         0\n",
       "dtype: int64"
      ]
     },
     "execution_count": 120,
     "metadata": {},
     "output_type": "execute_result"
    }
   ],
   "source": [
    "df_copy.isnull().sum()"
   ]
  },
  {
   "cell_type": "code",
   "execution_count": 121,
   "metadata": {},
   "outputs": [
    {
     "name": "stdout",
     "output_type": "stream",
     "text": [
      "** impute: 지면온도(°C) column 3 -> 3\n",
      "** impute: 지면온도(°C) column 3 -> 0\n"
     ]
    }
   ],
   "source": [
    "impute_columns(df_copy, ['지면온도(°C)'], ['ffill', 'bfill'])"
   ]
  },
  {
   "cell_type": "code",
   "execution_count": 122,
   "metadata": {},
   "outputs": [
    {
     "data": {
      "text/plain": [
       "지점              0\n",
       "지점명             0\n",
       "일시              0\n",
       "기온(°C)          0\n",
       "강수량(mm)         0\n",
       "풍속(m/s)         0\n",
       "풍향(16방위)        0\n",
       "습도(%)           0\n",
       "증기압(hPa)        0\n",
       "이슬점온도(°C)       0\n",
       "현지기압(hPa)       0\n",
       "해면기압(hPa)       0\n",
       "일조(hr)          0\n",
       "일사(MJ/m2)       0\n",
       "적설(cm)          0\n",
       "3시간신적설(cm)      0\n",
       "전운량(10분위)       0\n",
       "중하층운량(10분위)     0\n",
       "운형(운형약어)        0\n",
       "최저운고(100m )     0\n",
       "시정(10m)         0\n",
       "지면상태(지면상태코드)    0\n",
       "현상번호(국내식)       0\n",
       "지면온도(°C)        0\n",
       "FZ_flag         0\n",
       "dtype: int64"
      ]
     },
     "execution_count": 122,
     "metadata": {},
     "output_type": "execute_result"
    }
   ],
   "source": [
    "df_copy.isnull().sum()"
   ]
  },
  {
   "cell_type": "code",
   "execution_count": 117,
   "metadata": {},
   "outputs": [],
   "source": [
    "df_copy['FZ_flag'] = df_copy['현상번호(국내식)'].map(is_FZ_rain)"
   ]
  },
  {
   "cell_type": "code",
   "execution_count": 118,
   "metadata": {},
   "outputs": [
    {
     "data": {
      "text/plain": [
       "FZ_flag\n",
       "0    28946\n",
       "1       69\n",
       "dtype: int64"
      ]
     },
     "execution_count": 118,
     "metadata": {},
     "output_type": "execute_result"
    }
   ],
   "source": [
    "df_copy.groupby('FZ_flag').size()"
   ]
  },
  {
   "cell_type": "code",
   "execution_count": 123,
   "metadata": {},
   "outputs": [],
   "source": [
    "df_copy.to_csv('FZ_Data/FZ_all_interpolate.csv', index=False, encoding='euc-kr')"
   ]
  },
  {
   "cell_type": "code",
   "execution_count": null,
   "metadata": {},
   "outputs": [],
   "source": []
  },
  {
   "cell_type": "markdown",
   "metadata": {},
   "source": [
    "### Test codes"
   ]
  },
  {
   "cell_type": "code",
   "execution_count": 244,
   "metadata": {},
   "outputs": [
    {
     "data": {
      "text/plain": [
       "0    3.6\n",
       "1    NaN\n",
       "2    NaN\n",
       "3    3.8\n",
       "4    NaN\n",
       "5    NaN\n",
       "6    3.8\n",
       "7    NaN\n",
       "8    NaN\n",
       "9    3.8\n",
       "Name: 증기압(hPa), dtype: float64"
      ]
     },
     "execution_count": 244,
     "metadata": {},
     "output_type": "execute_result"
    }
   ],
   "source": [
    "df['증기압(hPa)'].head(10)"
   ]
  },
  {
   "cell_type": "code",
   "execution_count": null,
   "metadata": {},
   "outputs": [],
   "source": []
  },
  {
   "cell_type": "code",
   "execution_count": 245,
   "metadata": {},
   "outputs": [],
   "source": [
    "#df['증기압(hPa)'] = df['증기압(hPa)'].interpolate(method='linear')\n",
    "df['증기압(hPa)'] = df['증기압(hPa)'].fillna(method='ffill')"
   ]
  },
  {
   "cell_type": "code",
   "execution_count": 246,
   "metadata": {},
   "outputs": [
    {
     "data": {
      "text/plain": [
       "0    3.600000\n",
       "1    3.666667\n",
       "2    3.733333\n",
       "3    3.800000\n",
       "4    3.800000\n",
       "5    3.800000\n",
       "6    3.800000\n",
       "7    3.800000\n",
       "8    3.800000\n",
       "9    3.800000\n",
       "Name: 증기압(hPa), dtype: float64"
      ]
     },
     "execution_count": 246,
     "metadata": {},
     "output_type": "execute_result"
    }
   ],
   "source": [
    "df['증기압(hPa)'].head(10)"
   ]
  },
  {
   "cell_type": "code",
   "execution_count": 247,
   "metadata": {},
   "outputs": [
    {
     "data": {
      "text/plain": [
       "0    1200.0\n",
       "1       NaN\n",
       "2       NaN\n",
       "3    1200.0\n",
       "4       NaN\n",
       "5       NaN\n",
       "6    1200.0\n",
       "7       NaN\n",
       "8       NaN\n",
       "9    1000.0\n",
       "Name: 시정(10m), dtype: float64"
      ]
     },
     "execution_count": 247,
     "metadata": {},
     "output_type": "execute_result"
    }
   ],
   "source": [
    "df['시정(10m)'].head(10)"
   ]
  },
  {
   "cell_type": "code",
   "execution_count": 248,
   "metadata": {},
   "outputs": [],
   "source": [
    "df['시정(10m)'] = df['시정(10m)'].interpolate(method='linear')"
   ]
  },
  {
   "cell_type": "code",
   "execution_count": 249,
   "metadata": {},
   "outputs": [
    {
     "data": {
      "text/plain": [
       "0    1200.000000\n",
       "1    1200.000000\n",
       "2    1200.000000\n",
       "3    1200.000000\n",
       "4    1200.000000\n",
       "5    1200.000000\n",
       "6    1200.000000\n",
       "7    1133.333333\n",
       "8    1066.666667\n",
       "9    1000.000000\n",
       "Name: 시정(10m), dtype: float64"
      ]
     },
     "execution_count": 249,
     "metadata": {},
     "output_type": "execute_result"
    }
   ],
   "source": [
    "df['시정(10m)'].head(10)"
   ]
  },
  {
   "cell_type": "code",
   "execution_count": 251,
   "metadata": {},
   "outputs": [
    {
     "data": {
      "text/plain": [
       "0      NaN\n",
       "1      NaN\n",
       "2      NaN\n",
       "3      NaN\n",
       "4      NaN\n",
       "5      NaN\n",
       "6      NaN\n",
       "7      NaN\n",
       "8     0.00\n",
       "9     0.12\n",
       "10    0.42\n",
       "11    0.31\n",
       "12    0.36\n",
       "13    0.56\n",
       "14    0.47\n",
       "15    0.64\n",
       "16    0.64\n",
       "17    0.15\n",
       "18    0.01\n",
       "19     NaN\n",
       "Name: 일사(MJ/m2), dtype: float64"
      ]
     },
     "execution_count": 251,
     "metadata": {},
     "output_type": "execute_result"
    }
   ],
   "source": [
    "df['일사(MJ/m2)'].head(20)"
   ]
  },
  {
   "cell_type": "code",
   "execution_count": 252,
   "metadata": {},
   "outputs": [],
   "source": [
    "df['일사(MJ/m2)'] = df['일사(MJ/m2)'].fillna(0)"
   ]
  },
  {
   "cell_type": "code",
   "execution_count": 253,
   "metadata": {},
   "outputs": [
    {
     "data": {
      "text/plain": [
       "0     0.00\n",
       "1     0.00\n",
       "2     0.00\n",
       "3     0.00\n",
       "4     0.00\n",
       "5     0.00\n",
       "6     0.00\n",
       "7     0.00\n",
       "8     0.00\n",
       "9     0.12\n",
       "10    0.42\n",
       "11    0.31\n",
       "12    0.36\n",
       "13    0.56\n",
       "14    0.47\n",
       "15    0.64\n",
       "16    0.64\n",
       "17    0.15\n",
       "18    0.01\n",
       "19    0.00\n",
       "Name: 일사(MJ/m2), dtype: float64"
      ]
     },
     "execution_count": 253,
     "metadata": {},
     "output_type": "execute_result"
    }
   ],
   "source": [
    "df['일사(MJ/m2)'].head(20)"
   ]
  },
  {
   "cell_type": "code",
   "execution_count": 254,
   "metadata": {},
   "outputs": [
    {
     "data": {
      "text/plain": [
       "0    NaN\n",
       "1    NaN\n",
       "2    NaN\n",
       "3    NaN\n",
       "4    NaN\n",
       "5    NaN\n",
       "6    NaN\n",
       "7    NaN\n",
       "8    NaN\n",
       "9    NaN\n",
       "10   NaN\n",
       "11   NaN\n",
       "12   NaN\n",
       "13   NaN\n",
       "14   NaN\n",
       "15   NaN\n",
       "16   NaN\n",
       "17   NaN\n",
       "18   NaN\n",
       "19   NaN\n",
       "Name: 3시간신적설(cm), dtype: float64"
      ]
     },
     "execution_count": 254,
     "metadata": {},
     "output_type": "execute_result"
    }
   ],
   "source": [
    "df['3시간신적설(cm)'].head(20)"
   ]
  },
  {
   "cell_type": "code",
   "execution_count": 256,
   "metadata": {},
   "outputs": [
    {
     "data": {
      "text/plain": [
       "운형(운형약어)\n",
       "Ac         133\n",
       "AcCc         1\n",
       "AcCi       161\n",
       "AcCs        10\n",
       "As         189\n",
       "AsCi         6\n",
       "AsCs         3\n",
       "CbNs         4\n",
       "CbStNs       2\n",
       "Cc           1\n",
       "CcCi         1\n",
       "Ci        1669\n",
       "Cs          80\n",
       "CsCi         3\n",
       "Cu           5\n",
       "CuCi         2\n",
       "CuCs         1\n",
       "CuNs         2\n",
       "CuSc         2\n",
       "Sc        2979\n",
       "ScAc       146\n",
       "ScAcCi      30\n",
       "ScAcCs       2\n",
       "ScAs      1068\n",
       "ScAsCs       1\n",
       "ScCc         1\n",
       "ScCi       380\n",
       "ScCs        14\n",
       "ScNs        64\n",
       "St         179\n",
       "StAc         5\n",
       "StAcCi       1\n",
       "StAs       138\n",
       "StCi         5\n",
       "StNs       981\n",
       "StSc         3\n",
       "StScAs       3\n",
       "StScCi       1\n",
       "StScNs       1\n",
       "dtype: int64"
      ]
     },
     "execution_count": 256,
     "metadata": {},
     "output_type": "execute_result"
    }
   ],
   "source": [
    "dfdf.groupby(['운형(운형약어)']).size()"
   ]
  },
  {
   "cell_type": "code",
   "execution_count": 258,
   "metadata": {},
   "outputs": [
    {
     "data": {
      "text/plain": [
       "0       Sc\n",
       "1      NaN\n",
       "2      NaN\n",
       "3       Sc\n",
       "4      NaN\n",
       "5      NaN\n",
       "6       Sc\n",
       "7      NaN\n",
       "8      NaN\n",
       "9       Sc\n",
       "10     NaN\n",
       "11     NaN\n",
       "12    StAs\n",
       "13     NaN\n",
       "14     NaN\n",
       "15    StAs\n",
       "16     NaN\n",
       "17     NaN\n",
       "18    StAs\n",
       "19     NaN\n",
       "Name: 운형(운형약어), dtype: object"
      ]
     },
     "execution_count": 258,
     "metadata": {},
     "output_type": "execute_result"
    }
   ],
   "source": [
    "df['운형(운형약어)'].head(20)"
   ]
  },
  {
   "cell_type": "code",
   "execution_count": 259,
   "metadata": {},
   "outputs": [],
   "source": [
    "df['운형(운형약어)'] = df['운형(운형약어)'].fillna(method='ffill')"
   ]
  },
  {
   "cell_type": "code",
   "execution_count": 266,
   "metadata": {},
   "outputs": [
    {
     "data": {
      "text/plain": [
       "0"
      ]
     },
     "execution_count": 266,
     "metadata": {},
     "output_type": "execute_result"
    }
   ],
   "source": [
    "df['운형(운형약어)'].isnull().sum()"
   ]
  },
  {
   "cell_type": "code",
   "execution_count": 260,
   "metadata": {},
   "outputs": [
    {
     "data": {
      "text/plain": [
       "0       Sc\n",
       "1       Sc\n",
       "2       Sc\n",
       "3       Sc\n",
       "4       Sc\n",
       "5       Sc\n",
       "6       Sc\n",
       "7       Sc\n",
       "8       Sc\n",
       "9       Sc\n",
       "10      Sc\n",
       "11      Sc\n",
       "12    StAs\n",
       "13    StAs\n",
       "14    StAs\n",
       "15    StAs\n",
       "16    StAs\n",
       "17    StAs\n",
       "18    StAs\n",
       "19    StAs\n",
       "Name: 운형(운형약어), dtype: object"
      ]
     },
     "execution_count": 260,
     "metadata": {},
     "output_type": "execute_result"
    }
   ],
   "source": [
    "df['운형(운형약어)'].head(20)"
   ]
  },
  {
   "cell_type": "code",
   "execution_count": 261,
   "metadata": {},
   "outputs": [
    {
     "data": {
      "text/plain": [
       "0     NaN\n",
       "1     NaN\n",
       "2     NaN\n",
       "3      16\n",
       "4     NaN\n",
       "5     NaN\n",
       "6     NaN\n",
       "7     NaN\n",
       "8     NaN\n",
       "9      16\n",
       "10    NaN\n",
       "11    NaN\n",
       "12    NaN\n",
       "13    NaN\n",
       "14    NaN\n",
       "15     16\n",
       "16    NaN\n",
       "17    NaN\n",
       "18    NaN\n",
       "19    NaN\n",
       "Name: 지면상태(지면상태코드), dtype: object"
      ]
     },
     "execution_count": 261,
     "metadata": {},
     "output_type": "execute_result"
    }
   ],
   "source": [
    "df['지면상태(지면상태코드)'].head(20)"
   ]
  },
  {
   "cell_type": "code",
   "execution_count": 262,
   "metadata": {},
   "outputs": [],
   "source": [
    "df['지면상태(지면상태코드)'] = df['지면상태(지면상태코드)'].fillna(method='ffill')"
   ]
  },
  {
   "cell_type": "code",
   "execution_count": 265,
   "metadata": {},
   "outputs": [
    {
     "data": {
      "text/plain": [
       "3"
      ]
     },
     "execution_count": 265,
     "metadata": {},
     "output_type": "execute_result"
    }
   ],
   "source": [
    "df['지면상태(지면상태코드)'].isnull().sum()"
   ]
  },
  {
   "cell_type": "code",
   "execution_count": 264,
   "metadata": {},
   "outputs": [
    {
     "data": {
      "text/plain": [
       "(0     NaN\n",
       " 1     NaN\n",
       " 2     NaN\n",
       " 3      16\n",
       " 4      16\n",
       " 5      16\n",
       " 6      16\n",
       " 7      16\n",
       " 8      16\n",
       " 9      16\n",
       " 10     16\n",
       " 11     16\n",
       " 12     16\n",
       " 13     16\n",
       " 14     16\n",
       " 15     16\n",
       " 16     16\n",
       " 17     16\n",
       " 18     16\n",
       " 19     16\n",
       " Name: 지면상태(지면상태코드), dtype: object, 3)"
      ]
     },
     "execution_count": 264,
     "metadata": {},
     "output_type": "execute_result"
    }
   ],
   "source": [
    "df['지면상태(지면상태코드)'].head(20)"
   ]
  },
  {
   "cell_type": "code",
   "execution_count": 267,
   "metadata": {},
   "outputs": [],
   "source": [
    "df['지면상태(지면상태코드)'] = df['지면상태(지면상태코드)'].fillna(method='bfill')"
   ]
  },
  {
   "cell_type": "code",
   "execution_count": 268,
   "metadata": {},
   "outputs": [
    {
     "data": {
      "text/plain": [
       "0"
      ]
     },
     "execution_count": 268,
     "metadata": {},
     "output_type": "execute_result"
    }
   ],
   "source": [
    "df['지면상태(지면상태코드)'].isnull().sum()"
   ]
  },
  {
   "cell_type": "code",
   "execution_count": 269,
   "metadata": {},
   "outputs": [
    {
     "data": {
      "text/plain": [
       "0    -7.0\n",
       "1     NaN\n",
       "2     NaN\n",
       "3    -6.4\n",
       "4     NaN\n",
       "5     NaN\n",
       "6    -6.4\n",
       "7     NaN\n",
       "8     NaN\n",
       "9    -6.4\n",
       "10    NaN\n",
       "11    NaN\n",
       "12   -5.8\n",
       "13    NaN\n",
       "14    NaN\n",
       "15   -6.6\n",
       "16    NaN\n",
       "17    NaN\n",
       "18   -7.1\n",
       "19    NaN\n",
       "Name: 이슬점온도(°C), dtype: float64"
      ]
     },
     "execution_count": 269,
     "metadata": {},
     "output_type": "execute_result"
    }
   ],
   "source": [
    "df['이슬점온도(°C)'].head(20)"
   ]
  },
  {
   "cell_type": "code",
   "execution_count": null,
   "metadata": {},
   "outputs": [],
   "source": [
    "IMPUTE_METHOD=['ffill', 'bfill']"
   ]
  },
  {
   "cell_type": "code",
   "execution_count": 276,
   "metadata": {},
   "outputs": [],
   "source": [
    "def impute_columns(dataframes, cols, impute_methods):\n",
    "    if isinstance(cols, str):\n",
    "        cols = [cols]\n",
    "    if isinstance(impute_methods, str):\n",
    "        impute_methods = [impute_methods]\n",
    "    for col in cols:\n",
    "        if col not in dataframes.columns:\n",
    "            print('cannot find such column: {}'.format(col))\n",
    "            continue\n",
    "            \n",
    "        for method in impute_methods:\n",
    "            before = dataframes[col].isnull().sum()\n",
    "            if before > 0:\n",
    "                if method == 'ffill':\n",
    "                    dataframes[col] = dataframes[col].fillna(method='ffill')\n",
    "                    after = dataframes[col].isnull().sum()\n",
    "                    print('** impute: {} column {} -> {}'.format(col, before, after))\n",
    "                elif method == 'bfill':\n",
    "                    dataframes[col] = dataframes[col].fillna(method='bfill')\n",
    "                    after = dataframes[col].isnull().sum()\n",
    "                    print('** impute: {} column {} -> {}'.format(col, before, after))\n",
    "                elif method == 'linear_interpolate':\n",
    "                    dataframes[col] = dataframes[col].interpolate(method='linear')\n",
    "                    after = dataframes[col].isnull().sum()\n",
    "                    print('** impute: {} column {} -> {}'.format(col, before, after))\n",
    "                else:\n",
    "                    print('cannot find such impute method')                "
   ]
  },
  {
   "cell_type": "code",
   "execution_count": 277,
   "metadata": {},
   "outputs": [],
   "source": [
    "impute_columns(df, ['이슬점온도(°C)'], ['ffill', 'bfill'])"
   ]
  },
  {
   "cell_type": "code",
   "execution_count": 278,
   "metadata": {},
   "outputs": [
    {
     "data": {
      "text/plain": [
       "0"
      ]
     },
     "execution_count": 278,
     "metadata": {},
     "output_type": "execute_result"
    }
   ],
   "source": [
    "df['이슬점온도(°C)'].isnull().sum()"
   ]
  },
  {
   "cell_type": "code",
   "execution_count": 280,
   "metadata": {},
   "outputs": [
    {
     "name": "stdout",
     "output_type": "stream",
     "text": [
      "** impute: 해면기압(hPa) column 14514 -> 0\n"
     ]
    }
   ],
   "source": [
    "impute_columns(df, '해면기압(hPa)', 'linear_interpolate')"
   ]
  },
  {
   "cell_type": "code",
   "execution_count": 168,
   "metadata": {},
   "outputs": [],
   "source": [
    "for col in ['이슬점온도(°C)', '현지기압(hPa)', '해면기압(hPa)']:\n",
    "    df[col] = df[col].fillna(method='ffill')"
   ]
  },
  {
   "cell_type": "code",
   "execution_count": 169,
   "metadata": {},
   "outputs": [],
   "source": [
    "for col in ['지면온도(°C)', '전운량(10분위)', '중하층운량(10분위)', '최저운고(100m )']:\n",
    "    #df[col] = df[col].fillna(method='ffill')\n",
    "    df[col] = df[col].interpolate(method='linear')"
   ]
  },
  {
   "cell_type": "code",
   "execution_count": 170,
   "metadata": {},
   "outputs": [
    {
     "data": {
      "text/plain": [
       "지점                  0\n",
       "지점명                 0\n",
       "일시                  0\n",
       "기온(°C)              0\n",
       "강수량(mm)             0\n",
       "풍속(m/s)             0\n",
       "풍향(16방위)            0\n",
       "습도(%)               0\n",
       "증기압(hPa)            0\n",
       "이슬점온도(°C)           0\n",
       "현지기압(hPa)           0\n",
       "해면기압(hPa)           0\n",
       "일조(hr)              0\n",
       "일사(MJ/m2)           8\n",
       "적설(cm)              0\n",
       "3시간신적설(cm)        219\n",
       "전운량(10분위)           0\n",
       "중하층운량(10분위)         0\n",
       "운형(운형약어)        20738\n",
       "최저운고(100m )         0\n",
       "시정(10m)             0\n",
       "지면상태(지면상태코드)    24171\n",
       "현상번호(국내식)       19422\n",
       "지면온도(°C)            3\n",
       "dtype: int64"
      ]
     },
     "execution_count": 170,
     "metadata": {},
     "output_type": "execute_result"
    }
   ],
   "source": [
    "df.isnull().sum()"
   ]
  },
  {
   "cell_type": "code",
   "execution_count": 171,
   "metadata": {},
   "outputs": [],
   "source": [
    "for col in ['일사(MJ/m2)', '3시간신적설(cm)', '지면상태(지면상태코드)', '지면온도(°C)']:\n",
    "    df[col] = df[col].fillna(method='bfill')"
   ]
  },
  {
   "cell_type": "code",
   "execution_count": 172,
   "metadata": {},
   "outputs": [
    {
     "data": {
      "text/plain": [
       "현상번호(국내식)\n",
       "1             576\n",
       "10              8\n",
       "1005            7\n",
       "100601          2\n",
       "1105            2\n",
       "             ... \n",
       "71704001        1\n",
       "7170401901      1\n",
       "7201            1\n",
       "8              10\n",
       "805             1\n",
       "Length: 111, dtype: int64"
      ]
     },
     "execution_count": 172,
     "metadata": {},
     "output_type": "execute_result"
    }
   ],
   "source": [
    "df.groupby(['현상번호(국내식)']).size()"
   ]
  },
  {
   "cell_type": "code",
   "execution_count": 173,
   "metadata": {},
   "outputs": [],
   "source": [
    "def is_fzrain(x):\n",
    "    if pd.isna(x):\n",
    "        return 0\n",
    "    x = str(x)\n",
    "    if len(x) <= 2:\n",
    "        if x in ['3', '7', '12', '15', '18']:\n",
    "            return 1\n",
    "    else:\n",
    "        xx = [x[i:i+2] for i in range(0, len(x), 2)]\n",
    "        for x in xx:\n",
    "            if x in ['03', '07', '12', '15', '18']:\n",
    "                return 1\n",
    "    return 0"
   ]
  },
  {
   "cell_type": "code",
   "execution_count": 174,
   "metadata": {},
   "outputs": [
    {
     "data": {
      "text/plain": [
       "0"
      ]
     },
     "execution_count": 174,
     "metadata": {},
     "output_type": "execute_result"
    }
   ],
   "source": [
    "is_fzrain('1')"
   ]
  },
  {
   "cell_type": "code",
   "execution_count": 175,
   "metadata": {},
   "outputs": [
    {
     "data": {
      "text/plain": [
       "(1, 0)"
      ]
     },
     "execution_count": 175,
     "metadata": {},
     "output_type": "execute_result"
    }
   ],
   "source": [
    "is_fzrain('3'), is_fzrain('03')"
   ]
  },
  {
   "cell_type": "code",
   "execution_count": 176,
   "metadata": {},
   "outputs": [
    {
     "data": {
      "text/plain": [
       "(1, 1)"
      ]
     },
     "execution_count": 176,
     "metadata": {},
     "output_type": "execute_result"
    }
   ],
   "source": [
    "is_fzrain('12'), is_fzrain('7112401901')"
   ]
  },
  {
   "cell_type": "code",
   "execution_count": 177,
   "metadata": {},
   "outputs": [],
   "source": [
    "df['FZ_flag'] = df['현상번호(국내식)'].map(is_fzrain)"
   ]
  },
  {
   "cell_type": "code",
   "execution_count": 178,
   "metadata": {},
   "outputs": [
    {
     "data": {
      "text/plain": [
       "FZ_flag\n",
       "0    28946\n",
       "1       69\n",
       "dtype: int64"
      ]
     },
     "execution_count": 178,
     "metadata": {},
     "output_type": "execute_result"
    }
   ],
   "source": [
    "df.groupby(['FZ_flag']).size()"
   ]
  },
  {
   "cell_type": "code",
   "execution_count": 180,
   "metadata": {},
   "outputs": [],
   "source": [
    "df.to_csv('FZ_Data/FZ_all2.csv', index=False, encoding='euc-kr')"
   ]
  },
  {
   "cell_type": "code",
   "execution_count": 181,
   "metadata": {},
   "outputs": [
    {
     "data": {
      "text/html": [
       "<div>\n",
       "<style scoped>\n",
       "    .dataframe tbody tr th:only-of-type {\n",
       "        vertical-align: middle;\n",
       "    }\n",
       "\n",
       "    .dataframe tbody tr th {\n",
       "        vertical-align: top;\n",
       "    }\n",
       "\n",
       "    .dataframe thead th {\n",
       "        text-align: right;\n",
       "    }\n",
       "</style>\n",
       "<table border=\"1\" class=\"dataframe\">\n",
       "  <thead>\n",
       "    <tr style=\"text-align: right;\">\n",
       "      <th></th>\n",
       "      <th>기온(°C)</th>\n",
       "      <th>강수량(mm)</th>\n",
       "      <th>풍속(m/s)</th>\n",
       "      <th>풍향(16방위)</th>\n",
       "      <th>습도(%)</th>\n",
       "      <th>증기압(hPa)</th>\n",
       "      <th>이슬점온도(°C)</th>\n",
       "      <th>현지기압(hPa)</th>\n",
       "      <th>해면기압(hPa)</th>\n",
       "      <th>일조(hr)</th>\n",
       "      <th>일사(MJ/m2)</th>\n",
       "      <th>적설(cm)</th>\n",
       "      <th>3시간신적설(cm)</th>\n",
       "      <th>전운량(10분위)</th>\n",
       "      <th>중하층운량(10분위)</th>\n",
       "      <th>최저운고(100m )</th>\n",
       "      <th>시정(10m)</th>\n",
       "      <th>지면온도(°C)</th>\n",
       "      <th>FZ_flag</th>\n",
       "    </tr>\n",
       "  </thead>\n",
       "  <tbody>\n",
       "    <tr>\n",
       "      <td>count</td>\n",
       "      <td>29015.000000</td>\n",
       "      <td>29015.000000</td>\n",
       "      <td>29015.000000</td>\n",
       "      <td>29015.000000</td>\n",
       "      <td>29015.000000</td>\n",
       "      <td>29015.000000</td>\n",
       "      <td>29015.000000</td>\n",
       "      <td>29015.000000</td>\n",
       "      <td>29015.000000</td>\n",
       "      <td>29015.000000</td>\n",
       "      <td>29015.000000</td>\n",
       "      <td>29015.000000</td>\n",
       "      <td>29015.000000</td>\n",
       "      <td>29015.000000</td>\n",
       "      <td>29015.000000</td>\n",
       "      <td>29015.000000</td>\n",
       "      <td>29015.000000</td>\n",
       "      <td>29015.000000</td>\n",
       "      <td>29015.000000</td>\n",
       "    </tr>\n",
       "    <tr>\n",
       "      <td>mean</td>\n",
       "      <td>-0.226562</td>\n",
       "      <td>0.047317</td>\n",
       "      <td>2.738394</td>\n",
       "      <td>195.293469</td>\n",
       "      <td>63.176364</td>\n",
       "      <td>4.033472</td>\n",
       "      <td>-7.423405</td>\n",
       "      <td>972.539890</td>\n",
       "      <td>1022.459480</td>\n",
       "      <td>0.237577</td>\n",
       "      <td>0.277348</td>\n",
       "      <td>2.241151</td>\n",
       "      <td>0.472886</td>\n",
       "      <td>4.210495</td>\n",
       "      <td>2.775427</td>\n",
       "      <td>10.222247</td>\n",
       "      <td>1249.360951</td>\n",
       "      <td>0.829071</td>\n",
       "      <td>0.002378</td>\n",
       "    </tr>\n",
       "    <tr>\n",
       "      <td>std</td>\n",
       "      <td>6.622321</td>\n",
       "      <td>0.464496</td>\n",
       "      <td>2.406592</td>\n",
       "      <td>115.410034</td>\n",
       "      <td>21.600016</td>\n",
       "      <td>2.228360</td>\n",
       "      <td>7.508438</td>\n",
       "      <td>36.958702</td>\n",
       "      <td>6.466127</td>\n",
       "      <td>0.398648</td>\n",
       "      <td>0.588484</td>\n",
       "      <td>6.795927</td>\n",
       "      <td>0.854326</td>\n",
       "      <td>3.865776</td>\n",
       "      <td>3.183531</td>\n",
       "      <td>7.940813</td>\n",
       "      <td>611.475860</td>\n",
       "      <td>5.953886</td>\n",
       "      <td>0.048708</td>\n",
       "    </tr>\n",
       "    <tr>\n",
       "      <td>min</td>\n",
       "      <td>-26.200000</td>\n",
       "      <td>0.000000</td>\n",
       "      <td>0.000000</td>\n",
       "      <td>0.000000</td>\n",
       "      <td>0.000000</td>\n",
       "      <td>0.500000</td>\n",
       "      <td>-30.000000</td>\n",
       "      <td>903.300000</td>\n",
       "      <td>993.000000</td>\n",
       "      <td>0.000000</td>\n",
       "      <td>0.000000</td>\n",
       "      <td>0.000000</td>\n",
       "      <td>0.000000</td>\n",
       "      <td>0.000000</td>\n",
       "      <td>0.000000</td>\n",
       "      <td>0.000000</td>\n",
       "      <td>3.000000</td>\n",
       "      <td>-25.000000</td>\n",
       "      <td>0.000000</td>\n",
       "    </tr>\n",
       "    <tr>\n",
       "      <td>25%</td>\n",
       "      <td>-4.500000</td>\n",
       "      <td>0.000000</td>\n",
       "      <td>0.900000</td>\n",
       "      <td>70.000000</td>\n",
       "      <td>46.000000</td>\n",
       "      <td>2.300000</td>\n",
       "      <td>-12.700000</td>\n",
       "      <td>929.900000</td>\n",
       "      <td>1018.400000</td>\n",
       "      <td>0.000000</td>\n",
       "      <td>0.010000</td>\n",
       "      <td>0.000000</td>\n",
       "      <td>0.000000</td>\n",
       "      <td>0.000000</td>\n",
       "      <td>0.000000</td>\n",
       "      <td>4.000000</td>\n",
       "      <td>800.000000</td>\n",
       "      <td>-2.591667</td>\n",
       "      <td>0.000000</td>\n",
       "    </tr>\n",
       "    <tr>\n",
       "      <td>50%</td>\n",
       "      <td>-0.200000</td>\n",
       "      <td>0.000000</td>\n",
       "      <td>2.200000</td>\n",
       "      <td>250.000000</td>\n",
       "      <td>65.000000</td>\n",
       "      <td>3.700000</td>\n",
       "      <td>-6.800000</td>\n",
       "      <td>990.900000</td>\n",
       "      <td>1022.800000</td>\n",
       "      <td>0.000000</td>\n",
       "      <td>0.010000</td>\n",
       "      <td>0.000000</td>\n",
       "      <td>0.200000</td>\n",
       "      <td>3.333333</td>\n",
       "      <td>1.333333</td>\n",
       "      <td>9.000000</td>\n",
       "      <td>1200.000000</td>\n",
       "      <td>-0.100000</td>\n",
       "      <td>0.000000</td>\n",
       "    </tr>\n",
       "    <tr>\n",
       "      <td>75%</td>\n",
       "      <td>4.100000</td>\n",
       "      <td>0.000000</td>\n",
       "      <td>3.900000</td>\n",
       "      <td>270.000000</td>\n",
       "      <td>82.000000</td>\n",
       "      <td>5.300000</td>\n",
       "      <td>-1.900000</td>\n",
       "      <td>1002.000000</td>\n",
       "      <td>1026.900000</td>\n",
       "      <td>0.400000</td>\n",
       "      <td>0.110000</td>\n",
       "      <td>0.000000</td>\n",
       "      <td>0.500000</td>\n",
       "      <td>8.000000</td>\n",
       "      <td>5.666667</td>\n",
       "      <td>10.736068</td>\n",
       "      <td>1800.000000</td>\n",
       "      <td>3.866667</td>\n",
       "      <td>0.000000</td>\n",
       "    </tr>\n",
       "    <tr>\n",
       "      <td>max</td>\n",
       "      <td>20.600000</td>\n",
       "      <td>23.500000</td>\n",
       "      <td>17.700000</td>\n",
       "      <td>360.000000</td>\n",
       "      <td>99.000000</td>\n",
       "      <td>16.400000</td>\n",
       "      <td>14.400000</td>\n",
       "      <td>1028.100000</td>\n",
       "      <td>1044.300000</td>\n",
       "      <td>1.000000</td>\n",
       "      <td>3.260000</td>\n",
       "      <td>74.700000</td>\n",
       "      <td>24.500000</td>\n",
       "      <td>10.000000</td>\n",
       "      <td>10.000000</td>\n",
       "      <td>55.000000</td>\n",
       "      <td>3000.000000</td>\n",
       "      <td>30.600000</td>\n",
       "      <td>1.000000</td>\n",
       "    </tr>\n",
       "  </tbody>\n",
       "</table>\n",
       "</div>"
      ],
      "text/plain": [
       "             기온(°C)       강수량(mm)       풍속(m/s)      풍향(16방위)         습도(%)  \\\n",
       "count  29015.000000  29015.000000  29015.000000  29015.000000  29015.000000   \n",
       "mean      -0.226562      0.047317      2.738394    195.293469     63.176364   \n",
       "std        6.622321      0.464496      2.406592    115.410034     21.600016   \n",
       "min      -26.200000      0.000000      0.000000      0.000000      0.000000   \n",
       "25%       -4.500000      0.000000      0.900000     70.000000     46.000000   \n",
       "50%       -0.200000      0.000000      2.200000    250.000000     65.000000   \n",
       "75%        4.100000      0.000000      3.900000    270.000000     82.000000   \n",
       "max       20.600000     23.500000     17.700000    360.000000     99.000000   \n",
       "\n",
       "           증기압(hPa)     이슬점온도(°C)     현지기압(hPa)     해면기압(hPa)        일조(hr)  \\\n",
       "count  29015.000000  29015.000000  29015.000000  29015.000000  29015.000000   \n",
       "mean       4.033472     -7.423405    972.539890   1022.459480      0.237577   \n",
       "std        2.228360      7.508438     36.958702      6.466127      0.398648   \n",
       "min        0.500000    -30.000000    903.300000    993.000000      0.000000   \n",
       "25%        2.300000    -12.700000    929.900000   1018.400000      0.000000   \n",
       "50%        3.700000     -6.800000    990.900000   1022.800000      0.000000   \n",
       "75%        5.300000     -1.900000   1002.000000   1026.900000      0.400000   \n",
       "max       16.400000     14.400000   1028.100000   1044.300000      1.000000   \n",
       "\n",
       "          일사(MJ/m2)        적설(cm)    3시간신적설(cm)     전운량(10분위)   중하층운량(10분위)  \\\n",
       "count  29015.000000  29015.000000  29015.000000  29015.000000  29015.000000   \n",
       "mean       0.277348      2.241151      0.472886      4.210495      2.775427   \n",
       "std        0.588484      6.795927      0.854326      3.865776      3.183531   \n",
       "min        0.000000      0.000000      0.000000      0.000000      0.000000   \n",
       "25%        0.010000      0.000000      0.000000      0.000000      0.000000   \n",
       "50%        0.010000      0.000000      0.200000      3.333333      1.333333   \n",
       "75%        0.110000      0.000000      0.500000      8.000000      5.666667   \n",
       "max        3.260000     74.700000     24.500000     10.000000     10.000000   \n",
       "\n",
       "        최저운고(100m )       시정(10m)      지면온도(°C)       FZ_flag  \n",
       "count  29015.000000  29015.000000  29015.000000  29015.000000  \n",
       "mean      10.222247   1249.360951      0.829071      0.002378  \n",
       "std        7.940813    611.475860      5.953886      0.048708  \n",
       "min        0.000000      3.000000    -25.000000      0.000000  \n",
       "25%        4.000000    800.000000     -2.591667      0.000000  \n",
       "50%        9.000000   1200.000000     -0.100000      0.000000  \n",
       "75%       10.736068   1800.000000      3.866667      0.000000  \n",
       "max       55.000000   3000.000000     30.600000      1.000000  "
      ]
     },
     "execution_count": 181,
     "metadata": {},
     "output_type": "execute_result"
    }
   ],
   "source": [
    "df.describe()"
   ]
  },
  {
   "cell_type": "code",
   "execution_count": 182,
   "metadata": {},
   "outputs": [],
   "source": [
    "df1 = df.loc[df['지점명']=='대관령']"
   ]
  },
  {
   "cell_type": "code",
   "execution_count": 183,
   "metadata": {},
   "outputs": [
    {
     "data": {
      "text/html": [
       "<div>\n",
       "<style scoped>\n",
       "    .dataframe tbody tr th:only-of-type {\n",
       "        vertical-align: middle;\n",
       "    }\n",
       "\n",
       "    .dataframe tbody tr th {\n",
       "        vertical-align: top;\n",
       "    }\n",
       "\n",
       "    .dataframe thead th {\n",
       "        text-align: right;\n",
       "    }\n",
       "</style>\n",
       "<table border=\"1\" class=\"dataframe\">\n",
       "  <thead>\n",
       "    <tr style=\"text-align: right;\">\n",
       "      <th></th>\n",
       "      <th>기온(°C)</th>\n",
       "      <th>강수량(mm)</th>\n",
       "      <th>풍속(m/s)</th>\n",
       "      <th>풍향(16방위)</th>\n",
       "      <th>습도(%)</th>\n",
       "      <th>증기압(hPa)</th>\n",
       "      <th>이슬점온도(°C)</th>\n",
       "      <th>현지기압(hPa)</th>\n",
       "      <th>해면기압(hPa)</th>\n",
       "      <th>일조(hr)</th>\n",
       "      <th>일사(MJ/m2)</th>\n",
       "      <th>적설(cm)</th>\n",
       "      <th>3시간신적설(cm)</th>\n",
       "      <th>전운량(10분위)</th>\n",
       "      <th>중하층운량(10분위)</th>\n",
       "      <th>최저운고(100m )</th>\n",
       "      <th>시정(10m)</th>\n",
       "      <th>지면온도(°C)</th>\n",
       "      <th>FZ_flag</th>\n",
       "    </tr>\n",
       "  </thead>\n",
       "  <tbody>\n",
       "    <tr>\n",
       "      <td>기온(°C)</td>\n",
       "      <td>1.000000</td>\n",
       "      <td>0.045373</td>\n",
       "      <td>0.116781</td>\n",
       "      <td>-0.005081</td>\n",
       "      <td>-0.117022</td>\n",
       "      <td>0.732829</td>\n",
       "      <td>0.758031</td>\n",
       "      <td>-0.128245</td>\n",
       "      <td>-0.513700</td>\n",
       "      <td>0.217457</td>\n",
       "      <td>0.305539</td>\n",
       "      <td>-0.315643</td>\n",
       "      <td>0.061974</td>\n",
       "      <td>0.305766</td>\n",
       "      <td>0.246366</td>\n",
       "      <td>-0.048860</td>\n",
       "      <td>-0.192951</td>\n",
       "      <td>0.835789</td>\n",
       "      <td>-0.035718</td>\n",
       "    </tr>\n",
       "    <tr>\n",
       "      <td>강수량(mm)</td>\n",
       "      <td>0.045373</td>\n",
       "      <td>1.000000</td>\n",
       "      <td>-0.032803</td>\n",
       "      <td>-0.073225</td>\n",
       "      <td>0.132005</td>\n",
       "      <td>0.127902</td>\n",
       "      <td>0.115174</td>\n",
       "      <td>-0.051573</td>\n",
       "      <td>-0.076955</td>\n",
       "      <td>-0.067745</td>\n",
       "      <td>-0.055161</td>\n",
       "      <td>0.068394</td>\n",
       "      <td>0.237297</td>\n",
       "      <td>0.165399</td>\n",
       "      <td>0.169739</td>\n",
       "      <td>-0.075008</td>\n",
       "      <td>-0.174839</td>\n",
       "      <td>0.046486</td>\n",
       "      <td>-0.008023</td>\n",
       "    </tr>\n",
       "    <tr>\n",
       "      <td>풍속(m/s)</td>\n",
       "      <td>0.116781</td>\n",
       "      <td>-0.032803</td>\n",
       "      <td>1.000000</td>\n",
       "      <td>0.490506</td>\n",
       "      <td>-0.392252</td>\n",
       "      <td>-0.099483</td>\n",
       "      <td>-0.124846</td>\n",
       "      <td>-0.491337</td>\n",
       "      <td>-0.491315</td>\n",
       "      <td>0.226540</td>\n",
       "      <td>0.235784</td>\n",
       "      <td>-0.070900</td>\n",
       "      <td>0.050728</td>\n",
       "      <td>-0.167707</td>\n",
       "      <td>-0.090867</td>\n",
       "      <td>-0.066240</td>\n",
       "      <td>0.143741</td>\n",
       "      <td>0.046127</td>\n",
       "      <td>-0.075246</td>\n",
       "    </tr>\n",
       "    <tr>\n",
       "      <td>풍향(16방위)</td>\n",
       "      <td>-0.005081</td>\n",
       "      <td>-0.073225</td>\n",
       "      <td>0.490506</td>\n",
       "      <td>1.000000</td>\n",
       "      <td>-0.376514</td>\n",
       "      <td>-0.201945</td>\n",
       "      <td>-0.211507</td>\n",
       "      <td>-0.258867</td>\n",
       "      <td>-0.251138</td>\n",
       "      <td>0.100927</td>\n",
       "      <td>0.073085</td>\n",
       "      <td>-0.071878</td>\n",
       "      <td>-0.001519</td>\n",
       "      <td>-0.267718</td>\n",
       "      <td>-0.231910</td>\n",
       "      <td>0.058476</td>\n",
       "      <td>0.245938</td>\n",
       "      <td>-0.084683</td>\n",
       "      <td>-0.050515</td>\n",
       "    </tr>\n",
       "    <tr>\n",
       "      <td>습도(%)</td>\n",
       "      <td>-0.117022</td>\n",
       "      <td>0.132005</td>\n",
       "      <td>-0.392252</td>\n",
       "      <td>-0.376514</td>\n",
       "      <td>1.000000</td>\n",
       "      <td>0.501223</td>\n",
       "      <td>0.530531</td>\n",
       "      <td>0.119583</td>\n",
       "      <td>0.111600</td>\n",
       "      <td>-0.557177</td>\n",
       "      <td>-0.519808</td>\n",
       "      <td>0.060918</td>\n",
       "      <td>0.056366</td>\n",
       "      <td>0.455826</td>\n",
       "      <td>0.507480</td>\n",
       "      <td>-0.252757</td>\n",
       "      <td>-0.620754</td>\n",
       "      <td>-0.029660</td>\n",
       "      <td>0.078898</td>\n",
       "    </tr>\n",
       "    <tr>\n",
       "      <td>증기압(hPa)</td>\n",
       "      <td>0.732829</td>\n",
       "      <td>0.127902</td>\n",
       "      <td>-0.099483</td>\n",
       "      <td>-0.201945</td>\n",
       "      <td>0.501223</td>\n",
       "      <td>1.000000</td>\n",
       "      <td>0.958671</td>\n",
       "      <td>-0.048811</td>\n",
       "      <td>-0.373483</td>\n",
       "      <td>-0.185516</td>\n",
       "      <td>-0.090462</td>\n",
       "      <td>-0.233381</td>\n",
       "      <td>0.083416</td>\n",
       "      <td>0.521521</td>\n",
       "      <td>0.516775</td>\n",
       "      <td>-0.209567</td>\n",
       "      <td>-0.524831</td>\n",
       "      <td>0.666629</td>\n",
       "      <td>-0.002678</td>\n",
       "    </tr>\n",
       "    <tr>\n",
       "      <td>이슬점온도(°C)</td>\n",
       "      <td>0.758031</td>\n",
       "      <td>0.115174</td>\n",
       "      <td>-0.124846</td>\n",
       "      <td>-0.211507</td>\n",
       "      <td>0.530531</td>\n",
       "      <td>0.958671</td>\n",
       "      <td>1.000000</td>\n",
       "      <td>-0.035256</td>\n",
       "      <td>-0.378474</td>\n",
       "      <td>-0.187157</td>\n",
       "      <td>-0.090042</td>\n",
       "      <td>-0.228746</td>\n",
       "      <td>0.092166</td>\n",
       "      <td>0.535085</td>\n",
       "      <td>0.520987</td>\n",
       "      <td>-0.204351</td>\n",
       "      <td>-0.552898</td>\n",
       "      <td>0.673698</td>\n",
       "      <td>0.010401</td>\n",
       "    </tr>\n",
       "    <tr>\n",
       "      <td>현지기압(hPa)</td>\n",
       "      <td>-0.128245</td>\n",
       "      <td>-0.051573</td>\n",
       "      <td>-0.491337</td>\n",
       "      <td>-0.258867</td>\n",
       "      <td>0.119583</td>\n",
       "      <td>-0.048811</td>\n",
       "      <td>-0.035256</td>\n",
       "      <td>1.000000</td>\n",
       "      <td>0.804627</td>\n",
       "      <td>-0.010112</td>\n",
       "      <td>-0.057298</td>\n",
       "      <td>0.157040</td>\n",
       "      <td>-0.055766</td>\n",
       "      <td>-0.078677</td>\n",
       "      <td>-0.109802</td>\n",
       "      <td>0.100856</td>\n",
       "      <td>0.153320</td>\n",
       "      <td>-0.119571</td>\n",
       "      <td>0.031756</td>\n",
       "    </tr>\n",
       "    <tr>\n",
       "      <td>해면기압(hPa)</td>\n",
       "      <td>-0.513700</td>\n",
       "      <td>-0.076955</td>\n",
       "      <td>-0.491315</td>\n",
       "      <td>-0.251138</td>\n",
       "      <td>0.111600</td>\n",
       "      <td>-0.373483</td>\n",
       "      <td>-0.378474</td>\n",
       "      <td>0.804627</td>\n",
       "      <td>1.000000</td>\n",
       "      <td>-0.054764</td>\n",
       "      <td>-0.124412</td>\n",
       "      <td>0.216696</td>\n",
       "      <td>-0.121929</td>\n",
       "      <td>-0.192402</td>\n",
       "      <td>-0.218962</td>\n",
       "      <td>0.150205</td>\n",
       "      <td>0.226063</td>\n",
       "      <td>-0.455549</td>\n",
       "      <td>0.026621</td>\n",
       "    </tr>\n",
       "    <tr>\n",
       "      <td>일조(hr)</td>\n",
       "      <td>0.217457</td>\n",
       "      <td>-0.067745</td>\n",
       "      <td>0.226540</td>\n",
       "      <td>0.100927</td>\n",
       "      <td>-0.557177</td>\n",
       "      <td>-0.185516</td>\n",
       "      <td>-0.187157</td>\n",
       "      <td>-0.010112</td>\n",
       "      <td>-0.054764</td>\n",
       "      <td>1.000000</td>\n",
       "      <td>0.855257</td>\n",
       "      <td>0.064012</td>\n",
       "      <td>-0.045332</td>\n",
       "      <td>-0.311778</td>\n",
       "      <td>-0.318724</td>\n",
       "      <td>0.100895</td>\n",
       "      <td>0.364177</td>\n",
       "      <td>0.200433</td>\n",
       "      <td>-0.032814</td>\n",
       "    </tr>\n",
       "    <tr>\n",
       "      <td>일사(MJ/m2)</td>\n",
       "      <td>0.305539</td>\n",
       "      <td>-0.055161</td>\n",
       "      <td>0.235784</td>\n",
       "      <td>0.073085</td>\n",
       "      <td>-0.519808</td>\n",
       "      <td>-0.090462</td>\n",
       "      <td>-0.090042</td>\n",
       "      <td>-0.057298</td>\n",
       "      <td>-0.124412</td>\n",
       "      <td>0.855257</td>\n",
       "      <td>1.000000</td>\n",
       "      <td>0.070940</td>\n",
       "      <td>-0.043210</td>\n",
       "      <td>-0.156113</td>\n",
       "      <td>-0.178773</td>\n",
       "      <td>0.079437</td>\n",
       "      <td>0.260229</td>\n",
       "      <td>0.310589</td>\n",
       "      <td>-0.032341</td>\n",
       "    </tr>\n",
       "    <tr>\n",
       "      <td>적설(cm)</td>\n",
       "      <td>-0.315643</td>\n",
       "      <td>0.068394</td>\n",
       "      <td>-0.070900</td>\n",
       "      <td>-0.071878</td>\n",
       "      <td>0.060918</td>\n",
       "      <td>-0.233381</td>\n",
       "      <td>-0.228746</td>\n",
       "      <td>0.157040</td>\n",
       "      <td>0.216696</td>\n",
       "      <td>0.064012</td>\n",
       "      <td>0.070940</td>\n",
       "      <td>1.000000</td>\n",
       "      <td>0.099202</td>\n",
       "      <td>0.035451</td>\n",
       "      <td>0.049947</td>\n",
       "      <td>0.011696</td>\n",
       "      <td>-0.034426</td>\n",
       "      <td>-0.210401</td>\n",
       "      <td>0.013340</td>\n",
       "    </tr>\n",
       "    <tr>\n",
       "      <td>3시간신적설(cm)</td>\n",
       "      <td>0.061974</td>\n",
       "      <td>0.237297</td>\n",
       "      <td>0.050728</td>\n",
       "      <td>-0.001519</td>\n",
       "      <td>0.056366</td>\n",
       "      <td>0.083416</td>\n",
       "      <td>0.092166</td>\n",
       "      <td>-0.055766</td>\n",
       "      <td>-0.121929</td>\n",
       "      <td>-0.045332</td>\n",
       "      <td>-0.043210</td>\n",
       "      <td>0.099202</td>\n",
       "      <td>1.000000</td>\n",
       "      <td>0.099784</td>\n",
       "      <td>0.132932</td>\n",
       "      <td>-0.060505</td>\n",
       "      <td>-0.059925</td>\n",
       "      <td>0.067830</td>\n",
       "      <td>-0.026074</td>\n",
       "    </tr>\n",
       "    <tr>\n",
       "      <td>전운량(10분위)</td>\n",
       "      <td>0.305766</td>\n",
       "      <td>0.165399</td>\n",
       "      <td>-0.167707</td>\n",
       "      <td>-0.267718</td>\n",
       "      <td>0.455826</td>\n",
       "      <td>0.521521</td>\n",
       "      <td>0.535085</td>\n",
       "      <td>-0.078677</td>\n",
       "      <td>-0.192402</td>\n",
       "      <td>-0.311778</td>\n",
       "      <td>-0.156113</td>\n",
       "      <td>0.035451</td>\n",
       "      <td>0.099784</td>\n",
       "      <td>1.000000</td>\n",
       "      <td>0.842780</td>\n",
       "      <td>-0.135282</td>\n",
       "      <td>-0.631345</td>\n",
       "      <td>0.264827</td>\n",
       "      <td>0.063214</td>\n",
       "    </tr>\n",
       "    <tr>\n",
       "      <td>중하층운량(10분위)</td>\n",
       "      <td>0.246366</td>\n",
       "      <td>0.169739</td>\n",
       "      <td>-0.090867</td>\n",
       "      <td>-0.231910</td>\n",
       "      <td>0.507480</td>\n",
       "      <td>0.516775</td>\n",
       "      <td>0.520987</td>\n",
       "      <td>-0.109802</td>\n",
       "      <td>-0.218962</td>\n",
       "      <td>-0.318724</td>\n",
       "      <td>-0.178773</td>\n",
       "      <td>0.049947</td>\n",
       "      <td>0.132932</td>\n",
       "      <td>0.842780</td>\n",
       "      <td>1.000000</td>\n",
       "      <td>-0.218604</td>\n",
       "      <td>-0.645186</td>\n",
       "      <td>0.242738</td>\n",
       "      <td>0.106696</td>\n",
       "    </tr>\n",
       "    <tr>\n",
       "      <td>최저운고(100m )</td>\n",
       "      <td>-0.048860</td>\n",
       "      <td>-0.075008</td>\n",
       "      <td>-0.066240</td>\n",
       "      <td>0.058476</td>\n",
       "      <td>-0.252757</td>\n",
       "      <td>-0.209567</td>\n",
       "      <td>-0.204351</td>\n",
       "      <td>0.100856</td>\n",
       "      <td>0.150205</td>\n",
       "      <td>0.100895</td>\n",
       "      <td>0.079437</td>\n",
       "      <td>0.011696</td>\n",
       "      <td>-0.060505</td>\n",
       "      <td>-0.135282</td>\n",
       "      <td>-0.218604</td>\n",
       "      <td>1.000000</td>\n",
       "      <td>0.295405</td>\n",
       "      <td>-0.083357</td>\n",
       "      <td>-0.043793</td>\n",
       "    </tr>\n",
       "    <tr>\n",
       "      <td>시정(10m)</td>\n",
       "      <td>-0.192951</td>\n",
       "      <td>-0.174839</td>\n",
       "      <td>0.143741</td>\n",
       "      <td>0.245938</td>\n",
       "      <td>-0.620754</td>\n",
       "      <td>-0.524831</td>\n",
       "      <td>-0.552898</td>\n",
       "      <td>0.153320</td>\n",
       "      <td>0.226063</td>\n",
       "      <td>0.364177</td>\n",
       "      <td>0.260229</td>\n",
       "      <td>-0.034426</td>\n",
       "      <td>-0.059925</td>\n",
       "      <td>-0.631345</td>\n",
       "      <td>-0.645186</td>\n",
       "      <td>0.295405</td>\n",
       "      <td>1.000000</td>\n",
       "      <td>-0.195926</td>\n",
       "      <td>-0.115300</td>\n",
       "    </tr>\n",
       "    <tr>\n",
       "      <td>지면온도(°C)</td>\n",
       "      <td>0.835789</td>\n",
       "      <td>0.046486</td>\n",
       "      <td>0.046127</td>\n",
       "      <td>-0.084683</td>\n",
       "      <td>-0.029660</td>\n",
       "      <td>0.666629</td>\n",
       "      <td>0.673698</td>\n",
       "      <td>-0.119571</td>\n",
       "      <td>-0.455549</td>\n",
       "      <td>0.200433</td>\n",
       "      <td>0.310589</td>\n",
       "      <td>-0.210401</td>\n",
       "      <td>0.067830</td>\n",
       "      <td>0.264827</td>\n",
       "      <td>0.242738</td>\n",
       "      <td>-0.083357</td>\n",
       "      <td>-0.195926</td>\n",
       "      <td>1.000000</td>\n",
       "      <td>-0.009195</td>\n",
       "    </tr>\n",
       "    <tr>\n",
       "      <td>FZ_flag</td>\n",
       "      <td>-0.035718</td>\n",
       "      <td>-0.008023</td>\n",
       "      <td>-0.075246</td>\n",
       "      <td>-0.050515</td>\n",
       "      <td>0.078898</td>\n",
       "      <td>-0.002678</td>\n",
       "      <td>0.010401</td>\n",
       "      <td>0.031756</td>\n",
       "      <td>0.026621</td>\n",
       "      <td>-0.032814</td>\n",
       "      <td>-0.032341</td>\n",
       "      <td>0.013340</td>\n",
       "      <td>-0.026074</td>\n",
       "      <td>0.063214</td>\n",
       "      <td>0.106696</td>\n",
       "      <td>-0.043793</td>\n",
       "      <td>-0.115300</td>\n",
       "      <td>-0.009195</td>\n",
       "      <td>1.000000</td>\n",
       "    </tr>\n",
       "  </tbody>\n",
       "</table>\n",
       "</div>"
      ],
      "text/plain": [
       "               기온(°C)   강수량(mm)   풍속(m/s)  풍향(16방위)     습도(%)  증기압(hPa)  \\\n",
       "기온(°C)       1.000000  0.045373  0.116781 -0.005081 -0.117022  0.732829   \n",
       "강수량(mm)      0.045373  1.000000 -0.032803 -0.073225  0.132005  0.127902   \n",
       "풍속(m/s)      0.116781 -0.032803  1.000000  0.490506 -0.392252 -0.099483   \n",
       "풍향(16방위)    -0.005081 -0.073225  0.490506  1.000000 -0.376514 -0.201945   \n",
       "습도(%)       -0.117022  0.132005 -0.392252 -0.376514  1.000000  0.501223   \n",
       "증기압(hPa)     0.732829  0.127902 -0.099483 -0.201945  0.501223  1.000000   \n",
       "이슬점온도(°C)    0.758031  0.115174 -0.124846 -0.211507  0.530531  0.958671   \n",
       "현지기압(hPa)   -0.128245 -0.051573 -0.491337 -0.258867  0.119583 -0.048811   \n",
       "해면기압(hPa)   -0.513700 -0.076955 -0.491315 -0.251138  0.111600 -0.373483   \n",
       "일조(hr)       0.217457 -0.067745  0.226540  0.100927 -0.557177 -0.185516   \n",
       "일사(MJ/m2)    0.305539 -0.055161  0.235784  0.073085 -0.519808 -0.090462   \n",
       "적설(cm)      -0.315643  0.068394 -0.070900 -0.071878  0.060918 -0.233381   \n",
       "3시간신적설(cm)   0.061974  0.237297  0.050728 -0.001519  0.056366  0.083416   \n",
       "전운량(10분위)    0.305766  0.165399 -0.167707 -0.267718  0.455826  0.521521   \n",
       "중하층운량(10분위)  0.246366  0.169739 -0.090867 -0.231910  0.507480  0.516775   \n",
       "최저운고(100m ) -0.048860 -0.075008 -0.066240  0.058476 -0.252757 -0.209567   \n",
       "시정(10m)     -0.192951 -0.174839  0.143741  0.245938 -0.620754 -0.524831   \n",
       "지면온도(°C)     0.835789  0.046486  0.046127 -0.084683 -0.029660  0.666629   \n",
       "FZ_flag     -0.035718 -0.008023 -0.075246 -0.050515  0.078898 -0.002678   \n",
       "\n",
       "             이슬점온도(°C)  현지기압(hPa)  해면기압(hPa)    일조(hr)  일사(MJ/m2)    적설(cm)  \\\n",
       "기온(°C)        0.758031  -0.128245  -0.513700  0.217457   0.305539 -0.315643   \n",
       "강수량(mm)       0.115174  -0.051573  -0.076955 -0.067745  -0.055161  0.068394   \n",
       "풍속(m/s)      -0.124846  -0.491337  -0.491315  0.226540   0.235784 -0.070900   \n",
       "풍향(16방위)     -0.211507  -0.258867  -0.251138  0.100927   0.073085 -0.071878   \n",
       "습도(%)         0.530531   0.119583   0.111600 -0.557177  -0.519808  0.060918   \n",
       "증기압(hPa)      0.958671  -0.048811  -0.373483 -0.185516  -0.090462 -0.233381   \n",
       "이슬점온도(°C)     1.000000  -0.035256  -0.378474 -0.187157  -0.090042 -0.228746   \n",
       "현지기압(hPa)    -0.035256   1.000000   0.804627 -0.010112  -0.057298  0.157040   \n",
       "해면기압(hPa)    -0.378474   0.804627   1.000000 -0.054764  -0.124412  0.216696   \n",
       "일조(hr)       -0.187157  -0.010112  -0.054764  1.000000   0.855257  0.064012   \n",
       "일사(MJ/m2)    -0.090042  -0.057298  -0.124412  0.855257   1.000000  0.070940   \n",
       "적설(cm)       -0.228746   0.157040   0.216696  0.064012   0.070940  1.000000   \n",
       "3시간신적설(cm)    0.092166  -0.055766  -0.121929 -0.045332  -0.043210  0.099202   \n",
       "전운량(10분위)     0.535085  -0.078677  -0.192402 -0.311778  -0.156113  0.035451   \n",
       "중하층운량(10분위)   0.520987  -0.109802  -0.218962 -0.318724  -0.178773  0.049947   \n",
       "최저운고(100m )  -0.204351   0.100856   0.150205  0.100895   0.079437  0.011696   \n",
       "시정(10m)      -0.552898   0.153320   0.226063  0.364177   0.260229 -0.034426   \n",
       "지면온도(°C)      0.673698  -0.119571  -0.455549  0.200433   0.310589 -0.210401   \n",
       "FZ_flag       0.010401   0.031756   0.026621 -0.032814  -0.032341  0.013340   \n",
       "\n",
       "             3시간신적설(cm)  전운량(10분위)  중하층운량(10분위)  최저운고(100m )   시정(10m)  \\\n",
       "기온(°C)         0.061974   0.305766     0.246366    -0.048860 -0.192951   \n",
       "강수량(mm)        0.237297   0.165399     0.169739    -0.075008 -0.174839   \n",
       "풍속(m/s)        0.050728  -0.167707    -0.090867    -0.066240  0.143741   \n",
       "풍향(16방위)      -0.001519  -0.267718    -0.231910     0.058476  0.245938   \n",
       "습도(%)          0.056366   0.455826     0.507480    -0.252757 -0.620754   \n",
       "증기압(hPa)       0.083416   0.521521     0.516775    -0.209567 -0.524831   \n",
       "이슬점온도(°C)      0.092166   0.535085     0.520987    -0.204351 -0.552898   \n",
       "현지기압(hPa)     -0.055766  -0.078677    -0.109802     0.100856  0.153320   \n",
       "해면기압(hPa)     -0.121929  -0.192402    -0.218962     0.150205  0.226063   \n",
       "일조(hr)        -0.045332  -0.311778    -0.318724     0.100895  0.364177   \n",
       "일사(MJ/m2)     -0.043210  -0.156113    -0.178773     0.079437  0.260229   \n",
       "적설(cm)         0.099202   0.035451     0.049947     0.011696 -0.034426   \n",
       "3시간신적설(cm)     1.000000   0.099784     0.132932    -0.060505 -0.059925   \n",
       "전운량(10분위)      0.099784   1.000000     0.842780    -0.135282 -0.631345   \n",
       "중하층운량(10분위)    0.132932   0.842780     1.000000    -0.218604 -0.645186   \n",
       "최저운고(100m )   -0.060505  -0.135282    -0.218604     1.000000  0.295405   \n",
       "시정(10m)       -0.059925  -0.631345    -0.645186     0.295405  1.000000   \n",
       "지면온도(°C)       0.067830   0.264827     0.242738    -0.083357 -0.195926   \n",
       "FZ_flag       -0.026074   0.063214     0.106696    -0.043793 -0.115300   \n",
       "\n",
       "             지면온도(°C)   FZ_flag  \n",
       "기온(°C)       0.835789 -0.035718  \n",
       "강수량(mm)      0.046486 -0.008023  \n",
       "풍속(m/s)      0.046127 -0.075246  \n",
       "풍향(16방위)    -0.084683 -0.050515  \n",
       "습도(%)       -0.029660  0.078898  \n",
       "증기압(hPa)     0.666629 -0.002678  \n",
       "이슬점온도(°C)    0.673698  0.010401  \n",
       "현지기압(hPa)   -0.119571  0.031756  \n",
       "해면기압(hPa)   -0.455549  0.026621  \n",
       "일조(hr)       0.200433 -0.032814  \n",
       "일사(MJ/m2)    0.310589 -0.032341  \n",
       "적설(cm)      -0.210401  0.013340  \n",
       "3시간신적설(cm)   0.067830 -0.026074  \n",
       "전운량(10분위)    0.264827  0.063214  \n",
       "중하층운량(10분위)  0.242738  0.106696  \n",
       "최저운고(100m ) -0.083357 -0.043793  \n",
       "시정(10m)     -0.195926 -0.115300  \n",
       "지면온도(°C)     1.000000 -0.009195  \n",
       "FZ_flag     -0.009195  1.000000  "
      ]
     },
     "execution_count": 183,
     "metadata": {},
     "output_type": "execute_result"
    }
   ],
   "source": [
    "df1.corr()"
   ]
  },
  {
   "cell_type": "code",
   "execution_count": 184,
   "metadata": {},
   "outputs": [],
   "source": [
    "df2 = df.loc[df['지점명']=='영월']"
   ]
  },
  {
   "cell_type": "code",
   "execution_count": 185,
   "metadata": {},
   "outputs": [
    {
     "data": {
      "text/html": [
       "<div>\n",
       "<style scoped>\n",
       "    .dataframe tbody tr th:only-of-type {\n",
       "        vertical-align: middle;\n",
       "    }\n",
       "\n",
       "    .dataframe tbody tr th {\n",
       "        vertical-align: top;\n",
       "    }\n",
       "\n",
       "    .dataframe thead th {\n",
       "        text-align: right;\n",
       "    }\n",
       "</style>\n",
       "<table border=\"1\" class=\"dataframe\">\n",
       "  <thead>\n",
       "    <tr style=\"text-align: right;\">\n",
       "      <th></th>\n",
       "      <th>기온(°C)</th>\n",
       "      <th>강수량(mm)</th>\n",
       "      <th>풍속(m/s)</th>\n",
       "      <th>풍향(16방위)</th>\n",
       "      <th>습도(%)</th>\n",
       "      <th>증기압(hPa)</th>\n",
       "      <th>이슬점온도(°C)</th>\n",
       "      <th>현지기압(hPa)</th>\n",
       "      <th>해면기압(hPa)</th>\n",
       "      <th>일조(hr)</th>\n",
       "      <th>일사(MJ/m2)</th>\n",
       "      <th>적설(cm)</th>\n",
       "      <th>3시간신적설(cm)</th>\n",
       "      <th>전운량(10분위)</th>\n",
       "      <th>중하층운량(10분위)</th>\n",
       "      <th>최저운고(100m )</th>\n",
       "      <th>시정(10m)</th>\n",
       "      <th>지면온도(°C)</th>\n",
       "      <th>FZ_flag</th>\n",
       "    </tr>\n",
       "  </thead>\n",
       "  <tbody>\n",
       "    <tr>\n",
       "      <td>기온(°C)</td>\n",
       "      <td>1.000000e+00</td>\n",
       "      <td>4.631922e-02</td>\n",
       "      <td>2.472334e-01</td>\n",
       "      <td>7.565673e-02</td>\n",
       "      <td>-2.604086e-01</td>\n",
       "      <td>6.758182e-01</td>\n",
       "      <td>6.942386e-01</td>\n",
       "      <td>-3.978142e-01</td>\n",
       "      <td>-4.958314e-01</td>\n",
       "      <td>2.538284e-01</td>\n",
       "      <td>-2.940459e-15</td>\n",
       "      <td>-1.179418e-01</td>\n",
       "      <td>5.821016e-04</td>\n",
       "      <td>2.812954e-01</td>\n",
       "      <td>2.301877e-01</td>\n",
       "      <td>-9.697794e-02</td>\n",
       "      <td>-8.123657e-02</td>\n",
       "      <td>9.275770e-01</td>\n",
       "      <td>-3.518735e-02</td>\n",
       "    </tr>\n",
       "    <tr>\n",
       "      <td>강수량(mm)</td>\n",
       "      <td>4.631922e-02</td>\n",
       "      <td>1.000000e+00</td>\n",
       "      <td>4.128413e-03</td>\n",
       "      <td>-3.512626e-03</td>\n",
       "      <td>1.067985e-01</td>\n",
       "      <td>1.355751e-01</td>\n",
       "      <td>1.124092e-01</td>\n",
       "      <td>-1.253370e-01</td>\n",
       "      <td>-1.238865e-01</td>\n",
       "      <td>-4.984238e-02</td>\n",
       "      <td>-2.251991e-15</td>\n",
       "      <td>6.090804e-02</td>\n",
       "      <td>6.797580e-02</td>\n",
       "      <td>1.299611e-01</td>\n",
       "      <td>1.188123e-01</td>\n",
       "      <td>-6.410478e-02</td>\n",
       "      <td>-1.107361e-01</td>\n",
       "      <td>3.781147e-02</td>\n",
       "      <td>-2.743537e-03</td>\n",
       "    </tr>\n",
       "    <tr>\n",
       "      <td>풍속(m/s)</td>\n",
       "      <td>2.472334e-01</td>\n",
       "      <td>4.128413e-03</td>\n",
       "      <td>1.000000e+00</td>\n",
       "      <td>4.306414e-01</td>\n",
       "      <td>-5.663141e-01</td>\n",
       "      <td>-1.239536e-01</td>\n",
       "      <td>-1.664374e-01</td>\n",
       "      <td>-3.260000e-01</td>\n",
       "      <td>-3.352652e-01</td>\n",
       "      <td>3.665496e-01</td>\n",
       "      <td>2.715629e-15</td>\n",
       "      <td>6.127728e-02</td>\n",
       "      <td>1.674410e-03</td>\n",
       "      <td>-3.176325e-02</td>\n",
       "      <td>-1.739510e-03</td>\n",
       "      <td>-8.859017e-02</td>\n",
       "      <td>2.583784e-01</td>\n",
       "      <td>2.792412e-01</td>\n",
       "      <td>-2.213104e-02</td>\n",
       "    </tr>\n",
       "    <tr>\n",
       "      <td>풍향(16방위)</td>\n",
       "      <td>7.565673e-02</td>\n",
       "      <td>-3.512626e-03</td>\n",
       "      <td>4.306414e-01</td>\n",
       "      <td>1.000000e+00</td>\n",
       "      <td>-3.328353e-01</td>\n",
       "      <td>-1.246091e-01</td>\n",
       "      <td>-1.606233e-01</td>\n",
       "      <td>-1.882465e-01</td>\n",
       "      <td>-1.841270e-01</td>\n",
       "      <td>1.882431e-01</td>\n",
       "      <td>-1.917378e-16</td>\n",
       "      <td>3.445881e-02</td>\n",
       "      <td>8.853798e-03</td>\n",
       "      <td>-2.740496e-02</td>\n",
       "      <td>-2.514852e-03</td>\n",
       "      <td>-3.755633e-02</td>\n",
       "      <td>1.134231e-01</td>\n",
       "      <td>1.049336e-01</td>\n",
       "      <td>-1.545824e-02</td>\n",
       "    </tr>\n",
       "    <tr>\n",
       "      <td>습도(%)</td>\n",
       "      <td>-2.604086e-01</td>\n",
       "      <td>1.067985e-01</td>\n",
       "      <td>-5.663141e-01</td>\n",
       "      <td>-3.328353e-01</td>\n",
       "      <td>1.000000e+00</td>\n",
       "      <td>4.470354e-01</td>\n",
       "      <td>4.818033e-01</td>\n",
       "      <td>3.030213e-02</td>\n",
       "      <td>5.898783e-02</td>\n",
       "      <td>-5.513788e-01</td>\n",
       "      <td>-2.752279e-14</td>\n",
       "      <td>8.965554e-02</td>\n",
       "      <td>1.000788e-01</td>\n",
       "      <td>3.287117e-01</td>\n",
       "      <td>3.730387e-01</td>\n",
       "      <td>-1.639824e-01</td>\n",
       "      <td>-6.201905e-01</td>\n",
       "      <td>-2.780216e-01</td>\n",
       "      <td>4.009884e-02</td>\n",
       "    </tr>\n",
       "    <tr>\n",
       "      <td>증기압(hPa)</td>\n",
       "      <td>6.758182e-01</td>\n",
       "      <td>1.355751e-01</td>\n",
       "      <td>-1.239536e-01</td>\n",
       "      <td>-1.246091e-01</td>\n",
       "      <td>4.470354e-01</td>\n",
       "      <td>1.000000e+00</td>\n",
       "      <td>9.520029e-01</td>\n",
       "      <td>-3.694213e-01</td>\n",
       "      <td>-4.300696e-01</td>\n",
       "      <td>-1.809358e-01</td>\n",
       "      <td>-9.872383e-15</td>\n",
       "      <td>-5.195648e-02</td>\n",
       "      <td>6.249805e-02</td>\n",
       "      <td>4.696932e-01</td>\n",
       "      <td>4.678029e-01</td>\n",
       "      <td>-2.096496e-01</td>\n",
       "      <td>-4.791182e-01</td>\n",
       "      <td>5.872174e-01</td>\n",
       "      <td>-1.639831e-02</td>\n",
       "    </tr>\n",
       "    <tr>\n",
       "      <td>이슬점온도(°C)</td>\n",
       "      <td>6.942386e-01</td>\n",
       "      <td>1.124092e-01</td>\n",
       "      <td>-1.664374e-01</td>\n",
       "      <td>-1.606233e-01</td>\n",
       "      <td>4.818033e-01</td>\n",
       "      <td>9.520029e-01</td>\n",
       "      <td>1.000000e+00</td>\n",
       "      <td>-3.366572e-01</td>\n",
       "      <td>-4.023500e-01</td>\n",
       "      <td>-1.903435e-01</td>\n",
       "      <td>-8.781977e-16</td>\n",
       "      <td>-3.940612e-02</td>\n",
       "      <td>7.729680e-02</td>\n",
       "      <td>4.888895e-01</td>\n",
       "      <td>4.766734e-01</td>\n",
       "      <td>-2.030921e-01</td>\n",
       "      <td>-5.202185e-01</td>\n",
       "      <td>5.971626e-01</td>\n",
       "      <td>-1.329728e-02</td>\n",
       "    </tr>\n",
       "    <tr>\n",
       "      <td>현지기압(hPa)</td>\n",
       "      <td>-3.978142e-01</td>\n",
       "      <td>-1.253370e-01</td>\n",
       "      <td>-3.260000e-01</td>\n",
       "      <td>-1.882465e-01</td>\n",
       "      <td>3.030213e-02</td>\n",
       "      <td>-3.694213e-01</td>\n",
       "      <td>-3.366572e-01</td>\n",
       "      <td>1.000000e+00</td>\n",
       "      <td>9.922816e-01</td>\n",
       "      <td>7.221409e-02</td>\n",
       "      <td>-6.453264e-13</td>\n",
       "      <td>-3.371252e-02</td>\n",
       "      <td>-8.451452e-02</td>\n",
       "      <td>-2.649038e-01</td>\n",
       "      <td>-2.659699e-01</td>\n",
       "      <td>2.016229e-01</td>\n",
       "      <td>1.704177e-01</td>\n",
       "      <td>-3.519640e-01</td>\n",
       "      <td>3.743966e-02</td>\n",
       "    </tr>\n",
       "    <tr>\n",
       "      <td>해면기압(hPa)</td>\n",
       "      <td>-4.958314e-01</td>\n",
       "      <td>-1.238865e-01</td>\n",
       "      <td>-3.352652e-01</td>\n",
       "      <td>-1.841270e-01</td>\n",
       "      <td>5.898783e-02</td>\n",
       "      <td>-4.300696e-01</td>\n",
       "      <td>-4.023500e-01</td>\n",
       "      <td>9.922816e-01</td>\n",
       "      <td>1.000000e+00</td>\n",
       "      <td>4.988154e-02</td>\n",
       "      <td>-1.716242e-12</td>\n",
       "      <td>-1.538818e-02</td>\n",
       "      <td>-7.868920e-02</td>\n",
       "      <td>-2.810351e-01</td>\n",
       "      <td>-2.764243e-01</td>\n",
       "      <td>2.025406e-01</td>\n",
       "      <td>1.648743e-01</td>\n",
       "      <td>-4.422530e-01</td>\n",
       "      <td>4.036361e-02</td>\n",
       "    </tr>\n",
       "    <tr>\n",
       "      <td>일조(hr)</td>\n",
       "      <td>2.538284e-01</td>\n",
       "      <td>-4.984238e-02</td>\n",
       "      <td>3.665496e-01</td>\n",
       "      <td>1.882431e-01</td>\n",
       "      <td>-5.513788e-01</td>\n",
       "      <td>-1.809358e-01</td>\n",
       "      <td>-1.903435e-01</td>\n",
       "      <td>7.221409e-02</td>\n",
       "      <td>4.988154e-02</td>\n",
       "      <td>1.000000e+00</td>\n",
       "      <td>3.008382e-15</td>\n",
       "      <td>-2.182006e-02</td>\n",
       "      <td>-6.167921e-02</td>\n",
       "      <td>-3.089140e-01</td>\n",
       "      <td>-3.097024e-01</td>\n",
       "      <td>4.597726e-02</td>\n",
       "      <td>2.633054e-01</td>\n",
       "      <td>3.609345e-01</td>\n",
       "      <td>1.655139e-03</td>\n",
       "    </tr>\n",
       "    <tr>\n",
       "      <td>일사(MJ/m2)</td>\n",
       "      <td>-2.940459e-15</td>\n",
       "      <td>-2.251991e-15</td>\n",
       "      <td>2.715629e-15</td>\n",
       "      <td>-1.917378e-16</td>\n",
       "      <td>-2.752279e-14</td>\n",
       "      <td>-9.872383e-15</td>\n",
       "      <td>-8.781977e-16</td>\n",
       "      <td>-6.453264e-13</td>\n",
       "      <td>-1.716242e-12</td>\n",
       "      <td>3.008382e-15</td>\n",
       "      <td>1.000000e+00</td>\n",
       "      <td>8.600035e-15</td>\n",
       "      <td>-1.826299e-14</td>\n",
       "      <td>-7.613205e-15</td>\n",
       "      <td>7.110253e-15</td>\n",
       "      <td>-1.736662e-15</td>\n",
       "      <td>1.783903e-14</td>\n",
       "      <td>-2.291275e-15</td>\n",
       "      <td>3.371966e-16</td>\n",
       "    </tr>\n",
       "    <tr>\n",
       "      <td>적설(cm)</td>\n",
       "      <td>-1.179418e-01</td>\n",
       "      <td>6.090804e-02</td>\n",
       "      <td>6.127728e-02</td>\n",
       "      <td>3.445881e-02</td>\n",
       "      <td>8.965554e-02</td>\n",
       "      <td>-5.195648e-02</td>\n",
       "      <td>-3.940612e-02</td>\n",
       "      <td>-3.371252e-02</td>\n",
       "      <td>-1.538818e-02</td>\n",
       "      <td>-2.182006e-02</td>\n",
       "      <td>8.600035e-15</td>\n",
       "      <td>1.000000e+00</td>\n",
       "      <td>2.112510e-01</td>\n",
       "      <td>9.263359e-02</td>\n",
       "      <td>1.068195e-01</td>\n",
       "      <td>-9.999133e-02</td>\n",
       "      <td>-1.217306e-01</td>\n",
       "      <td>-9.784413e-02</td>\n",
       "      <td>5.182895e-03</td>\n",
       "    </tr>\n",
       "    <tr>\n",
       "      <td>3시간신적설(cm)</td>\n",
       "      <td>5.821016e-04</td>\n",
       "      <td>6.797580e-02</td>\n",
       "      <td>1.674410e-03</td>\n",
       "      <td>8.853798e-03</td>\n",
       "      <td>1.000788e-01</td>\n",
       "      <td>6.249805e-02</td>\n",
       "      <td>7.729680e-02</td>\n",
       "      <td>-8.451452e-02</td>\n",
       "      <td>-7.868920e-02</td>\n",
       "      <td>-6.167921e-02</td>\n",
       "      <td>-1.826299e-14</td>\n",
       "      <td>2.112510e-01</td>\n",
       "      <td>1.000000e+00</td>\n",
       "      <td>1.091342e-01</td>\n",
       "      <td>1.119718e-01</td>\n",
       "      <td>-2.746942e-02</td>\n",
       "      <td>-9.847218e-02</td>\n",
       "      <td>4.758205e-03</td>\n",
       "      <td>-1.226559e-02</td>\n",
       "    </tr>\n",
       "    <tr>\n",
       "      <td>전운량(10분위)</td>\n",
       "      <td>2.812954e-01</td>\n",
       "      <td>1.299611e-01</td>\n",
       "      <td>-3.176325e-02</td>\n",
       "      <td>-2.740496e-02</td>\n",
       "      <td>3.287117e-01</td>\n",
       "      <td>4.696932e-01</td>\n",
       "      <td>4.888895e-01</td>\n",
       "      <td>-2.649038e-01</td>\n",
       "      <td>-2.810351e-01</td>\n",
       "      <td>-3.089140e-01</td>\n",
       "      <td>-7.613205e-15</td>\n",
       "      <td>9.263359e-02</td>\n",
       "      <td>1.091342e-01</td>\n",
       "      <td>1.000000e+00</td>\n",
       "      <td>8.293507e-01</td>\n",
       "      <td>-9.166817e-02</td>\n",
       "      <td>-4.445106e-01</td>\n",
       "      <td>2.419499e-01</td>\n",
       "      <td>1.376511e-02</td>\n",
       "    </tr>\n",
       "    <tr>\n",
       "      <td>중하층운량(10분위)</td>\n",
       "      <td>2.301877e-01</td>\n",
       "      <td>1.188123e-01</td>\n",
       "      <td>-1.739510e-03</td>\n",
       "      <td>-2.514852e-03</td>\n",
       "      <td>3.730387e-01</td>\n",
       "      <td>4.678029e-01</td>\n",
       "      <td>4.766734e-01</td>\n",
       "      <td>-2.659699e-01</td>\n",
       "      <td>-2.764243e-01</td>\n",
       "      <td>-3.097024e-01</td>\n",
       "      <td>7.110253e-15</td>\n",
       "      <td>1.068195e-01</td>\n",
       "      <td>1.119718e-01</td>\n",
       "      <td>8.293507e-01</td>\n",
       "      <td>1.000000e+00</td>\n",
       "      <td>-1.624306e-01</td>\n",
       "      <td>-4.679062e-01</td>\n",
       "      <td>2.031369e-01</td>\n",
       "      <td>2.548091e-02</td>\n",
       "    </tr>\n",
       "    <tr>\n",
       "      <td>최저운고(100m )</td>\n",
       "      <td>-9.697794e-02</td>\n",
       "      <td>-6.410478e-02</td>\n",
       "      <td>-8.859017e-02</td>\n",
       "      <td>-3.755633e-02</td>\n",
       "      <td>-1.639824e-01</td>\n",
       "      <td>-2.096496e-01</td>\n",
       "      <td>-2.030921e-01</td>\n",
       "      <td>2.016229e-01</td>\n",
       "      <td>2.025406e-01</td>\n",
       "      <td>4.597726e-02</td>\n",
       "      <td>-1.736662e-15</td>\n",
       "      <td>-9.999133e-02</td>\n",
       "      <td>-2.746942e-02</td>\n",
       "      <td>-9.166817e-02</td>\n",
       "      <td>-1.624306e-01</td>\n",
       "      <td>1.000000e+00</td>\n",
       "      <td>2.230274e-01</td>\n",
       "      <td>-1.042996e-01</td>\n",
       "      <td>-3.460411e-02</td>\n",
       "    </tr>\n",
       "    <tr>\n",
       "      <td>시정(10m)</td>\n",
       "      <td>-8.123657e-02</td>\n",
       "      <td>-1.107361e-01</td>\n",
       "      <td>2.583784e-01</td>\n",
       "      <td>1.134231e-01</td>\n",
       "      <td>-6.201905e-01</td>\n",
       "      <td>-4.791182e-01</td>\n",
       "      <td>-5.202185e-01</td>\n",
       "      <td>1.704177e-01</td>\n",
       "      <td>1.648743e-01</td>\n",
       "      <td>2.633054e-01</td>\n",
       "      <td>1.783903e-14</td>\n",
       "      <td>-1.217306e-01</td>\n",
       "      <td>-9.847218e-02</td>\n",
       "      <td>-4.445106e-01</td>\n",
       "      <td>-4.679062e-01</td>\n",
       "      <td>2.230274e-01</td>\n",
       "      <td>1.000000e+00</td>\n",
       "      <td>-4.675637e-02</td>\n",
       "      <td>-5.864815e-02</td>\n",
       "    </tr>\n",
       "    <tr>\n",
       "      <td>지면온도(°C)</td>\n",
       "      <td>9.275770e-01</td>\n",
       "      <td>3.781147e-02</td>\n",
       "      <td>2.792412e-01</td>\n",
       "      <td>1.049336e-01</td>\n",
       "      <td>-2.780216e-01</td>\n",
       "      <td>5.872174e-01</td>\n",
       "      <td>5.971626e-01</td>\n",
       "      <td>-3.519640e-01</td>\n",
       "      <td>-4.422530e-01</td>\n",
       "      <td>3.609345e-01</td>\n",
       "      <td>-2.291275e-15</td>\n",
       "      <td>-9.784413e-02</td>\n",
       "      <td>4.758205e-03</td>\n",
       "      <td>2.419499e-01</td>\n",
       "      <td>2.031369e-01</td>\n",
       "      <td>-1.042996e-01</td>\n",
       "      <td>-4.675637e-02</td>\n",
       "      <td>1.000000e+00</td>\n",
       "      <td>-1.999804e-02</td>\n",
       "    </tr>\n",
       "    <tr>\n",
       "      <td>FZ_flag</td>\n",
       "      <td>-3.518735e-02</td>\n",
       "      <td>-2.743537e-03</td>\n",
       "      <td>-2.213104e-02</td>\n",
       "      <td>-1.545824e-02</td>\n",
       "      <td>4.009884e-02</td>\n",
       "      <td>-1.639831e-02</td>\n",
       "      <td>-1.329728e-02</td>\n",
       "      <td>3.743966e-02</td>\n",
       "      <td>4.036361e-02</td>\n",
       "      <td>1.655139e-03</td>\n",
       "      <td>3.371966e-16</td>\n",
       "      <td>5.182895e-03</td>\n",
       "      <td>-1.226559e-02</td>\n",
       "      <td>1.376511e-02</td>\n",
       "      <td>2.548091e-02</td>\n",
       "      <td>-3.460411e-02</td>\n",
       "      <td>-5.864815e-02</td>\n",
       "      <td>-1.999804e-02</td>\n",
       "      <td>1.000000e+00</td>\n",
       "    </tr>\n",
       "  </tbody>\n",
       "</table>\n",
       "</div>"
      ],
      "text/plain": [
       "                   기온(°C)       강수량(mm)       풍속(m/s)      풍향(16방위)  \\\n",
       "기온(°C)       1.000000e+00  4.631922e-02  2.472334e-01  7.565673e-02   \n",
       "강수량(mm)      4.631922e-02  1.000000e+00  4.128413e-03 -3.512626e-03   \n",
       "풍속(m/s)      2.472334e-01  4.128413e-03  1.000000e+00  4.306414e-01   \n",
       "풍향(16방위)     7.565673e-02 -3.512626e-03  4.306414e-01  1.000000e+00   \n",
       "습도(%)       -2.604086e-01  1.067985e-01 -5.663141e-01 -3.328353e-01   \n",
       "증기압(hPa)     6.758182e-01  1.355751e-01 -1.239536e-01 -1.246091e-01   \n",
       "이슬점온도(°C)    6.942386e-01  1.124092e-01 -1.664374e-01 -1.606233e-01   \n",
       "현지기압(hPa)   -3.978142e-01 -1.253370e-01 -3.260000e-01 -1.882465e-01   \n",
       "해면기압(hPa)   -4.958314e-01 -1.238865e-01 -3.352652e-01 -1.841270e-01   \n",
       "일조(hr)       2.538284e-01 -4.984238e-02  3.665496e-01  1.882431e-01   \n",
       "일사(MJ/m2)   -2.940459e-15 -2.251991e-15  2.715629e-15 -1.917378e-16   \n",
       "적설(cm)      -1.179418e-01  6.090804e-02  6.127728e-02  3.445881e-02   \n",
       "3시간신적설(cm)   5.821016e-04  6.797580e-02  1.674410e-03  8.853798e-03   \n",
       "전운량(10분위)    2.812954e-01  1.299611e-01 -3.176325e-02 -2.740496e-02   \n",
       "중하층운량(10분위)  2.301877e-01  1.188123e-01 -1.739510e-03 -2.514852e-03   \n",
       "최저운고(100m ) -9.697794e-02 -6.410478e-02 -8.859017e-02 -3.755633e-02   \n",
       "시정(10m)     -8.123657e-02 -1.107361e-01  2.583784e-01  1.134231e-01   \n",
       "지면온도(°C)     9.275770e-01  3.781147e-02  2.792412e-01  1.049336e-01   \n",
       "FZ_flag     -3.518735e-02 -2.743537e-03 -2.213104e-02 -1.545824e-02   \n",
       "\n",
       "                    습도(%)      증기압(hPa)     이슬점온도(°C)     현지기압(hPa)  \\\n",
       "기온(°C)      -2.604086e-01  6.758182e-01  6.942386e-01 -3.978142e-01   \n",
       "강수량(mm)      1.067985e-01  1.355751e-01  1.124092e-01 -1.253370e-01   \n",
       "풍속(m/s)     -5.663141e-01 -1.239536e-01 -1.664374e-01 -3.260000e-01   \n",
       "풍향(16방위)    -3.328353e-01 -1.246091e-01 -1.606233e-01 -1.882465e-01   \n",
       "습도(%)        1.000000e+00  4.470354e-01  4.818033e-01  3.030213e-02   \n",
       "증기압(hPa)     4.470354e-01  1.000000e+00  9.520029e-01 -3.694213e-01   \n",
       "이슬점온도(°C)    4.818033e-01  9.520029e-01  1.000000e+00 -3.366572e-01   \n",
       "현지기압(hPa)    3.030213e-02 -3.694213e-01 -3.366572e-01  1.000000e+00   \n",
       "해면기압(hPa)    5.898783e-02 -4.300696e-01 -4.023500e-01  9.922816e-01   \n",
       "일조(hr)      -5.513788e-01 -1.809358e-01 -1.903435e-01  7.221409e-02   \n",
       "일사(MJ/m2)   -2.752279e-14 -9.872383e-15 -8.781977e-16 -6.453264e-13   \n",
       "적설(cm)       8.965554e-02 -5.195648e-02 -3.940612e-02 -3.371252e-02   \n",
       "3시간신적설(cm)   1.000788e-01  6.249805e-02  7.729680e-02 -8.451452e-02   \n",
       "전운량(10분위)    3.287117e-01  4.696932e-01  4.888895e-01 -2.649038e-01   \n",
       "중하층운량(10분위)  3.730387e-01  4.678029e-01  4.766734e-01 -2.659699e-01   \n",
       "최저운고(100m ) -1.639824e-01 -2.096496e-01 -2.030921e-01  2.016229e-01   \n",
       "시정(10m)     -6.201905e-01 -4.791182e-01 -5.202185e-01  1.704177e-01   \n",
       "지면온도(°C)    -2.780216e-01  5.872174e-01  5.971626e-01 -3.519640e-01   \n",
       "FZ_flag      4.009884e-02 -1.639831e-02 -1.329728e-02  3.743966e-02   \n",
       "\n",
       "                해면기압(hPa)        일조(hr)     일사(MJ/m2)        적설(cm)  \\\n",
       "기온(°C)      -4.958314e-01  2.538284e-01 -2.940459e-15 -1.179418e-01   \n",
       "강수량(mm)     -1.238865e-01 -4.984238e-02 -2.251991e-15  6.090804e-02   \n",
       "풍속(m/s)     -3.352652e-01  3.665496e-01  2.715629e-15  6.127728e-02   \n",
       "풍향(16방위)    -1.841270e-01  1.882431e-01 -1.917378e-16  3.445881e-02   \n",
       "습도(%)        5.898783e-02 -5.513788e-01 -2.752279e-14  8.965554e-02   \n",
       "증기압(hPa)    -4.300696e-01 -1.809358e-01 -9.872383e-15 -5.195648e-02   \n",
       "이슬점온도(°C)   -4.023500e-01 -1.903435e-01 -8.781977e-16 -3.940612e-02   \n",
       "현지기압(hPa)    9.922816e-01  7.221409e-02 -6.453264e-13 -3.371252e-02   \n",
       "해면기압(hPa)    1.000000e+00  4.988154e-02 -1.716242e-12 -1.538818e-02   \n",
       "일조(hr)       4.988154e-02  1.000000e+00  3.008382e-15 -2.182006e-02   \n",
       "일사(MJ/m2)   -1.716242e-12  3.008382e-15  1.000000e+00  8.600035e-15   \n",
       "적설(cm)      -1.538818e-02 -2.182006e-02  8.600035e-15  1.000000e+00   \n",
       "3시간신적설(cm)  -7.868920e-02 -6.167921e-02 -1.826299e-14  2.112510e-01   \n",
       "전운량(10분위)   -2.810351e-01 -3.089140e-01 -7.613205e-15  9.263359e-02   \n",
       "중하층운량(10분위) -2.764243e-01 -3.097024e-01  7.110253e-15  1.068195e-01   \n",
       "최저운고(100m )  2.025406e-01  4.597726e-02 -1.736662e-15 -9.999133e-02   \n",
       "시정(10m)      1.648743e-01  2.633054e-01  1.783903e-14 -1.217306e-01   \n",
       "지면온도(°C)    -4.422530e-01  3.609345e-01 -2.291275e-15 -9.784413e-02   \n",
       "FZ_flag      4.036361e-02  1.655139e-03  3.371966e-16  5.182895e-03   \n",
       "\n",
       "               3시간신적설(cm)     전운량(10분위)   중하층운량(10분위)   최저운고(100m )  \\\n",
       "기온(°C)       5.821016e-04  2.812954e-01  2.301877e-01 -9.697794e-02   \n",
       "강수량(mm)      6.797580e-02  1.299611e-01  1.188123e-01 -6.410478e-02   \n",
       "풍속(m/s)      1.674410e-03 -3.176325e-02 -1.739510e-03 -8.859017e-02   \n",
       "풍향(16방위)     8.853798e-03 -2.740496e-02 -2.514852e-03 -3.755633e-02   \n",
       "습도(%)        1.000788e-01  3.287117e-01  3.730387e-01 -1.639824e-01   \n",
       "증기압(hPa)     6.249805e-02  4.696932e-01  4.678029e-01 -2.096496e-01   \n",
       "이슬점온도(°C)    7.729680e-02  4.888895e-01  4.766734e-01 -2.030921e-01   \n",
       "현지기압(hPa)   -8.451452e-02 -2.649038e-01 -2.659699e-01  2.016229e-01   \n",
       "해면기압(hPa)   -7.868920e-02 -2.810351e-01 -2.764243e-01  2.025406e-01   \n",
       "일조(hr)      -6.167921e-02 -3.089140e-01 -3.097024e-01  4.597726e-02   \n",
       "일사(MJ/m2)   -1.826299e-14 -7.613205e-15  7.110253e-15 -1.736662e-15   \n",
       "적설(cm)       2.112510e-01  9.263359e-02  1.068195e-01 -9.999133e-02   \n",
       "3시간신적설(cm)   1.000000e+00  1.091342e-01  1.119718e-01 -2.746942e-02   \n",
       "전운량(10분위)    1.091342e-01  1.000000e+00  8.293507e-01 -9.166817e-02   \n",
       "중하층운량(10분위)  1.119718e-01  8.293507e-01  1.000000e+00 -1.624306e-01   \n",
       "최저운고(100m ) -2.746942e-02 -9.166817e-02 -1.624306e-01  1.000000e+00   \n",
       "시정(10m)     -9.847218e-02 -4.445106e-01 -4.679062e-01  2.230274e-01   \n",
       "지면온도(°C)     4.758205e-03  2.419499e-01  2.031369e-01 -1.042996e-01   \n",
       "FZ_flag     -1.226559e-02  1.376511e-02  2.548091e-02 -3.460411e-02   \n",
       "\n",
       "                  시정(10m)      지면온도(°C)       FZ_flag  \n",
       "기온(°C)      -8.123657e-02  9.275770e-01 -3.518735e-02  \n",
       "강수량(mm)     -1.107361e-01  3.781147e-02 -2.743537e-03  \n",
       "풍속(m/s)      2.583784e-01  2.792412e-01 -2.213104e-02  \n",
       "풍향(16방위)     1.134231e-01  1.049336e-01 -1.545824e-02  \n",
       "습도(%)       -6.201905e-01 -2.780216e-01  4.009884e-02  \n",
       "증기압(hPa)    -4.791182e-01  5.872174e-01 -1.639831e-02  \n",
       "이슬점온도(°C)   -5.202185e-01  5.971626e-01 -1.329728e-02  \n",
       "현지기압(hPa)    1.704177e-01 -3.519640e-01  3.743966e-02  \n",
       "해면기압(hPa)    1.648743e-01 -4.422530e-01  4.036361e-02  \n",
       "일조(hr)       2.633054e-01  3.609345e-01  1.655139e-03  \n",
       "일사(MJ/m2)    1.783903e-14 -2.291275e-15  3.371966e-16  \n",
       "적설(cm)      -1.217306e-01 -9.784413e-02  5.182895e-03  \n",
       "3시간신적설(cm)  -9.847218e-02  4.758205e-03 -1.226559e-02  \n",
       "전운량(10분위)   -4.445106e-01  2.419499e-01  1.376511e-02  \n",
       "중하층운량(10분위) -4.679062e-01  2.031369e-01  2.548091e-02  \n",
       "최저운고(100m )  2.230274e-01 -1.042996e-01 -3.460411e-02  \n",
       "시정(10m)      1.000000e+00 -4.675637e-02 -5.864815e-02  \n",
       "지면온도(°C)    -4.675637e-02  1.000000e+00 -1.999804e-02  \n",
       "FZ_flag     -5.864815e-02 -1.999804e-02  1.000000e+00  "
      ]
     },
     "execution_count": 185,
     "metadata": {},
     "output_type": "execute_result"
    }
   ],
   "source": [
    "df2.corr()"
   ]
  },
  {
   "cell_type": "code",
   "execution_count": 186,
   "metadata": {},
   "outputs": [],
   "source": [
    "df3 = df.loc[df['지점명']=='서울']"
   ]
  },
  {
   "cell_type": "code",
   "execution_count": 233,
   "metadata": {},
   "outputs": [
    {
     "data": {
      "text/html": [
       "<div>\n",
       "<style scoped>\n",
       "    .dataframe tbody tr th:only-of-type {\n",
       "        vertical-align: middle;\n",
       "    }\n",
       "\n",
       "    .dataframe tbody tr th {\n",
       "        vertical-align: top;\n",
       "    }\n",
       "\n",
       "    .dataframe thead th {\n",
       "        text-align: right;\n",
       "    }\n",
       "</style>\n",
       "<table border=\"1\" class=\"dataframe\">\n",
       "  <thead>\n",
       "    <tr style=\"text-align: right;\">\n",
       "      <th></th>\n",
       "      <th>Temp</th>\n",
       "      <th>Rain</th>\n",
       "      <th>WindSpeed</th>\n",
       "      <th>WindDir</th>\n",
       "      <th>Moist</th>\n",
       "      <th>hPa</th>\n",
       "      <th>DewTemp</th>\n",
       "      <th>CurhPa</th>\n",
       "      <th>SeahPa</th>\n",
       "      <th>Daylight</th>\n",
       "      <th>DaylightMJ</th>\n",
       "      <th>SnowCm</th>\n",
       "      <th>Snow3hr</th>\n",
       "      <th>A</th>\n",
       "      <th>B</th>\n",
       "      <th>C</th>\n",
       "      <th>D</th>\n",
       "      <th>SurfaceTemp</th>\n",
       "      <th>FZ_flag</th>\n",
       "    </tr>\n",
       "  </thead>\n",
       "  <tbody>\n",
       "    <tr>\n",
       "      <td>Temp</td>\n",
       "      <td>1.000000</td>\n",
       "      <td>0.032257</td>\n",
       "      <td>0.019254</td>\n",
       "      <td>-0.155702</td>\n",
       "      <td>0.038879</td>\n",
       "      <td>0.720154</td>\n",
       "      <td>0.753834</td>\n",
       "      <td>-0.417711</td>\n",
       "      <td>-0.450568</td>\n",
       "      <td>0.075163</td>\n",
       "      <td>0.170294</td>\n",
       "      <td>-0.388921</td>\n",
       "      <td>0.091403</td>\n",
       "      <td>0.318800</td>\n",
       "      <td>0.256045</td>\n",
       "      <td>-0.076491</td>\n",
       "      <td>-0.231956</td>\n",
       "      <td>0.849569</td>\n",
       "      <td>0.001352</td>\n",
       "    </tr>\n",
       "    <tr>\n",
       "      <td>Rain</td>\n",
       "      <td>0.032257</td>\n",
       "      <td>1.000000</td>\n",
       "      <td>0.009126</td>\n",
       "      <td>-0.048988</td>\n",
       "      <td>0.171938</td>\n",
       "      <td>0.138139</td>\n",
       "      <td>0.116685</td>\n",
       "      <td>-0.122265</td>\n",
       "      <td>-0.121266</td>\n",
       "      <td>-0.057089</td>\n",
       "      <td>-0.050574</td>\n",
       "      <td>0.042535</td>\n",
       "      <td>0.134337</td>\n",
       "      <td>0.140459</td>\n",
       "      <td>0.136620</td>\n",
       "      <td>-0.076724</td>\n",
       "      <td>-0.137957</td>\n",
       "      <td>0.028585</td>\n",
       "      <td>0.003894</td>\n",
       "    </tr>\n",
       "    <tr>\n",
       "      <td>WindSpeed</td>\n",
       "      <td>0.019254</td>\n",
       "      <td>0.009126</td>\n",
       "      <td>1.000000</td>\n",
       "      <td>0.319842</td>\n",
       "      <td>-0.248831</td>\n",
       "      <td>-0.105800</td>\n",
       "      <td>-0.142642</td>\n",
       "      <td>-0.190911</td>\n",
       "      <td>-0.188640</td>\n",
       "      <td>0.254924</td>\n",
       "      <td>0.275412</td>\n",
       "      <td>-0.055250</td>\n",
       "      <td>0.013530</td>\n",
       "      <td>-0.007498</td>\n",
       "      <td>0.033870</td>\n",
       "      <td>-0.049889</td>\n",
       "      <td>0.183956</td>\n",
       "      <td>0.179317</td>\n",
       "      <td>0.033008</td>\n",
       "    </tr>\n",
       "    <tr>\n",
       "      <td>WindDir</td>\n",
       "      <td>-0.155702</td>\n",
       "      <td>-0.048988</td>\n",
       "      <td>0.319842</td>\n",
       "      <td>1.000000</td>\n",
       "      <td>-0.254369</td>\n",
       "      <td>-0.222321</td>\n",
       "      <td>-0.274018</td>\n",
       "      <td>-0.007744</td>\n",
       "      <td>-0.001246</td>\n",
       "      <td>0.159584</td>\n",
       "      <td>0.140601</td>\n",
       "      <td>0.018830</td>\n",
       "      <td>0.016538</td>\n",
       "      <td>-0.239637</td>\n",
       "      <td>-0.199721</td>\n",
       "      <td>-0.026708</td>\n",
       "      <td>0.137289</td>\n",
       "      <td>-0.017405</td>\n",
       "      <td>-0.035058</td>\n",
       "    </tr>\n",
       "    <tr>\n",
       "      <td>Moist</td>\n",
       "      <td>0.038879</td>\n",
       "      <td>0.171938</td>\n",
       "      <td>-0.248831</td>\n",
       "      <td>-0.254369</td>\n",
       "      <td>1.000000</td>\n",
       "      <td>0.634665</td>\n",
       "      <td>0.662555</td>\n",
       "      <td>-0.284697</td>\n",
       "      <td>-0.281831</td>\n",
       "      <td>-0.503928</td>\n",
       "      <td>-0.491137</td>\n",
       "      <td>0.182119</td>\n",
       "      <td>0.028132</td>\n",
       "      <td>0.422373</td>\n",
       "      <td>0.485244</td>\n",
       "      <td>-0.312099</td>\n",
       "      <td>-0.665075</td>\n",
       "      <td>-0.087734</td>\n",
       "      <td>-0.015787</td>\n",
       "    </tr>\n",
       "    <tr>\n",
       "      <td>hPa</td>\n",
       "      <td>0.720154</td>\n",
       "      <td>0.138139</td>\n",
       "      <td>-0.105800</td>\n",
       "      <td>-0.222321</td>\n",
       "      <td>0.634665</td>\n",
       "      <td>1.000000</td>\n",
       "      <td>0.949548</td>\n",
       "      <td>-0.475266</td>\n",
       "      <td>-0.496020</td>\n",
       "      <td>-0.252353</td>\n",
       "      <td>-0.189640</td>\n",
       "      <td>-0.183714</td>\n",
       "      <td>0.073202</td>\n",
       "      <td>0.457296</td>\n",
       "      <td>0.478817</td>\n",
       "      <td>-0.249794</td>\n",
       "      <td>-0.571944</td>\n",
       "      <td>0.552173</td>\n",
       "      <td>-0.018270</td>\n",
       "    </tr>\n",
       "    <tr>\n",
       "      <td>DewTemp</td>\n",
       "      <td>0.753834</td>\n",
       "      <td>0.116685</td>\n",
       "      <td>-0.142642</td>\n",
       "      <td>-0.274018</td>\n",
       "      <td>0.662555</td>\n",
       "      <td>0.949548</td>\n",
       "      <td>1.000000</td>\n",
       "      <td>-0.482941</td>\n",
       "      <td>-0.505037</td>\n",
       "      <td>-0.278655</td>\n",
       "      <td>-0.204545</td>\n",
       "      <td>-0.177812</td>\n",
       "      <td>0.077805</td>\n",
       "      <td>0.483955</td>\n",
       "      <td>0.481672</td>\n",
       "      <td>-0.246277</td>\n",
       "      <td>-0.587438</td>\n",
       "      <td>0.548544</td>\n",
       "      <td>-0.014364</td>\n",
       "    </tr>\n",
       "    <tr>\n",
       "      <td>CurhPa</td>\n",
       "      <td>-0.417711</td>\n",
       "      <td>-0.122265</td>\n",
       "      <td>-0.190911</td>\n",
       "      <td>-0.007744</td>\n",
       "      <td>-0.284697</td>\n",
       "      <td>-0.475266</td>\n",
       "      <td>-0.482941</td>\n",
       "      <td>1.000000</td>\n",
       "      <td>0.999289</td>\n",
       "      <td>0.131515</td>\n",
       "      <td>0.066907</td>\n",
       "      <td>0.077931</td>\n",
       "      <td>-0.251224</td>\n",
       "      <td>-0.348655</td>\n",
       "      <td>-0.357994</td>\n",
       "      <td>0.210300</td>\n",
       "      <td>0.297254</td>\n",
       "      <td>-0.373164</td>\n",
       "      <td>-0.003954</td>\n",
       "    </tr>\n",
       "    <tr>\n",
       "      <td>SeahPa</td>\n",
       "      <td>-0.450568</td>\n",
       "      <td>-0.121266</td>\n",
       "      <td>-0.188640</td>\n",
       "      <td>-0.001246</td>\n",
       "      <td>-0.281831</td>\n",
       "      <td>-0.496020</td>\n",
       "      <td>-0.505037</td>\n",
       "      <td>0.999289</td>\n",
       "      <td>1.000000</td>\n",
       "      <td>0.127404</td>\n",
       "      <td>0.060051</td>\n",
       "      <td>0.091425</td>\n",
       "      <td>-0.248810</td>\n",
       "      <td>-0.355561</td>\n",
       "      <td>-0.362374</td>\n",
       "      <td>0.210496</td>\n",
       "      <td>0.301296</td>\n",
       "      <td>-0.400795</td>\n",
       "      <td>-0.003873</td>\n",
       "    </tr>\n",
       "    <tr>\n",
       "      <td>Daylight</td>\n",
       "      <td>0.075163</td>\n",
       "      <td>-0.057089</td>\n",
       "      <td>0.254924</td>\n",
       "      <td>0.159584</td>\n",
       "      <td>-0.503928</td>\n",
       "      <td>-0.252353</td>\n",
       "      <td>-0.278655</td>\n",
       "      <td>0.131515</td>\n",
       "      <td>0.127404</td>\n",
       "      <td>1.000000</td>\n",
       "      <td>0.844521</td>\n",
       "      <td>-0.001215</td>\n",
       "      <td>-0.013863</td>\n",
       "      <td>-0.345573</td>\n",
       "      <td>-0.337355</td>\n",
       "      <td>0.079628</td>\n",
       "      <td>0.249289</td>\n",
       "      <td>0.288947</td>\n",
       "      <td>-0.017892</td>\n",
       "    </tr>\n",
       "    <tr>\n",
       "      <td>DaylightMJ</td>\n",
       "      <td>0.170294</td>\n",
       "      <td>-0.050574</td>\n",
       "      <td>0.275412</td>\n",
       "      <td>0.140601</td>\n",
       "      <td>-0.491137</td>\n",
       "      <td>-0.189640</td>\n",
       "      <td>-0.204545</td>\n",
       "      <td>0.066907</td>\n",
       "      <td>0.060051</td>\n",
       "      <td>0.844521</td>\n",
       "      <td>1.000000</td>\n",
       "      <td>-0.008717</td>\n",
       "      <td>-0.002336</td>\n",
       "      <td>-0.185478</td>\n",
       "      <td>-0.210375</td>\n",
       "      <td>0.061453</td>\n",
       "      <td>0.185142</td>\n",
       "      <td>0.431466</td>\n",
       "      <td>-0.018990</td>\n",
       "    </tr>\n",
       "    <tr>\n",
       "      <td>SnowCm</td>\n",
       "      <td>-0.388921</td>\n",
       "      <td>0.042535</td>\n",
       "      <td>-0.055250</td>\n",
       "      <td>0.018830</td>\n",
       "      <td>0.182119</td>\n",
       "      <td>-0.183714</td>\n",
       "      <td>-0.177812</td>\n",
       "      <td>0.077931</td>\n",
       "      <td>0.091425</td>\n",
       "      <td>-0.001215</td>\n",
       "      <td>-0.008717</td>\n",
       "      <td>1.000000</td>\n",
       "      <td>0.019588</td>\n",
       "      <td>-0.004015</td>\n",
       "      <td>0.045400</td>\n",
       "      <td>-0.048169</td>\n",
       "      <td>-0.107237</td>\n",
       "      <td>-0.191823</td>\n",
       "      <td>-0.010047</td>\n",
       "    </tr>\n",
       "    <tr>\n",
       "      <td>Snow3hr</td>\n",
       "      <td>0.091403</td>\n",
       "      <td>0.134337</td>\n",
       "      <td>0.013530</td>\n",
       "      <td>0.016538</td>\n",
       "      <td>0.028132</td>\n",
       "      <td>0.073202</td>\n",
       "      <td>0.077805</td>\n",
       "      <td>-0.251224</td>\n",
       "      <td>-0.248810</td>\n",
       "      <td>-0.013863</td>\n",
       "      <td>-0.002336</td>\n",
       "      <td>0.019588</td>\n",
       "      <td>1.000000</td>\n",
       "      <td>0.043500</td>\n",
       "      <td>0.005373</td>\n",
       "      <td>0.138142</td>\n",
       "      <td>-0.090766</td>\n",
       "      <td>0.077710</td>\n",
       "      <td>-0.000041</td>\n",
       "    </tr>\n",
       "    <tr>\n",
       "      <td>A</td>\n",
       "      <td>0.318800</td>\n",
       "      <td>0.140459</td>\n",
       "      <td>-0.007498</td>\n",
       "      <td>-0.239637</td>\n",
       "      <td>0.422373</td>\n",
       "      <td>0.457296</td>\n",
       "      <td>0.483955</td>\n",
       "      <td>-0.348655</td>\n",
       "      <td>-0.355561</td>\n",
       "      <td>-0.345573</td>\n",
       "      <td>-0.185478</td>\n",
       "      <td>-0.004015</td>\n",
       "      <td>0.043500</td>\n",
       "      <td>1.000000</td>\n",
       "      <td>0.823604</td>\n",
       "      <td>-0.196575</td>\n",
       "      <td>-0.419283</td>\n",
       "      <td>0.234578</td>\n",
       "      <td>0.045646</td>\n",
       "    </tr>\n",
       "    <tr>\n",
       "      <td>B</td>\n",
       "      <td>0.256045</td>\n",
       "      <td>0.136620</td>\n",
       "      <td>0.033870</td>\n",
       "      <td>-0.199721</td>\n",
       "      <td>0.485244</td>\n",
       "      <td>0.478817</td>\n",
       "      <td>0.481672</td>\n",
       "      <td>-0.357994</td>\n",
       "      <td>-0.362374</td>\n",
       "      <td>-0.337355</td>\n",
       "      <td>-0.210375</td>\n",
       "      <td>0.045400</td>\n",
       "      <td>0.005373</td>\n",
       "      <td>0.823604</td>\n",
       "      <td>1.000000</td>\n",
       "      <td>-0.261546</td>\n",
       "      <td>-0.426013</td>\n",
       "      <td>0.184646</td>\n",
       "      <td>0.037811</td>\n",
       "    </tr>\n",
       "    <tr>\n",
       "      <td>C</td>\n",
       "      <td>-0.076491</td>\n",
       "      <td>-0.076724</td>\n",
       "      <td>-0.049889</td>\n",
       "      <td>-0.026708</td>\n",
       "      <td>-0.312099</td>\n",
       "      <td>-0.249794</td>\n",
       "      <td>-0.246277</td>\n",
       "      <td>0.210300</td>\n",
       "      <td>0.210496</td>\n",
       "      <td>0.079628</td>\n",
       "      <td>0.061453</td>\n",
       "      <td>-0.048169</td>\n",
       "      <td>0.138142</td>\n",
       "      <td>-0.196575</td>\n",
       "      <td>-0.261546</td>\n",
       "      <td>1.000000</td>\n",
       "      <td>0.264222</td>\n",
       "      <td>-0.058827</td>\n",
       "      <td>-0.019791</td>\n",
       "    </tr>\n",
       "    <tr>\n",
       "      <td>D</td>\n",
       "      <td>-0.231956</td>\n",
       "      <td>-0.137957</td>\n",
       "      <td>0.183956</td>\n",
       "      <td>0.137289</td>\n",
       "      <td>-0.665075</td>\n",
       "      <td>-0.571944</td>\n",
       "      <td>-0.587438</td>\n",
       "      <td>0.297254</td>\n",
       "      <td>0.301296</td>\n",
       "      <td>0.249289</td>\n",
       "      <td>0.185142</td>\n",
       "      <td>-0.107237</td>\n",
       "      <td>-0.090766</td>\n",
       "      <td>-0.419283</td>\n",
       "      <td>-0.426013</td>\n",
       "      <td>0.264222</td>\n",
       "      <td>1.000000</td>\n",
       "      <td>-0.107175</td>\n",
       "      <td>0.004965</td>\n",
       "    </tr>\n",
       "    <tr>\n",
       "      <td>SurfaceTemp</td>\n",
       "      <td>0.849569</td>\n",
       "      <td>0.028585</td>\n",
       "      <td>0.179317</td>\n",
       "      <td>-0.017405</td>\n",
       "      <td>-0.087734</td>\n",
       "      <td>0.552173</td>\n",
       "      <td>0.548544</td>\n",
       "      <td>-0.373164</td>\n",
       "      <td>-0.400795</td>\n",
       "      <td>0.288947</td>\n",
       "      <td>0.431466</td>\n",
       "      <td>-0.191823</td>\n",
       "      <td>0.077710</td>\n",
       "      <td>0.234578</td>\n",
       "      <td>0.184646</td>\n",
       "      <td>-0.058827</td>\n",
       "      <td>-0.107175</td>\n",
       "      <td>1.000000</td>\n",
       "      <td>-0.012414</td>\n",
       "    </tr>\n",
       "    <tr>\n",
       "      <td>FZ_flag</td>\n",
       "      <td>0.001352</td>\n",
       "      <td>0.003894</td>\n",
       "      <td>0.033008</td>\n",
       "      <td>-0.035058</td>\n",
       "      <td>-0.015787</td>\n",
       "      <td>-0.018270</td>\n",
       "      <td>-0.014364</td>\n",
       "      <td>-0.003954</td>\n",
       "      <td>-0.003873</td>\n",
       "      <td>-0.017892</td>\n",
       "      <td>-0.018990</td>\n",
       "      <td>-0.010047</td>\n",
       "      <td>-0.000041</td>\n",
       "      <td>0.045646</td>\n",
       "      <td>0.037811</td>\n",
       "      <td>-0.019791</td>\n",
       "      <td>0.004965</td>\n",
       "      <td>-0.012414</td>\n",
       "      <td>1.000000</td>\n",
       "    </tr>\n",
       "  </tbody>\n",
       "</table>\n",
       "</div>"
      ],
      "text/plain": [
       "                 Temp      Rain  WindSpeed   WindDir     Moist       hPa  \\\n",
       "Temp         1.000000  0.032257   0.019254 -0.155702  0.038879  0.720154   \n",
       "Rain         0.032257  1.000000   0.009126 -0.048988  0.171938  0.138139   \n",
       "WindSpeed    0.019254  0.009126   1.000000  0.319842 -0.248831 -0.105800   \n",
       "WindDir     -0.155702 -0.048988   0.319842  1.000000 -0.254369 -0.222321   \n",
       "Moist        0.038879  0.171938  -0.248831 -0.254369  1.000000  0.634665   \n",
       "hPa          0.720154  0.138139  -0.105800 -0.222321  0.634665  1.000000   \n",
       "DewTemp      0.753834  0.116685  -0.142642 -0.274018  0.662555  0.949548   \n",
       "CurhPa      -0.417711 -0.122265  -0.190911 -0.007744 -0.284697 -0.475266   \n",
       "SeahPa      -0.450568 -0.121266  -0.188640 -0.001246 -0.281831 -0.496020   \n",
       "Daylight     0.075163 -0.057089   0.254924  0.159584 -0.503928 -0.252353   \n",
       "DaylightMJ   0.170294 -0.050574   0.275412  0.140601 -0.491137 -0.189640   \n",
       "SnowCm      -0.388921  0.042535  -0.055250  0.018830  0.182119 -0.183714   \n",
       "Snow3hr      0.091403  0.134337   0.013530  0.016538  0.028132  0.073202   \n",
       "A            0.318800  0.140459  -0.007498 -0.239637  0.422373  0.457296   \n",
       "B            0.256045  0.136620   0.033870 -0.199721  0.485244  0.478817   \n",
       "C           -0.076491 -0.076724  -0.049889 -0.026708 -0.312099 -0.249794   \n",
       "D           -0.231956 -0.137957   0.183956  0.137289 -0.665075 -0.571944   \n",
       "SurfaceTemp  0.849569  0.028585   0.179317 -0.017405 -0.087734  0.552173   \n",
       "FZ_flag      0.001352  0.003894   0.033008 -0.035058 -0.015787 -0.018270   \n",
       "\n",
       "              DewTemp    CurhPa    SeahPa  Daylight  DaylightMJ    SnowCm  \\\n",
       "Temp         0.753834 -0.417711 -0.450568  0.075163    0.170294 -0.388921   \n",
       "Rain         0.116685 -0.122265 -0.121266 -0.057089   -0.050574  0.042535   \n",
       "WindSpeed   -0.142642 -0.190911 -0.188640  0.254924    0.275412 -0.055250   \n",
       "WindDir     -0.274018 -0.007744 -0.001246  0.159584    0.140601  0.018830   \n",
       "Moist        0.662555 -0.284697 -0.281831 -0.503928   -0.491137  0.182119   \n",
       "hPa          0.949548 -0.475266 -0.496020 -0.252353   -0.189640 -0.183714   \n",
       "DewTemp      1.000000 -0.482941 -0.505037 -0.278655   -0.204545 -0.177812   \n",
       "CurhPa      -0.482941  1.000000  0.999289  0.131515    0.066907  0.077931   \n",
       "SeahPa      -0.505037  0.999289  1.000000  0.127404    0.060051  0.091425   \n",
       "Daylight    -0.278655  0.131515  0.127404  1.000000    0.844521 -0.001215   \n",
       "DaylightMJ  -0.204545  0.066907  0.060051  0.844521    1.000000 -0.008717   \n",
       "SnowCm      -0.177812  0.077931  0.091425 -0.001215   -0.008717  1.000000   \n",
       "Snow3hr      0.077805 -0.251224 -0.248810 -0.013863   -0.002336  0.019588   \n",
       "A            0.483955 -0.348655 -0.355561 -0.345573   -0.185478 -0.004015   \n",
       "B            0.481672 -0.357994 -0.362374 -0.337355   -0.210375  0.045400   \n",
       "C           -0.246277  0.210300  0.210496  0.079628    0.061453 -0.048169   \n",
       "D           -0.587438  0.297254  0.301296  0.249289    0.185142 -0.107237   \n",
       "SurfaceTemp  0.548544 -0.373164 -0.400795  0.288947    0.431466 -0.191823   \n",
       "FZ_flag     -0.014364 -0.003954 -0.003873 -0.017892   -0.018990 -0.010047   \n",
       "\n",
       "              Snow3hr         A         B         C         D  SurfaceTemp  \\\n",
       "Temp         0.091403  0.318800  0.256045 -0.076491 -0.231956     0.849569   \n",
       "Rain         0.134337  0.140459  0.136620 -0.076724 -0.137957     0.028585   \n",
       "WindSpeed    0.013530 -0.007498  0.033870 -0.049889  0.183956     0.179317   \n",
       "WindDir      0.016538 -0.239637 -0.199721 -0.026708  0.137289    -0.017405   \n",
       "Moist        0.028132  0.422373  0.485244 -0.312099 -0.665075    -0.087734   \n",
       "hPa          0.073202  0.457296  0.478817 -0.249794 -0.571944     0.552173   \n",
       "DewTemp      0.077805  0.483955  0.481672 -0.246277 -0.587438     0.548544   \n",
       "CurhPa      -0.251224 -0.348655 -0.357994  0.210300  0.297254    -0.373164   \n",
       "SeahPa      -0.248810 -0.355561 -0.362374  0.210496  0.301296    -0.400795   \n",
       "Daylight    -0.013863 -0.345573 -0.337355  0.079628  0.249289     0.288947   \n",
       "DaylightMJ  -0.002336 -0.185478 -0.210375  0.061453  0.185142     0.431466   \n",
       "SnowCm       0.019588 -0.004015  0.045400 -0.048169 -0.107237    -0.191823   \n",
       "Snow3hr      1.000000  0.043500  0.005373  0.138142 -0.090766     0.077710   \n",
       "A            0.043500  1.000000  0.823604 -0.196575 -0.419283     0.234578   \n",
       "B            0.005373  0.823604  1.000000 -0.261546 -0.426013     0.184646   \n",
       "C            0.138142 -0.196575 -0.261546  1.000000  0.264222    -0.058827   \n",
       "D           -0.090766 -0.419283 -0.426013  0.264222  1.000000    -0.107175   \n",
       "SurfaceTemp  0.077710  0.234578  0.184646 -0.058827 -0.107175     1.000000   \n",
       "FZ_flag     -0.000041  0.045646  0.037811 -0.019791  0.004965    -0.012414   \n",
       "\n",
       "              FZ_flag  \n",
       "Temp         0.001352  \n",
       "Rain         0.003894  \n",
       "WindSpeed    0.033008  \n",
       "WindDir     -0.035058  \n",
       "Moist       -0.015787  \n",
       "hPa         -0.018270  \n",
       "DewTemp     -0.014364  \n",
       "CurhPa      -0.003954  \n",
       "SeahPa      -0.003873  \n",
       "Daylight    -0.017892  \n",
       "DaylightMJ  -0.018990  \n",
       "SnowCm      -0.010047  \n",
       "Snow3hr     -0.000041  \n",
       "A            0.045646  \n",
       "B            0.037811  \n",
       "C           -0.019791  \n",
       "D            0.004965  \n",
       "SurfaceTemp -0.012414  \n",
       "FZ_flag      1.000000  "
      ]
     },
     "execution_count": 233,
     "metadata": {},
     "output_type": "execute_result"
    }
   ],
   "source": [
    "df3.corr()"
   ]
  },
  {
   "cell_type": "code",
   "execution_count": 188,
   "metadata": {},
   "outputs": [],
   "source": [
    "from sklearn.linear_model import LogisticRegression"
   ]
  },
  {
   "cell_type": "code",
   "execution_count": 200,
   "metadata": {},
   "outputs": [],
   "source": [
    "feature_cols = ['기온(°C)', '강수량(mm)', '풍속(m/s)', '풍향(16방위)',  '습도(%)', \n",
    "       '증기압(hPa)', '이슬점온도(°C)', '현지기압(hPa)', '해면기압(hPa)',\n",
    "       '일조(hr)', '일사(MJ/m2)', '적설(cm)', '3시간신적설(cm)',\n",
    "       '전운량(10분위)', '중하층운량(10분위)', '최저운고(100m )', '시정(10m)', '지면온도(°C)']"
   ]
  },
  {
   "cell_type": "code",
   "execution_count": 213,
   "metadata": {},
   "outputs": [
    {
     "data": {
      "text/plain": [
       "지점                 0\n",
       "지점명                0\n",
       "일시                 0\n",
       "Temp               0\n",
       "Rain               0\n",
       "WindSpeed          0\n",
       "WindDir            0\n",
       "Moist              0\n",
       "hPa                0\n",
       "DewTemp            0\n",
       "CurhPa             0\n",
       "SeahPa             0\n",
       "Daylight           0\n",
       "DaylightMJ         0\n",
       "SnowCm             0\n",
       "Snow3hr            0\n",
       "A                  0\n",
       "B                  0\n",
       "운형(운형약어)        4615\n",
       "C                  0\n",
       "D                  0\n",
       "지면상태(지면상태코드)       0\n",
       "현상번호(국내식)       4845\n",
       "SurfaceTemp        0\n",
       "FZ_flag            0\n",
       "dtype: int64"
      ]
     },
     "execution_count": 213,
     "metadata": {},
     "output_type": "execute_result"
    }
   ],
   "source": [
    "df3.isnull().sum()"
   ]
  },
  {
   "cell_type": "code",
   "execution_count": 201,
   "metadata": {},
   "outputs": [],
   "source": [
    "X = df3.loc[:, feature_cols]\n",
    "y = df3['FZ_flag'].values"
   ]
  },
  {
   "cell_type": "code",
   "execution_count": 202,
   "metadata": {},
   "outputs": [
    {
     "name": "stderr",
     "output_type": "stream",
     "text": [
      "C:\\ProgramData\\Anaconda3\\lib\\site-packages\\sklearn\\linear_model\\logistic.py:432: FutureWarning: Default solver will be changed to 'lbfgs' in 0.22. Specify a solver to silence this warning.\n",
      "  FutureWarning)\n"
     ]
    }
   ],
   "source": [
    "logreg = LogisticRegression().fit(X, y)"
   ]
  },
  {
   "cell_type": "code",
   "execution_count": 203,
   "metadata": {},
   "outputs": [
    {
     "name": "stderr",
     "output_type": "stream",
     "text": [
      "C:\\ProgramData\\Anaconda3\\lib\\site-packages\\pandas\\core\\frame.py:4223: SettingWithCopyWarning: \n",
      "A value is trying to be set on a copy of a slice from a DataFrame\n",
      "\n",
      "See the caveats in the documentation: http://pandas.pydata.org/pandas-docs/stable/user_guide/indexing.html#returning-a-view-versus-a-copy\n",
      "  return super().rename(**kwargs)\n"
     ]
    }
   ],
   "source": [
    "df3.rename(columns = {'기온(°C)': 'Temp', \n",
    "                      '강수량(mm)': 'Rain', \n",
    "                      '풍속(m/s)': 'WindSpeed', \n",
    "                      '풍향(16방위)': 'WindDir',  \n",
    "                      '습도(%)': 'Moist',\n",
    "                      '증기압(hPa)': 'hPa', \n",
    "                      '이슬점온도(°C)': 'DewTemp', \n",
    "                      '현지기압(hPa)': 'CurhPa', \n",
    "                      '해면기압(hPa)': 'SeahPa',\n",
    "                      '일조(hr)': 'Daylight', \n",
    "                      '일사(MJ/m2)': 'DaylightMJ', \n",
    "                      '적설(cm)': 'SnowCm', \n",
    "                      '3시간신적설(cm)': 'Snow3hr',\n",
    "                      '전운량(10분위)': 'A', \n",
    "                      '중하층운량(10분위)': 'B', \n",
    "                      '최저운고(100m )': 'C', \n",
    "                      '시정(10m)': 'D', \n",
    "                      '지면온도(°C)': 'SurfaceTemp'\n",
    "                     }, inplace=True)"
   ]
  },
  {
   "cell_type": "code",
   "execution_count": 212,
   "metadata": {},
   "outputs": [
    {
     "data": {
      "text/plain": [
       "Index(['지점', '지점명', '일시', 'Temp', 'Rain', 'WindSpeed', 'WindDir', 'Moist',\n",
       "       'hPa', 'DewTemp', 'CurhPa', 'SeahPa', 'Daylight', 'DaylightMJ',\n",
       "       'SnowCm', 'Snow3hr', 'A', 'B', '운형(운형약어)', 'C', 'D', '지면상태(지면상태코드)',\n",
       "       '현상번호(국내식)', 'SurfaceTemp', 'FZ_flag'],\n",
       "      dtype='object')"
      ]
     },
     "execution_count": 212,
     "metadata": {},
     "output_type": "execute_result"
    }
   ],
   "source": [
    "df3.columns"
   ]
  },
  {
   "cell_type": "code",
   "execution_count": 206,
   "metadata": {},
   "outputs": [],
   "source": [
    "import statsmodels.api as sm"
   ]
  },
  {
   "cell_type": "code",
   "execution_count": 210,
   "metadata": {},
   "outputs": [],
   "source": [
    "#model = sm.Logit.from_formula('FZ_flag ~ Temp + Rain + WindSpeed + WindDir + Moist + hPa + DewTemp + CurhPa + SeahPa + Daylight + DaylightMJ + SnowCm + Snow3hr + A + B + C + D + SurfaceTemp', df3)"
   ]
  },
  {
   "cell_type": "code",
   "execution_count": 228,
   "metadata": {},
   "outputs": [
    {
     "data": {
      "text/plain": [
       "SurfaceTemp\n",
       "-13.2    3\n",
       "-13.1    3\n",
       "-13.0    1\n",
       "-12.9    1\n",
       "-12.8    1\n",
       "        ..\n",
       " 23.9    1\n",
       " 24.1    1\n",
       " 24.3    1\n",
       " 24.9    1\n",
       " 25.0    1\n",
       "Length: 1810, dtype: int64"
      ]
     },
     "execution_count": 228,
     "metadata": {},
     "output_type": "execute_result"
    }
   ],
   "source": [
    "df3.groupby('SurfaceTemp').size()"
   ]
  },
  {
   "cell_type": "code",
   "execution_count": 229,
   "metadata": {},
   "outputs": [
    {
     "data": {
      "text/plain": [
       "FZ_flag\n",
       "0    7241\n",
       "1       7\n",
       "dtype: int64"
      ]
     },
     "execution_count": 229,
     "metadata": {},
     "output_type": "execute_result"
    }
   ],
   "source": [
    "df3.groupby('FZ_flag').size()"
   ]
  },
  {
   "cell_type": "code",
   "execution_count": 231,
   "metadata": {},
   "outputs": [
    {
     "data": {
      "text/plain": [
       "지점                      object\n",
       "지점명                     object\n",
       "일시              datetime64[ns]\n",
       "기온(°C)                 float64\n",
       "강수량(mm)                float64\n",
       "풍속(m/s)                float64\n",
       "풍향(16방위)                 int64\n",
       "습도(%)                  float64\n",
       "증기압(hPa)               float64\n",
       "이슬점온도(°C)              float64\n",
       "현지기압(hPa)              float64\n",
       "해면기압(hPa)              float64\n",
       "일조(hr)                 float64\n",
       "일사(MJ/m2)              float64\n",
       "적설(cm)                 float64\n",
       "3시간신적설(cm)             float64\n",
       "전운량(10분위)              float64\n",
       "중하층운량(10분위)            float64\n",
       "운형(운형약어)                object\n",
       "최저운고(100m )            float64\n",
       "시정(10m)                float64\n",
       "지면상태(지면상태코드)            object\n",
       "현상번호(국내식)               object\n",
       "지면온도(°C)               float64\n",
       "FZ_flag                  int64\n",
       "dtype: object"
      ]
     },
     "execution_count": 231,
     "metadata": {},
     "output_type": "execute_result"
    }
   ],
   "source": [
    "df.dtypes"
   ]
  },
  {
   "cell_type": "code",
   "execution_count": 220,
   "metadata": {},
   "outputs": [],
   "source": [
    "model = sm.Logit.from_formula('FZ_flag ~ Temp + Rain + WindSpeed + Moist + hPa + CurhPa + SurfaceTemp', df3)"
   ]
  },
  {
   "cell_type": "code",
   "execution_count": 230,
   "metadata": {},
   "outputs": [
    {
     "name": "stdout",
     "output_type": "stream",
     "text": [
      "Optimization terminated successfully.\n",
      "         Current function value: 0.005518\n",
      "         Iterations 14\n",
      "                           Logit Regression Results                           \n",
      "==============================================================================\n",
      "Dep. Variable:                FZ_flag   No. Observations:                 7248\n",
      "Model:                          Logit   Df Residuals:                     7240\n",
      "Method:                           MLE   Df Model:                            7\n",
      "Date:                Tue, 11 Feb 2020   Pseudo R-squ.:                  0.2806\n",
      "Time:                        17:50:47   Log-Likelihood:                -39.996\n",
      "converged:                       True   LL-Null:                       -55.595\n",
      "Covariance Type:            nonrobust   LLR p-value:                 5.719e-05\n",
      "===============================================================================\n",
      "                  coef    std err          z      P>|z|      [0.025      0.975]\n",
      "-------------------------------------------------------------------------------\n",
      "Intercept      43.0153     79.042      0.544      0.586    -111.903     197.934\n",
      "Temp            1.0219      0.260      3.932      0.000       0.513       1.531\n",
      "Rain            0.4526      0.465      0.973      0.331      -0.459       1.364\n",
      "WindSpeed       0.4643      0.243      1.915      0.056      -0.011       0.940\n",
      "Moist           0.1323      0.052      2.547      0.011       0.030       0.234\n",
      "hPa            -2.5304      0.808     -3.133      0.002      -4.113      -0.948\n",
      "CurhPa         -0.0500      0.078     -0.643      0.520      -0.202       0.102\n",
      "SurfaceTemp    -0.7284      0.240     -3.036      0.002      -1.199      -0.258\n",
      "===============================================================================\n",
      "\n",
      "Possibly complete quasi-separation: A fraction 0.45 of observations can be\n",
      "perfectly predicted. This might indicate that there is complete\n",
      "quasi-separation. In this case some parameters will not be identified.\n"
     ]
    }
   ],
   "source": [
    "result_med = model.fit(maxiter=100)\n",
    "print(result_med.summary())"
   ]
  },
  {
   "cell_type": "code",
   "execution_count": null,
   "metadata": {},
   "outputs": [],
   "source": []
  }
 ],
 "metadata": {
  "kernelspec": {
   "display_name": "Python 3",
   "language": "python",
   "name": "python3"
  },
  "language_info": {
   "codemirror_mode": {
    "name": "ipython",
    "version": 3
   },
   "file_extension": ".py",
   "mimetype": "text/x-python",
   "name": "python",
   "nbconvert_exporter": "python",
   "pygments_lexer": "ipython3",
   "version": "3.6.5"
  }
 },
 "nbformat": 4,
 "nbformat_minor": 2
}
