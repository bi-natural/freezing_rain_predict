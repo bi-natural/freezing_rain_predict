{
 "cells": [
  {
   "cell_type": "markdown",
   "metadata": {},
   "source": [
    "## XGBoost이용한 Classification (Logistic Regressoin)"
   ]
  },
  {
   "cell_type": "code",
   "execution_count": 1,
   "metadata": {},
   "outputs": [],
   "source": [
    "import pandas as pd\n",
    "import numpy as np\n",
    "import os, sys, time\n",
    "import seaborn as sns\n",
    "import matplotlib.pyplot as plt"
   ]
  },
  {
   "cell_type": "code",
   "execution_count": 2,
   "metadata": {},
   "outputs": [],
   "source": [
    "from xgboost import XGBClassifier\n",
    "from sklearn.model_selection import train_test_split\n",
    "from sklearn.metrics import accuracy_score"
   ]
  },
  {
   "cell_type": "markdown",
   "metadata": {},
   "source": [
    "### 데이터세트"
   ]
  },
  {
   "cell_type": "code",
   "execution_count": 33,
   "metadata": {},
   "outputs": [
    {
     "name": "stdout",
     "output_type": "stream",
     "text": [
      "found : FZ_Data/FZ_all_ffill.csv\n"
     ]
    }
   ],
   "source": [
    "FILENAME = 'FZ_Data/FZ_all_ffill.csv'\n",
    "\n",
    "if not os.path.exists(FILENAME):\n",
    "    assert False, 'cannot find FILENAME: {}'.format(FILENAME)\n",
    "else:\n",
    "    print('found : {}'.format(FILENAME))"
   ]
  },
  {
   "cell_type": "code",
   "execution_count": 34,
   "metadata": {},
   "outputs": [],
   "source": [
    "if FILENAME.endswith('.xlsx'):\n",
    "    df = pd.read_excel(FILENAME, \n",
    "                       header=0,\n",
    "                       encoding='euc-kr',\n",
    "                       converters={'지점':str, '지면상태(지면상태코드)':str, '현상번호(국내식)':str})\n",
    "elif FILENAME.endswith('.csv'):\n",
    "    df = pd.read_csv(FILENAME, \n",
    "                     header=0,\n",
    "                     encoding='euc-kr',\n",
    "                     converters={'지점':str, '지면상태(지면상태코드)':str, '현상번호(국내식)':str})"
   ]
  },
  {
   "cell_type": "code",
   "execution_count": 35,
   "metadata": {},
   "outputs": [],
   "source": [
    "use_colmns = ['지점', '지점명', '일시', '기온(°C)', '강수량(mm)', \n",
    "       '풍속(m/s)', '풍향(16방위)', '습도(%)', \n",
    "       '증기압(hPa)', '이슬점온도(°C)', '현지기압(hPa)', '해면기압(hPa)',\n",
    "       '일조(hr)', '일사(MJ/m2)', '적설(cm)', '3시간신적설(cm)',\n",
    "       '전운량(10분위)', '중하층운량(10분위)', '운형(운형약어)', '최저운고(100m )', '시정(10m)',\n",
    "       '지면상태(지면상태코드)', '현상번호(국내식)', '지면온도(°C)',\n",
    "       'FZ_flag']\n",
    "\n",
    "df = df[use_colmns]"
   ]
  },
  {
   "cell_type": "code",
   "execution_count": 36,
   "metadata": {},
   "outputs": [],
   "source": [
    "df.rename(columns = {'지점' : 'Office',\n",
    "                      '지점명' : 'Office_Name',\n",
    "                      '일시' : 'Date',\n",
    "                      '기온(°C)': 'Temp', \n",
    "                      '강수량(mm)': 'Rain', \n",
    "                      '풍속(m/s)': 'WindSpeed', \n",
    "                      '풍향(16방위)': 'WindDir',  \n",
    "                      '습도(%)': 'Moist',\n",
    "                      '증기압(hPa)': 'hPa', \n",
    "                      '이슬점온도(°C)': 'DewTemp', \n",
    "                      '현지기압(hPa)': 'CurhPa', \n",
    "                      '해면기압(hPa)': 'SeahPa',\n",
    "                      '일조(hr)': 'Daylight', \n",
    "                      '일사(MJ/m2)': 'DaylightMJ', \n",
    "                      '적설(cm)': 'SnowCm', \n",
    "                      '3시간신적설(cm)': 'Snow3hr',\n",
    "                      '전운량(10분위)': 'Clouds_10', \n",
    "                      '중하층운량(10분위)': 'MClouds_10',                      \n",
    "                      '운형(운형약어)' : 'CloudDesigns_Abb',                     \n",
    "                      '최저운고(100m )': 'HClouds_100m', \n",
    "                      '시정(10m)': 'Visibility_10m', \n",
    "                      '지면상태(지면상태코드)': 'GroundState_Code',\n",
    "                      '현상번호(국내식)': 'PhenomenaNo',\n",
    "                      '지면온도(°C)': 'SurfaceTemp'\n",
    "                     }, inplace=True)"
   ]
  },
  {
   "cell_type": "code",
   "execution_count": 37,
   "metadata": {},
   "outputs": [
    {
     "data": {
      "text/plain": [
       "FZ_flag\n",
       "0    28946\n",
       "1       69\n",
       "dtype: int64"
      ]
     },
     "execution_count": 37,
     "metadata": {},
     "output_type": "execute_result"
    }
   ],
   "source": [
    "df.groupby(['FZ_flag']).size()"
   ]
  },
  {
   "cell_type": "markdown",
   "metadata": {},
   "source": [
    "### Feature Columns"
   ]
  },
  {
   "cell_type": "code",
   "execution_count": 38,
   "metadata": {},
   "outputs": [],
   "source": [
    "feature_cols = ['Date', 'Temp', 'Rain', 'WindSpeed', 'WindDir',\n",
    "       'Moist', 'hPa', 'DewTemp', 'CurhPa', 'SeahPa', 'Daylight', 'DaylightMJ',\n",
    "       'SnowCm', 'Snow3hr', 'Clouds_10', 'MClouds_10', 'CloudDesigns_Abb',\n",
    "       'HClouds_100m', 'Visibility_10m', 'GroundState_Code', 'PhenomenaNo',\n",
    "       'SurfaceTemp']\n",
    "feature_cols_numeric_only = ['Temp', 'Rain', 'WindSpeed', 'WindDir',\n",
    "       'Moist', 'hPa', 'DewTemp', 'CurhPa', 'SeahPa', 'Daylight', 'DaylightMJ',\n",
    "       'SnowCm', 'Snow3hr', 'Clouds_10', 'MClouds_10',\n",
    "       'HClouds_100m', 'Visibility_10m', \n",
    "       'SurfaceTemp']"
   ]
  },
  {
   "cell_type": "code",
   "execution_count": 39,
   "metadata": {},
   "outputs": [],
   "source": [
    "def get_Xy(df, x_features):\n",
    "    X = df.loc[:, x_features]\n",
    "    y = df['FZ_flag'].values\n",
    "    return X, y"
   ]
  },
  {
   "cell_type": "code",
   "execution_count": 40,
   "metadata": {},
   "outputs": [],
   "source": [
    "X, y = get_Xy(df, feature_cols_numeric_only)"
   ]
  },
  {
   "cell_type": "code",
   "execution_count": 41,
   "metadata": {},
   "outputs": [],
   "source": [
    "X_tr, X_te, y_tr, y_te = train_test_split(X, y, test_size=0.20, random_state=42)"
   ]
  },
  {
   "cell_type": "markdown",
   "metadata": {},
   "source": [
    "### 오버샘플링"
   ]
  },
  {
   "cell_type": "code",
   "execution_count": 42,
   "metadata": {},
   "outputs": [],
   "source": [
    "OVER_SAMPLE = True\n",
    "OVER_SAMPLE_RATIO = 1.0"
   ]
  },
  {
   "cell_type": "code",
   "execution_count": 43,
   "metadata": {},
   "outputs": [
    {
     "name": "stdout",
     "output_type": "stream",
     "text": [
      "After OverSampling, the shape of train_X: (46318, 18)\n",
      "After OverSampling, the shape of train_y: (46318,) \n",
      "\n",
      "After OverSampling, counts of label '1': 23159\n",
      "After OverSampling, counts of label '0': 23159\n",
      "After OverSampling, the shape of train_X: (11574, 18)\n",
      "After OverSampling, the shape of train_y: (11574,) \n",
      "\n",
      "After OverSampling, counts of label '1': 5787\n",
      "After OverSampling, counts of label '0': 5787\n"
     ]
    }
   ],
   "source": [
    "if OVER_SAMPLE:\n",
    "    from sklearn.preprocessing import MinMaxScaler\n",
    "    from imblearn.over_sampling import SMOTE\n",
    "\n",
    "    scaler = MinMaxScaler(feature_range=(0, 1))\n",
    "    scaler.fit_transform(X)\n",
    "    X = scaler.fit_transform(X)\n",
    "\n",
    "    # 모델설정\n",
    "    smote = SMOTE(random_state=1234, sampling_strategy=OVER_SAMPLE_RATIO)\n",
    "\n",
    "    # train데이터를 넣어 복제함\n",
    "    X_tr, y_tr = smote.fit_sample(X_tr,list(y_tr))\n",
    "    X_te, y_te = smote.fit_sample(X_te,list(y_te))\n",
    "\n",
    "    print('After OverSampling, the shape of train_X: {}'.format(X_tr.shape))\n",
    "    print('After OverSampling, the shape of train_y: {} \\n'.format(y_tr.shape))\n",
    "\n",
    "    print(\"After OverSampling, counts of label '1': {}\".format(sum(y_tr==1)))\n",
    "    print(\"After OverSampling, counts of label '0': {}\".format(sum(y_tr==0)))\n",
    "    \n",
    "    print('After OverSampling, the shape of train_X: {}'.format(X_te.shape))\n",
    "    print('After OverSampling, the shape of train_y: {} \\n'.format(y_te.shape))\n",
    "\n",
    "    print(\"After OverSampling, counts of label '1': {}\".format(sum(y_te==1)))\n",
    "    print(\"After OverSampling, counts of label '0': {}\".format(sum(y_te==0)))"
   ]
  },
  {
   "cell_type": "markdown",
   "metadata": {},
   "source": [
    "### XGBoost"
   ]
  },
  {
   "cell_type": "code",
   "execution_count": null,
   "metadata": {},
   "outputs": [],
   "source": [
    "from xgboost import XGBClassifier"
   ]
  },
  {
   "cell_type": "code",
   "execution_count": 45,
   "metadata": {},
   "outputs": [
    {
     "data": {
      "text/plain": [
       "XGBClassifier(base_score=0.5, booster='gbtree', colsample_bylevel=1,\n",
       "              colsample_bynode=1, colsample_bytree=1, gamma=0,\n",
       "              learning_rate=0.1, max_delta_step=0, max_depth=3,\n",
       "              min_child_weight=1, missing=None, n_estimators=100, n_jobs=1,\n",
       "              nthread=None, objective='binary:logistic', random_state=0,\n",
       "              reg_alpha=0, reg_lambda=1, scale_pos_weight=1, seed=None,\n",
       "              silent=None, subsample=1, verbosity=1)"
      ]
     },
     "execution_count": 45,
     "metadata": {},
     "output_type": "execute_result"
    }
   ],
   "source": [
    "# fit model no training data\n",
    "\n",
    "model = XGBClassifier()\n",
    "model.fit(X_tr, y_tr)"
   ]
  },
  {
   "cell_type": "code",
   "execution_count": 46,
   "metadata": {},
   "outputs": [],
   "source": [
    "# make predictions for test data\n",
    "y_pred = model.predict(X_te)\n",
    "predictions = [round(value) for value in y_pred]"
   ]
  },
  {
   "cell_type": "code",
   "execution_count": 47,
   "metadata": {},
   "outputs": [
    {
     "name": "stdout",
     "output_type": "stream",
     "text": [
      "Accuracy: 92.07%\n"
     ]
    }
   ],
   "source": [
    "accuracy = accuracy_score(y_te, predictions)\n",
    "print(\"Accuracy: %.2f%%\" % (accuracy * 100.0))"
   ]
  },
  {
   "cell_type": "code",
   "execution_count": null,
   "metadata": {},
   "outputs": [],
   "source": []
  },
  {
   "cell_type": "code",
   "execution_count": null,
   "metadata": {},
   "outputs": [],
   "source": []
  }
 ],
 "metadata": {
  "kernelspec": {
   "display_name": "Python 3",
   "language": "python",
   "name": "python3"
  },
  "language_info": {
   "codemirror_mode": {
    "name": "ipython",
    "version": 3
   },
   "file_extension": ".py",
   "mimetype": "text/x-python",
   "name": "python",
   "nbconvert_exporter": "python",
   "pygments_lexer": "ipython3",
   "version": "3.6.5"
  }
 },
 "nbformat": 4,
 "nbformat_minor": 2
}
