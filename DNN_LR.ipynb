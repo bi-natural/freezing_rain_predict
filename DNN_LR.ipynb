{
 "cells": [
  {
   "cell_type": "markdown",
   "metadata": {},
   "source": [
    "## 신경망을 이용한 Logistic Regressoin"
   ]
  },
  {
   "cell_type": "code",
   "execution_count": 136,
   "metadata": {},
   "outputs": [],
   "source": [
    "import pandas as pd\n",
    "import numpy as np\n",
    "import os, sys, time\n",
    "import seaborn as sns\n",
    "import matplotlib.pyplot as plt\n",
    "from sklearn.linear_model import LogisticRegression\n",
    "import statsmodels.api as sm\n",
    "\n",
    "from keras.models import Sequential\n",
    "from keras.layers import Dense\n",
    "from keras.regularizers import L1L2"
   ]
  },
  {
   "cell_type": "markdown",
   "metadata": {},
   "source": [
    "### 데이터세트"
   ]
  },
  {
   "cell_type": "code",
   "execution_count": 137,
   "metadata": {},
   "outputs": [
    {
     "name": "stdout",
     "output_type": "stream",
     "text": [
      "found : FZ_Data/FZ_all_ffill.csv\n"
     ]
    }
   ],
   "source": [
    "FILENAME = 'FZ_Data/FZ_all_ffill.csv'\n",
    "\n",
    "if not os.path.exists(FILENAME):\n",
    "    assert False, 'cannot find FILENAME: {}'.format(FILENAME)\n",
    "else:\n",
    "    print('found : {}'.format(FILENAME))"
   ]
  },
  {
   "cell_type": "code",
   "execution_count": 138,
   "metadata": {},
   "outputs": [],
   "source": [
    "if FILENAME.endswith('.xlsx'):\n",
    "    df = pd.read_excel(FILENAME, \n",
    "                       header=0,\n",
    "                       encoding='euc-kr',\n",
    "                       converters={'지점':str, '지면상태(지면상태코드)':str, '현상번호(국내식)':str})\n",
    "elif FILENAME.endswith('.csv'):\n",
    "    df = pd.read_csv(FILENAME, \n",
    "                     header=0,\n",
    "                     encoding='euc-kr',\n",
    "                     converters={'지점':str, '지면상태(지면상태코드)':str, '현상번호(국내식)':str})"
   ]
  },
  {
   "cell_type": "code",
   "execution_count": 139,
   "metadata": {},
   "outputs": [],
   "source": [
    "use_colmns = ['지점', '지점명', '일시', '기온(°C)', '강수량(mm)', \n",
    "       '풍속(m/s)', '풍향(16방위)', '습도(%)', \n",
    "       '증기압(hPa)', '이슬점온도(°C)', '현지기압(hPa)', '해면기압(hPa)',\n",
    "       '일조(hr)', '일사(MJ/m2)', '적설(cm)', '3시간신적설(cm)',\n",
    "       '전운량(10분위)', '중하층운량(10분위)', '운형(운형약어)', '최저운고(100m )', '시정(10m)',\n",
    "       '지면상태(지면상태코드)', '현상번호(국내식)', '지면온도(°C)',\n",
    "       'FZ_flag']\n",
    "\n",
    "df = df[use_colmns]"
   ]
  },
  {
   "cell_type": "code",
   "execution_count": 140,
   "metadata": {},
   "outputs": [],
   "source": [
    "df.rename(columns = {'지점' : 'Office',\n",
    "                      '지점명' : 'Office_Name',\n",
    "                      '일시' : 'Date',\n",
    "                      '기온(°C)': 'Temp', \n",
    "                      '강수량(mm)': 'Rain', \n",
    "                      '풍속(m/s)': 'WindSpeed', \n",
    "                      '풍향(16방위)': 'WindDir',  \n",
    "                      '습도(%)': 'Moist',\n",
    "                      '증기압(hPa)': 'hPa', \n",
    "                      '이슬점온도(°C)': 'DewTemp', \n",
    "                      '현지기압(hPa)': 'CurhPa', \n",
    "                      '해면기압(hPa)': 'SeahPa',\n",
    "                      '일조(hr)': 'Daylight', \n",
    "                      '일사(MJ/m2)': 'DaylightMJ', \n",
    "                      '적설(cm)': 'SnowCm', \n",
    "                      '3시간신적설(cm)': 'Snow3hr',\n",
    "                      '전운량(10분위)': 'Clouds_10', \n",
    "                      '중하층운량(10분위)': 'MClouds_10',                      \n",
    "                      '운형(운형약어)' : 'CloudDesigns_Abb',                     \n",
    "                      '최저운고(100m )': 'HClouds_100m', \n",
    "                      '시정(10m)': 'Visibility_10m', \n",
    "                      '지면상태(지면상태코드)': 'GroundState_Code',\n",
    "                      '현상번호(국내식)': 'PhenomenaNo',\n",
    "                      '지면온도(°C)': 'SurfaceTemp'\n",
    "                     }, inplace=True)"
   ]
  },
  {
   "cell_type": "code",
   "execution_count": 141,
   "metadata": {},
   "outputs": [
    {
     "data": {
      "text/plain": [
       "(29015, 25)"
      ]
     },
     "execution_count": 141,
     "metadata": {},
     "output_type": "execute_result"
    }
   ],
   "source": [
    "df.shape"
   ]
  },
  {
   "cell_type": "code",
   "execution_count": 142,
   "metadata": {},
   "outputs": [
    {
     "data": {
      "text/plain": [
       "FZ_flag\n",
       "0    28946\n",
       "1       69\n",
       "dtype: int64"
      ]
     },
     "execution_count": 142,
     "metadata": {},
     "output_type": "execute_result"
    }
   ],
   "source": [
    "df.groupby(['FZ_flag']).size()"
   ]
  },
  {
   "cell_type": "code",
   "execution_count": 155,
   "metadata": {},
   "outputs": [
    {
     "data": {
      "text/plain": [
       "0.002378080303291401"
      ]
     },
     "execution_count": 155,
     "metadata": {},
     "output_type": "execute_result"
    }
   ],
   "source": [
    "69 / (28946 + 69)"
   ]
  },
  {
   "cell_type": "markdown",
   "metadata": {},
   "source": [
    "### Feature Columns"
   ]
  },
  {
   "cell_type": "code",
   "execution_count": 143,
   "metadata": {},
   "outputs": [],
   "source": [
    "feature_cols = ['Date', 'Temp', 'Rain', 'WindSpeed', 'WindDir',\n",
    "       'Moist', 'hPa', 'DewTemp', 'CurhPa', 'SeahPa', 'Daylight', 'DaylightMJ',\n",
    "       'SnowCm', 'Snow3hr', 'Clouds_10', 'MClouds_10', 'CloudDesigns_Abb',\n",
    "       'HClouds_100m', 'Visibility_10m', 'GroundState_Code', 'PhenomenaNo',\n",
    "       'SurfaceTemp']\n",
    "feature_cols_numeric_only = ['Temp', 'Rain', 'WindSpeed', 'WindDir',\n",
    "       'Moist', 'hPa', 'DewTemp', 'CurhPa', 'SeahPa', 'Daylight', 'DaylightMJ',\n",
    "       'SnowCm', 'Snow3hr', 'Clouds_10', 'MClouds_10',\n",
    "       'HClouds_100m', 'Visibility_10m', \n",
    "       'SurfaceTemp']"
   ]
  },
  {
   "cell_type": "code",
   "execution_count": 144,
   "metadata": {},
   "outputs": [],
   "source": [
    "def get_Xy(df, x_features):\n",
    "    X = df.loc[:, x_features]\n",
    "    y = df['FZ_flag'].values\n",
    "    return X, y"
   ]
  },
  {
   "cell_type": "code",
   "execution_count": 145,
   "metadata": {},
   "outputs": [],
   "source": [
    "X, y = get_Xy(df, feature_cols_numeric_only)"
   ]
  },
  {
   "cell_type": "code",
   "execution_count": 146,
   "metadata": {},
   "outputs": [],
   "source": [
    "X_tr, X_te, y_tr, y_te = train_test_split(X, y, test_size=0.20, random_state=42)"
   ]
  },
  {
   "cell_type": "markdown",
   "metadata": {},
   "source": [
    "### 오버샘플링 (50:50)"
   ]
  },
  {
   "cell_type": "code",
   "execution_count": 156,
   "metadata": {},
   "outputs": [],
   "source": [
    "OVER_SAMPLE = True\n",
    "OVER_SAMPLE_RATIO = 1.0"
   ]
  },
  {
   "cell_type": "code",
   "execution_count": 157,
   "metadata": {},
   "outputs": [
    {
     "name": "stdout",
     "output_type": "stream",
     "text": [
      "After OverSampling, the shape of train_X: (46318, 18)\n",
      "After OverSampling, the shape of train_y: (46318,) \n",
      "\n",
      "After OverSampling, counts of label '1': 23159\n",
      "After OverSampling, counts of label '0': 23159\n",
      "After OverSampling, the shape of train_X: (11574, 18)\n",
      "After OverSampling, the shape of train_y: (11574,) \n",
      "\n",
      "After OverSampling, counts of label '1': 5787\n",
      "After OverSampling, counts of label '0': 5787\n"
     ]
    }
   ],
   "source": [
    "if OVER_SAMPLE:\n",
    "    from sklearn.preprocessing import MinMaxScaler\n",
    "    from imblearn.over_sampling import SMOTE\n",
    "\n",
    "    scaler = MinMaxScaler(feature_range=(0, 1))\n",
    "    scaler.fit_transform(X)\n",
    "    X = scaler.fit_transform(X)\n",
    "\n",
    "    # 모델설정\n",
    "    smote = SMOTE(random_state=1234, sampling_strategy=OVER_SAMPLE_RATIO)\n",
    "\n",
    "    # train데이터를 넣어 복제함\n",
    "    X_tr, y_tr = smote.fit_sample(X_tr,list(y_tr))\n",
    "    X_te, y_te = smote.fit_sample(X_te,list(y_te))\n",
    "\n",
    "    print('After OverSampling, the shape of train_X: {}'.format(X_tr.shape))\n",
    "    print('After OverSampling, the shape of train_y: {} \\n'.format(y_tr.shape))\n",
    "\n",
    "    print(\"After OverSampling, counts of label '1': {}\".format(sum(y_tr==1)))\n",
    "    print(\"After OverSampling, counts of label '0': {}\".format(sum(y_tr==0)))\n",
    "    \n",
    "    print('After OverSampling, the shape of train_X: {}'.format(X_te.shape))\n",
    "    print('After OverSampling, the shape of train_y: {} \\n'.format(y_te.shape))\n",
    "\n",
    "    print(\"After OverSampling, counts of label '1': {}\".format(sum(y_te==1)))\n",
    "    print(\"After OverSampling, counts of label '0': {}\".format(sum(y_te==0)))"
   ]
  },
  {
   "cell_type": "markdown",
   "metadata": {},
   "source": [
    "### 로지스틱 회귀"
   ]
  },
  {
   "cell_type": "code",
   "execution_count": 158,
   "metadata": {},
   "outputs": [],
   "source": [
    "from sklearn.model_selection import train_test_split\n",
    "\n",
    "#if OVER_SAMPLE:\n",
    "#    X_tr, X_te, y_tr, y_te = train_test_split(X_resampled, y_resampled, test_size=0.20, random_state=42)\n",
    "#else:\n",
    "#    X_tr, X_te, y_tr, y_te = train_test_split(X, y, test_size=0.20, random_state=42)"
   ]
  },
  {
   "cell_type": "code",
   "execution_count": 159,
   "metadata": {},
   "outputs": [
    {
     "data": {
      "text/plain": [
       "(23159, 23159)"
      ]
     },
     "execution_count": 159,
     "metadata": {},
     "output_type": "execute_result"
    }
   ],
   "source": [
    "sum(y_tr==1), sum(y_tr==0)"
   ]
  },
  {
   "cell_type": "code",
   "execution_count": 160,
   "metadata": {},
   "outputs": [
    {
     "data": {
      "text/plain": [
       "(5787, 5787)"
      ]
     },
     "execution_count": 160,
     "metadata": {},
     "output_type": "execute_result"
    }
   ],
   "source": [
    "sum(y_te==1), sum(y_te==0)"
   ]
  },
  {
   "cell_type": "code",
   "execution_count": 161,
   "metadata": {},
   "outputs": [
    {
     "name": "stdout",
     "output_type": "stream",
     "text": [
      "Train on 46318 samples, validate on 11574 samples\n",
      "Epoch 1/100\n",
      "46318/46318 [==============================] - 1s 26us/step - loss: 1325.2468 - accuracy: 0.7699 - val_loss: 399.5125 - val_accuracy: 0.8326\n",
      "Epoch 2/100\n",
      "46318/46318 [==============================] - 1s 22us/step - loss: 1298.9603 - accuracy: 0.7739 - val_loss: 3899.7252 - val_accuracy: 0.5000\n",
      "Epoch 3/100\n",
      "46318/46318 [==============================] - 1s 23us/step - loss: 1303.8614 - accuracy: 0.7734 - val_loss: 2075.8090 - val_accuracy: 0.5643\n",
      "Epoch 4/100\n",
      "46318/46318 [==============================] - 1s 22us/step - loss: 1303.2480 - accuracy: 0.7748 - val_loss: 1122.8979 - val_accuracy: 0.8646\n",
      "Epoch 5/100\n",
      "46318/46318 [==============================] - 1s 22us/step - loss: 1285.6611 - accuracy: 0.7744 - val_loss: 1220.8719 - val_accuracy: 0.7144\n",
      "Epoch 6/100\n",
      "46318/46318 [==============================] - 1s 22us/step - loss: 1267.8704 - accuracy: 0.7747 - val_loss: 738.1375 - val_accuracy: 0.8441\n",
      "Epoch 7/100\n",
      "46318/46318 [==============================] - 1s 21us/step - loss: 1270.6581 - accuracy: 0.7753 - val_loss: 625.4427 - val_accuracy: 0.8648\n",
      "Epoch 8/100\n",
      "46318/46318 [==============================] - 1s 22us/step - loss: 1294.1752 - accuracy: 0.7751 - val_loss: 1390.9604 - val_accuracy: 0.8637\n",
      "Epoch 9/100\n",
      "46318/46318 [==============================] - 1s 23us/step - loss: 1275.6200 - accuracy: 0.7731 - val_loss: 935.3952 - val_accuracy: 0.8196\n",
      "Epoch 10/100\n",
      "46318/46318 [==============================] - 1s 22us/step - loss: 1320.0773 - accuracy: 0.7705 - val_loss: 1096.0753 - val_accuracy: 0.8522\n",
      "Epoch 11/100\n",
      "46318/46318 [==============================] - 1s 21us/step - loss: 1279.2774 - accuracy: 0.7755 - val_loss: 5953.7654 - val_accuracy: 0.5010\n",
      "Epoch 12/100\n",
      "46318/46318 [==============================] - 1s 22us/step - loss: 1280.7586 - accuracy: 0.7749 - val_loss: 906.0160 - val_accuracy: 0.8666\n",
      "Epoch 13/100\n",
      "46318/46318 [==============================] - 1s 21us/step - loss: 1299.2061 - accuracy: 0.7755 - val_loss: 949.3123 - val_accuracy: 0.8543\n",
      "Epoch 14/100\n",
      "46318/46318 [==============================] - 1s 22us/step - loss: 1287.1184 - accuracy: 0.7728 - val_loss: 1053.0751 - val_accuracy: 0.8484\n",
      "Epoch 15/100\n",
      "46318/46318 [==============================] - 1s 22us/step - loss: 1306.2102 - accuracy: 0.7736 - val_loss: 1184.4844 - val_accuracy: 0.8485\n",
      "Epoch 16/100\n",
      "46318/46318 [==============================] - 1s 22us/step - loss: 1293.6241 - accuracy: 0.7779 - val_loss: 1152.5899 - val_accuracy: 0.7963\n",
      "Epoch 17/100\n",
      "46318/46318 [==============================] - 1s 22us/step - loss: 1298.1937 - accuracy: 0.7744 - val_loss: 1010.1192 - val_accuracy: 0.8763\n",
      "Epoch 18/100\n",
      "46318/46318 [==============================] - 1s 22us/step - loss: 1314.4258 - accuracy: 0.7742 - val_loss: 1241.5256 - val_accuracy: 0.7298\n",
      "Epoch 19/100\n",
      "46318/46318 [==============================] - 1s 22us/step - loss: 1336.2646 - accuracy: 0.7741 - val_loss: 746.1437 - val_accuracy: 0.8239\n",
      "Epoch 20/100\n",
      "46318/46318 [==============================] - 1s 23us/step - loss: 1274.9409 - accuracy: 0.7761 - val_loss: 1007.2778 - val_accuracy: 0.8166\n",
      "Epoch 21/100\n",
      "46318/46318 [==============================] - 1s 22us/step - loss: 1259.5227 - accuracy: 0.7764 - val_loss: 644.1811 - val_accuracy: 0.7812\n",
      "Epoch 22/100\n",
      "46318/46318 [==============================] - 1s 22us/step - loss: 1310.4496 - accuracy: 0.7720 - val_loss: 788.3394 - val_accuracy: 0.8727\n",
      "Epoch 23/100\n",
      "46318/46318 [==============================] - 1s 22us/step - loss: 1310.9772 - accuracy: 0.7740 - val_loss: 3719.3161 - val_accuracy: 0.5000\n",
      "Epoch 24/100\n",
      "46318/46318 [==============================] - 1s 22us/step - loss: 1348.9442 - accuracy: 0.7739 - val_loss: 1202.7067 - val_accuracy: 0.7680\n",
      "Epoch 25/100\n",
      "46318/46318 [==============================] - 1s 23us/step - loss: 1296.0489 - accuracy: 0.7731 - val_loss: 909.1872 - val_accuracy: 0.8101\n",
      "Epoch 26/100\n",
      "46318/46318 [==============================] - 1s 22us/step - loss: 1290.3812 - accuracy: 0.7747 - val_loss: 636.2235 - val_accuracy: 0.8486\n",
      "Epoch 27/100\n",
      "46318/46318 [==============================] - 1s 22us/step - loss: 1295.6338 - accuracy: 0.7733 - val_loss: 1070.1987 - val_accuracy: 0.8723\n",
      "Epoch 28/100\n",
      "46318/46318 [==============================] - 1s 22us/step - loss: 1289.3803 - accuracy: 0.7742 - val_loss: 715.4533 - val_accuracy: 0.8520\n",
      "Epoch 29/100\n",
      "46318/46318 [==============================] - 1s 22us/step - loss: 1290.3996 - accuracy: 0.7748 - val_loss: 889.8686 - val_accuracy: 0.7710\n",
      "Epoch 30/100\n",
      "46318/46318 [==============================] - 1s 22us/step - loss: 1297.0965 - accuracy: 0.7755 - val_loss: 764.2412 - val_accuracy: 0.8503\n",
      "Epoch 31/100\n",
      "46318/46318 [==============================] - 1s 22us/step - loss: 1277.7251 - accuracy: 0.7741 - val_loss: 742.5959 - val_accuracy: 0.8520\n",
      "Epoch 32/100\n",
      "46318/46318 [==============================] - 1s 22us/step - loss: 1326.4166 - accuracy: 0.7724 - val_loss: 5169.8110 - val_accuracy: 0.5000\n",
      "Epoch 33/100\n",
      "46318/46318 [==============================] - 1s 22us/step - loss: 1273.5670 - accuracy: 0.7760 - val_loss: 665.8007 - val_accuracy: 0.8179\n",
      "Epoch 34/100\n",
      "46318/46318 [==============================] - 1s 22us/step - loss: 1284.2643 - accuracy: 0.7728 - val_loss: 1438.1721 - val_accuracy: 0.7948\n",
      "Epoch 35/100\n",
      "46318/46318 [==============================] - 1s 21us/step - loss: 1308.6159 - accuracy: 0.7739 - val_loss: 1927.7424 - val_accuracy: 0.6237\n",
      "Epoch 36/100\n",
      "46318/46318 [==============================] - 1s 22us/step - loss: 1325.9428 - accuracy: 0.7741 - val_loss: 1232.3755 - val_accuracy: 0.7575\n",
      "Epoch 37/100\n",
      "46318/46318 [==============================] - 1s 21us/step - loss: 1308.4519 - accuracy: 0.7726 - val_loss: 716.5990 - val_accuracy: 0.7062\n",
      "Epoch 38/100\n",
      "46318/46318 [==============================] - 1s 21us/step - loss: 1290.0168 - accuracy: 0.7754 - val_loss: 802.1071 - val_accuracy: 0.8721\n",
      "Epoch 39/100\n",
      "46318/46318 [==============================] - 1s 22us/step - loss: 1268.1274 - accuracy: 0.7748 - val_loss: 779.5440 - val_accuracy: 0.8536\n",
      "Epoch 40/100\n",
      "46318/46318 [==============================] - 1s 22us/step - loss: 1299.4617 - accuracy: 0.7734 - val_loss: 498.6304 - val_accuracy: 0.8444\n",
      "Epoch 41/100\n",
      "46318/46318 [==============================] - 1s 22us/step - loss: 1314.5302 - accuracy: 0.7725 - val_loss: 2593.2311 - val_accuracy: 0.5000\n",
      "Epoch 42/100\n",
      "46318/46318 [==============================] - 1s 22us/step - loss: 1278.9840 - accuracy: 0.7739 - val_loss: 9104.9132 - val_accuracy: 0.5000\n",
      "Epoch 43/100\n",
      "46318/46318 [==============================] - 1s 22us/step - loss: 1294.7353 - accuracy: 0.7725 - val_loss: 570.7467 - val_accuracy: 0.8335\n",
      "Epoch 44/100\n",
      "46318/46318 [==============================] - 1s 21us/step - loss: 1296.5841 - accuracy: 0.7739 - val_loss: 462.7346 - val_accuracy: 0.8463\n",
      "Epoch 45/100\n",
      "46318/46318 [==============================] - 1s 21us/step - loss: 1300.9793 - accuracy: 0.7740 - val_loss: 4403.5345 - val_accuracy: 0.5000\n",
      "Epoch 46/100\n",
      "46318/46318 [==============================] - 1s 21us/step - loss: 1337.0689 - accuracy: 0.7712 - val_loss: 880.4806 - val_accuracy: 0.8669\n",
      "Epoch 47/100\n",
      "46318/46318 [==============================] - 1s 22us/step - loss: 1299.5252 - accuracy: 0.7745 - val_loss: 590.4251 - val_accuracy: 0.8154\n",
      "Epoch 48/100\n",
      "46318/46318 [==============================] - 1s 22us/step - loss: 1285.4247 - accuracy: 0.7744 - val_loss: 1411.0807 - val_accuracy: 0.7969\n",
      "Epoch 49/100\n",
      "46318/46318 [==============================] - 1s 22us/step - loss: 1298.8997 - accuracy: 0.7742 - val_loss: 2351.7652 - val_accuracy: 0.5192\n",
      "Epoch 50/100\n",
      "46318/46318 [==============================] - 1s 22us/step - loss: 1317.4809 - accuracy: 0.7746 - val_loss: 1031.2310 - val_accuracy: 0.8654\n",
      "Epoch 51/100\n",
      "46318/46318 [==============================] - 1s 21us/step - loss: 1295.3103 - accuracy: 0.7729 - val_loss: 506.4175 - val_accuracy: 0.8153\n",
      "Epoch 52/100\n",
      "46318/46318 [==============================] - 1s 21us/step - loss: 1306.7646 - accuracy: 0.7736 - val_loss: 564.7090 - val_accuracy: 0.8536\n",
      "Epoch 53/100\n",
      "46318/46318 [==============================] - 1s 21us/step - loss: 1281.6005 - accuracy: 0.7744 - val_loss: 524.9012 - val_accuracy: 0.8203\n"
     ]
    },
    {
     "name": "stdout",
     "output_type": "stream",
     "text": [
      "Epoch 54/100\n",
      "46318/46318 [==============================] - 1s 21us/step - loss: 1319.0220 - accuracy: 0.7724 - val_loss: 740.7252 - val_accuracy: 0.8339\n",
      "Epoch 55/100\n",
      "46318/46318 [==============================] - 1s 20us/step - loss: 1276.8605 - accuracy: 0.7753 - val_loss: 3521.5632 - val_accuracy: 0.5000\n",
      "Epoch 56/100\n",
      "46318/46318 [==============================] - 1s 20us/step - loss: 1290.5096 - accuracy: 0.7732 - val_loss: 3518.9224 - val_accuracy: 0.5000\n",
      "Epoch 57/100\n",
      "46318/46318 [==============================] - 1s 21us/step - loss: 1294.8723 - accuracy: 0.7766 - val_loss: 2855.8850 - val_accuracy: 0.5000\n",
      "Epoch 58/100\n",
      "46318/46318 [==============================] - 1s 22us/step - loss: 1278.5829 - accuracy: 0.7761 - val_loss: 1277.9149 - val_accuracy: 0.7956\n",
      "Epoch 59/100\n",
      "46318/46318 [==============================] - 1s 22us/step - loss: 1300.7532 - accuracy: 0.7723 - val_loss: 1239.5023 - val_accuracy: 0.7675\n",
      "Epoch 60/100\n",
      "46318/46318 [==============================] - 1s 22us/step - loss: 1327.6283 - accuracy: 0.7738 - val_loss: 1316.3415 - val_accuracy: 0.5000\n",
      "Epoch 61/100\n",
      "46318/46318 [==============================] - 1s 22us/step - loss: 1310.2790 - accuracy: 0.7752 - val_loss: 7280.3345 - val_accuracy: 0.5000\n",
      "Epoch 62/100\n",
      "46318/46318 [==============================] - 1s 22us/step - loss: 1315.3056 - accuracy: 0.7749 - val_loss: 1035.8383 - val_accuracy: 0.8667\n",
      "Epoch 63/100\n",
      "46318/46318 [==============================] - ETA: 0s - loss: 1292.5295 - accuracy: 0.774 - 1s 23us/step - loss: 1291.2355 - accuracy: 0.7735 - val_loss: 2102.1981 - val_accuracy: 0.5000\n",
      "Epoch 64/100\n",
      "46318/46318 [==============================] - 1s 22us/step - loss: 1329.6114 - accuracy: 0.7728 - val_loss: 1133.0031 - val_accuracy: 0.7955\n",
      "Epoch 65/100\n",
      "46318/46318 [==============================] - 1s 21us/step - loss: 1297.2991 - accuracy: 0.7732 - val_loss: 938.0862 - val_accuracy: 0.8542\n",
      "Epoch 66/100\n",
      "46318/46318 [==============================] - 1s 23us/step - loss: 1297.3588 - accuracy: 0.7745 - val_loss: 1057.3336 - val_accuracy: 0.8712\n",
      "Epoch 67/100\n",
      "46318/46318 [==============================] - 1s 21us/step - loss: 1320.2569 - accuracy: 0.7724 - val_loss: 814.4867 - val_accuracy: 0.8752\n",
      "Epoch 68/100\n",
      "46318/46318 [==============================] - 1s 21us/step - loss: 1292.1474 - accuracy: 0.7765 - val_loss: 869.3960 - val_accuracy: 0.8174\n",
      "Epoch 69/100\n",
      "46318/46318 [==============================] - 1s 23us/step - loss: 1325.5564 - accuracy: 0.7738 - val_loss: 1088.4417 - val_accuracy: 0.8030\n",
      "Epoch 70/100\n",
      "46318/46318 [==============================] - 1s 21us/step - loss: 1342.4537 - accuracy: 0.7725 - val_loss: 674.6328 - val_accuracy: 0.8528\n",
      "Epoch 71/100\n",
      "46318/46318 [==============================] - 1s 21us/step - loss: 1310.2939 - accuracy: 0.7744 - val_loss: 669.3223 - val_accuracy: 0.8159\n",
      "Epoch 72/100\n",
      "46318/46318 [==============================] - 1s 21us/step - loss: 1298.1194 - accuracy: 0.7723 - val_loss: 4564.3593 - val_accuracy: 0.5000\n",
      "Epoch 73/100\n",
      "46318/46318 [==============================] - 1s 22us/step - loss: 1289.8326 - accuracy: 0.7736 - val_loss: 930.0948 - val_accuracy: 0.7833\n",
      "Epoch 74/100\n",
      "46318/46318 [==============================] - 1s 22us/step - loss: 1322.6117 - accuracy: 0.7739 - val_loss: 4024.2134 - val_accuracy: 0.5000\n",
      "Epoch 75/100\n",
      "46318/46318 [==============================] - 1s 22us/step - loss: 1286.1493 - accuracy: 0.7740 - val_loss: 613.2701 - val_accuracy: 0.8605\n",
      "Epoch 76/100\n",
      "46318/46318 [==============================] - 1s 22us/step - loss: 1288.9101 - accuracy: 0.7756 - val_loss: 939.7795 - val_accuracy: 0.7880\n",
      "Epoch 77/100\n",
      "46318/46318 [==============================] - 1s 21us/step - loss: 1326.6051 - accuracy: 0.7737 - val_loss: 768.3567 - val_accuracy: 0.7952\n",
      "Epoch 78/100\n",
      "46318/46318 [==============================] - 1s 22us/step - loss: 1301.3751 - accuracy: 0.7734 - val_loss: 705.9843 - val_accuracy: 0.7716\n",
      "Epoch 79/100\n",
      "46318/46318 [==============================] - 1s 26us/step - loss: 1278.8287 - accuracy: 0.7760 - val_loss: 1264.6238 - val_accuracy: 0.8711\n",
      "Epoch 80/100\n",
      "46318/46318 [==============================] - 1s 22us/step - loss: 1307.3690 - accuracy: 0.7729 - val_loss: 1038.9019 - val_accuracy: 0.8419\n",
      "Epoch 81/100\n",
      "46318/46318 [==============================] - 1s 21us/step - loss: 1291.8623 - accuracy: 0.7734 - val_loss: 9366.4774 - val_accuracy: 0.5000\n",
      "Epoch 82/100\n",
      "46318/46318 [==============================] - 1s 22us/step - loss: 1301.6540 - accuracy: 0.7741 - val_loss: 3310.9016 - val_accuracy: 0.5000\n",
      "Epoch 83/100\n",
      "46318/46318 [==============================] - 1s 22us/step - loss: 1290.2276 - accuracy: 0.7748 - val_loss: 736.4483 - val_accuracy: 0.8515\n",
      "Epoch 84/100\n",
      "46318/46318 [==============================] - 1s 21us/step - loss: 1280.8372 - accuracy: 0.7762 - val_loss: 4981.1182 - val_accuracy: 0.5000\n",
      "Epoch 85/100\n",
      "46318/46318 [==============================] - 1s 22us/step - loss: 1294.3908 - accuracy: 0.7737 - val_loss: 1013.1479 - val_accuracy: 0.8479\n",
      "Epoch 86/100\n",
      "46318/46318 [==============================] - 1s 23us/step - loss: 1289.8484 - accuracy: 0.7756 - val_loss: 2508.8782 - val_accuracy: 0.5000\n",
      "Epoch 87/100\n",
      "46318/46318 [==============================] - 1s 21us/step - loss: 1271.0411 - accuracy: 0.7751 - val_loss: 642.3790 - val_accuracy: 0.8482\n",
      "Epoch 88/100\n",
      "46318/46318 [==============================] - 1s 22us/step - loss: 1265.1636 - accuracy: 0.7756 - val_loss: 972.8157 - val_accuracy: 0.8452\n",
      "Epoch 89/100\n",
      "46318/46318 [==============================] - 1s 21us/step - loss: 1262.0700 - accuracy: 0.7762 - val_loss: 2304.0921 - val_accuracy: 0.5000\n",
      "Epoch 90/100\n",
      "46318/46318 [==============================] - 1s 22us/step - loss: 1303.0374 - accuracy: 0.7751 - val_loss: 702.4010 - val_accuracy: 0.8116\n",
      "Epoch 91/100\n",
      "46318/46318 [==============================] - 1s 21us/step - loss: 1290.6704 - accuracy: 0.7761 - val_loss: 685.2859 - val_accuracy: 0.8373\n",
      "Epoch 92/100\n",
      "46318/46318 [==============================] - 1s 21us/step - loss: 1304.5821 - accuracy: 0.7726 - val_loss: 1945.3648 - val_accuracy: 0.7596\n",
      "Epoch 93/100\n",
      "46318/46318 [==============================] - 1s 21us/step - loss: 1341.7069 - accuracy: 0.7746 - val_loss: 1068.1697 - val_accuracy: 0.8660\n",
      "Epoch 94/100\n",
      "46318/46318 [==============================] - 1s 21us/step - loss: 1283.3885 - accuracy: 0.7747 - val_loss: 1259.8934 - val_accuracy: 0.8082\n",
      "Epoch 95/100\n",
      "46318/46318 [==============================] - ETA: 0s - loss: 1269.9398 - accuracy: 0.774 - 1s 21us/step - loss: 1266.8994 - accuracy: 0.7749 - val_loss: 2920.6154 - val_accuracy: 0.5008\n",
      "Epoch 96/100\n",
      "46318/46318 [==============================] - 1s 22us/step - loss: 1306.1551 - accuracy: 0.7722 - val_loss: 2739.6900 - val_accuracy: 0.5000\n",
      "Epoch 97/100\n",
      "46318/46318 [==============================] - 1s 21us/step - loss: 1308.8484 - accuracy: 0.7743 - val_loss: 3535.2276 - val_accuracy: 0.5121\n",
      "Epoch 98/100\n",
      "46318/46318 [==============================] - 1s 21us/step - loss: 1293.3435 - accuracy: 0.7740 - val_loss: 1022.8568 - val_accuracy: 0.8482\n",
      "Epoch 99/100\n",
      "46318/46318 [==============================] - 1s 21us/step - loss: 1258.2252 - accuracy: 0.7739 - val_loss: 766.7452 - val_accuracy: 0.7879\n",
      "Epoch 100/100\n",
      "46318/46318 [==============================] - 1s 22us/step - loss: 1330.2251 - accuracy: 0.7724 - val_loss: 1933.8128 - val_accuracy: 0.6788\n"
     ]
    }
   ],
   "source": [
    "\"\"\"\n",
    "Set up the logistic regression model\n",
    "\"\"\"\n",
    "model = Sequential()\n",
    "model.add(Dense(2, \n",
    "                activation='softmax',\n",
    "                kernel_regularizer=L1L2(l1=0.0, l2=0.1),\n",
    "                input_dim=len(feature_cols_numeric_only)))\n",
    "model.compile(optimizer='sgd',\n",
    "              loss='sparse_categorical_crossentropy',\n",
    "              metrics=['accuracy'])\n",
    "\n",
    "history = model.fit(X_tr, y_tr, epochs=100, validation_data=(X_te, y_te))"
   ]
  },
  {
   "cell_type": "code",
   "execution_count": 162,
   "metadata": {},
   "outputs": [
    {
     "data": {
      "image/png": "[encoded data removed]",
      "text/plain": [
       "<Figure size 432x288 with 1 Axes>"
      ]
     },
     "metadata": {
      "needs_background": "light"
     },
     "output_type": "display_data"
    },
    {
     "data": {
      "image/png": "[encoded data removed]",
      "text/plain": [
       "<Figure size 432x288 with 1 Axes>"
      ]
     },
     "metadata": {
      "needs_background": "light"
     },
     "output_type": "display_data"
    }
   ],
   "source": [
    "# summarize history for accuracy\n",
    "plt.plot(history.history['accuracy'])\n",
    "plt.plot(history.history['val_accuracy'])\n",
    "plt.title('model accuracy')\n",
    "plt.ylabel('accuracy')\n",
    "plt.xlabel('epoch')\n",
    "plt.legend(['train', 'test'], loc='upper left')\n",
    "plt.show()\n",
    "\n",
    "# summarize history for loss\n",
    "plt.plot(history.history['loss'])\n",
    "plt.plot(history.history['val_loss'])\n",
    "plt.title('model loss')\n",
    "plt.ylabel('loss')\n",
    "plt.xlabel('epoch')\n",
    "plt.legend(['train', 'test'], loc='upper left')\n",
    "plt.show()"
   ]
  },
  {
   "cell_type": "code",
   "execution_count": null,
   "metadata": {},
   "outputs": [],
   "source": []
  },
  {
   "cell_type": "code",
   "execution_count": null,
   "metadata": {},
   "outputs": [],
   "source": []
  },
  {
   "cell_type": "code",
   "execution_count": null,
   "metadata": {},
   "outputs": [],
   "source": []
  }
 ],
 "metadata": {
  "kernelspec": {
   "display_name": "Python 3",
   "language": "python",
   "name": "python3"
  },
  "language_info": {
   "codemirror_mode": {
    "name": "ipython",
    "version": 3
   },
   "file_extension": ".py",
   "mimetype": "text/x-python",
   "name": "python",
   "nbconvert_exporter": "python",
   "pygments_lexer": "ipython3",
   "version": "3.6.5"
  }
 },
 "nbformat": 4,
 "nbformat_minor": 2
}
