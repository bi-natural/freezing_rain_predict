{
 "cells": [
  {
   "cell_type": "code",
   "execution_count": 16,
   "metadata": {},
   "outputs": [],
   "source": [
    "import pandas as pd\n",
    "import numpy as np\n",
    "import os, sys, time\n",
    "import seaborn as sns\n",
    "import matplotlib.pyplot as plt\n",
    "from sklearn.linear_model import LogisticRegression\n",
    "import statsmodels.api as sm"
   ]
  },
  {
   "cell_type": "code",
   "execution_count": 2,
   "metadata": {},
   "outputs": [],
   "source": [
    "df = pd.read_csv('FZ_Data/FZ_all.csv', \n",
    "                 header=0,\n",
    "                 encoding='euc-kr',\n",
    "                 converters={'지점':str, '지면상태(지면상태코드)':str, '현상번호(국내식)':str})"
   ]
  },
  {
   "cell_type": "code",
   "execution_count": 3,
   "metadata": {},
   "outputs": [],
   "source": [
    "interest_columns = ['지점', '지점명', '일시', '기온(°C)', '강수량(mm)', \n",
    "       '풍속(m/s)', '풍향(16방위)', '습도(%)', \n",
    "       '증기압(hPa)', '이슬점온도(°C)', '현지기압(hPa)', '해면기압(hPa)',\n",
    "       '일조(hr)', '일사(MJ/m2)', '적설(cm)', '3시간신적설(cm)',\n",
    "       '전운량(10분위)', '중하층운량(10분위)', '운형(운형약어)', '최저운고(100m )', '시정(10m)',\n",
    "       '지면상태(지면상태코드)', '현상번호(국내식)', '지면온도(°C)',\n",
    "       'FZ_flag']\n",
    "\n",
    "df = df[interest_columns]"
   ]
  },
  {
   "cell_type": "code",
   "execution_count": 4,
   "metadata": {},
   "outputs": [],
   "source": [
    "df.rename(columns = {'지점' : 'Office',\n",
    "                      '지점명' : 'Office_Name',\n",
    "                      '일시' : 'Date',\n",
    "                      '기온(°C)': 'Temp', \n",
    "                      '강수량(mm)': 'Rain', \n",
    "                      '풍속(m/s)': 'WindSpeed', \n",
    "                      '풍향(16방위)': 'WindDir',  \n",
    "                      '습도(%)': 'Moist',\n",
    "                      '증기압(hPa)': 'hPa', \n",
    "                      '이슬점온도(°C)': 'DewTemp', \n",
    "                      '현지기압(hPa)': 'CurhPa', \n",
    "                      '해면기압(hPa)': 'SeahPa',\n",
    "                      '일조(hr)': 'Daylight', \n",
    "                      '일사(MJ/m2)': 'DaylightMJ', \n",
    "                      '적설(cm)': 'SnowCm', \n",
    "                      '3시간신적설(cm)': 'Snow3hr',\n",
    "                      '전운량(10분위)': 'Clouds_10', \n",
    "                      '중하층운량(10분위)': 'MClouds_10',                      \n",
    "                      '운형(운형약어)' : 'CloudDesigns_Abb',                     \n",
    "                      '최저운고(100m )': 'HClouds_100m', \n",
    "                      '시정(10m)': 'Visibility_10m', \n",
    "                      '지면상태(지면상태코드)': 'GroundState_Code',\n",
    "                      '현상번호(국내식)': 'PhenomenaNo',\n",
    "                      '지면온도(°C)': 'SurfaceTemp'\n",
    "                     }, inplace=True)"
   ]
  },
  {
   "cell_type": "code",
   "execution_count": 5,
   "metadata": {},
   "outputs": [],
   "source": [
    "df_seoul = df.loc[df['Office_Name']=='서울']"
   ]
  },
  {
   "cell_type": "code",
   "execution_count": 6,
   "metadata": {},
   "outputs": [],
   "source": [
    "feature_cols = ['Date', 'Temp', 'Rain', 'WindSpeed', 'WindDir',\n",
    "       'Moist', 'hPa', 'DewTemp', 'CurhPa', 'SeahPa', 'Daylight', 'DaylightMJ',\n",
    "       'SnowCm', 'Snow3hr', 'Clouds_10', 'MClouds_10', 'CloudDesigns_Abb',\n",
    "       'HClouds_100m', 'Visibility_10m', 'GroundState_Code', 'PhenomenaNo',\n",
    "       'SurfaceTemp']\n",
    "feature_cols_numeric_only = ['Temp', 'Rain', 'WindSpeed', 'WindDir',\n",
    "       'Moist', 'hPa', 'DewTemp', 'CurhPa', 'SeahPa', 'Daylight', 'DaylightMJ',\n",
    "       'SnowCm', 'Snow3hr', 'Clouds_10', 'MClouds_10',\n",
    "       'HClouds_100m', 'Visibility_10m', \n",
    "       'SurfaceTemp']"
   ]
  },
  {
   "cell_type": "code",
   "execution_count": 7,
   "metadata": {},
   "outputs": [],
   "source": [
    "X = df_seoul.loc[:, feature_cols_numeric_only]\n",
    "y = df_seoul['FZ_flag'].values"
   ]
  },
  {
   "cell_type": "code",
   "execution_count": 47,
   "metadata": {},
   "outputs": [
    {
     "data": {
      "text/plain": [
       "(7248, 25)"
      ]
     },
     "execution_count": 47,
     "metadata": {},
     "output_type": "execute_result"
    }
   ],
   "source": [
    "df_seoul.shape"
   ]
  },
  {
   "cell_type": "code",
   "execution_count": null,
   "metadata": {},
   "outputs": [],
   "source": []
  },
  {
   "cell_type": "code",
   "execution_count": 8,
   "metadata": {},
   "outputs": [],
   "source": [
    "from sklearn.preprocessing import MinMaxScaler\n",
    "\n",
    "scaler = MinMaxScaler(feature_range=(0, 1))\n",
    "scaler.fit_transform(X)\n",
    "X = scaler.fit_transform(X)"
   ]
  },
  {
   "cell_type": "code",
   "execution_count": 81,
   "metadata": {
    "scrolled": true
   },
   "outputs": [
    {
     "name": "stdout",
     "output_type": "stream",
     "text": [
      "After OverSampling, the shape of train_X: (7313, 18)\n",
      "After OverSampling, the shape of train_y: (7313,) \n",
      "\n",
      "After OverSampling, counts of label '1': 72\n",
      "After OverSampling, counts of label '0': 7241\n"
     ]
    }
   ],
   "source": [
    "from sklearn.datasets import make_classification\n",
    "from sklearn.decomposition import PCA\n",
    "from imblearn.over_sampling import SMOTE\n",
    "\n",
    "# 모델설정\n",
    "smote = SMOTE(random_state=1234, sampling_strategy=0.01)\n",
    "\n",
    "# train데이터를 넣어 복제함\n",
    "X_resampled, y_resampled = smote.fit_sample(X,list(y))\n",
    "\n",
    "print('After OverSampling, the shape of train_X: {}'.format(X_resampled.shape))\n",
    "print('After OverSampling, the shape of train_y: {} \\n'.format(y_resampled.shape))\n",
    "\n",
    "print(\"After OverSampling, counts of label '1': {}\".format(sum(y_resampled==1)))\n",
    "print(\"After OverSampling, counts of label '0': {}\".format(sum(y_resampled==0)))"
   ]
  },
  {
   "cell_type": "code",
   "execution_count": 82,
   "metadata": {},
   "outputs": [
    {
     "data": {
      "text/plain": [
       "((7313, 18), (7313,))"
      ]
     },
     "execution_count": 82,
     "metadata": {},
     "output_type": "execute_result"
    }
   ],
   "source": [
    "X_resampled.shape, y_resampled.shape"
   ]
  },
  {
   "cell_type": "code",
   "execution_count": 83,
   "metadata": {},
   "outputs": [],
   "source": [
    "df_X_resampled = pd.DataFrame(data=X_resampled, columns=['Temp', 'Rain', 'WindSpeed', 'WindDir',\n",
    "       'Moist', 'hPa', 'DewTemp', 'CurhPa', 'SeahPa', 'Daylight', 'DaylightMJ',\n",
    "       'SnowCm', 'Snow3hr', 'Clouds_10', 'MClouds_10',\n",
    "       'HClouds_100m', 'Visibility_10m', \n",
    "       'SurfaceTemp'])\n",
    "df_y_resampled = pd.DataFrame(data=y_resampled, columns=['FZ_flag'])\n"
   ]
  },
  {
   "cell_type": "code",
   "execution_count": 84,
   "metadata": {},
   "outputs": [
    {
     "data": {
      "text/plain": [
       "((7313, 18), (7313, 1))"
      ]
     },
     "execution_count": 84,
     "metadata": {},
     "output_type": "execute_result"
    }
   ],
   "source": [
    "df_X_resampled.shape, df_y_resampled.shape"
   ]
  },
  {
   "cell_type": "code",
   "execution_count": 85,
   "metadata": {},
   "outputs": [],
   "source": [
    "xx = pd.concat([df_X_resampled, df_y_resampled], axis=1)"
   ]
  },
  {
   "cell_type": "code",
   "execution_count": 86,
   "metadata": {},
   "outputs": [
    {
     "data": {
      "text/plain": [
       "(7313, 19)"
      ]
     },
     "execution_count": 86,
     "metadata": {},
     "output_type": "execute_result"
    }
   ],
   "source": [
    "xx.shape"
   ]
  },
  {
   "cell_type": "code",
   "execution_count": 87,
   "metadata": {},
   "outputs": [
    {
     "data": {
      "text/html": [
       "<div>\n",
       "<style scoped>\n",
       "    .dataframe tbody tr th:only-of-type {\n",
       "        vertical-align: middle;\n",
       "    }\n",
       "\n",
       "    .dataframe tbody tr th {\n",
       "        vertical-align: top;\n",
       "    }\n",
       "\n",
       "    .dataframe thead th {\n",
       "        text-align: right;\n",
       "    }\n",
       "</style>\n",
       "<table border=\"1\" class=\"dataframe\">\n",
       "  <thead>\n",
       "    <tr style=\"text-align: right;\">\n",
       "      <th></th>\n",
       "      <th>Temp</th>\n",
       "      <th>Rain</th>\n",
       "      <th>WindSpeed</th>\n",
       "      <th>WindDir</th>\n",
       "      <th>Moist</th>\n",
       "      <th>hPa</th>\n",
       "      <th>DewTemp</th>\n",
       "      <th>CurhPa</th>\n",
       "      <th>SeahPa</th>\n",
       "      <th>Daylight</th>\n",
       "      <th>DaylightMJ</th>\n",
       "      <th>SnowCm</th>\n",
       "      <th>Snow3hr</th>\n",
       "      <th>Clouds_10</th>\n",
       "      <th>MClouds_10</th>\n",
       "      <th>HClouds_100m</th>\n",
       "      <th>Visibility_10m</th>\n",
       "      <th>SurfaceTemp</th>\n",
       "      <th>FZ_flag</th>\n",
       "    </tr>\n",
       "  </thead>\n",
       "  <tbody>\n",
       "    <tr>\n",
       "      <td>0</td>\n",
       "      <td>0.471429</td>\n",
       "      <td>0.0</td>\n",
       "      <td>0.000000</td>\n",
       "      <td>0.000000</td>\n",
       "      <td>0.655172</td>\n",
       "      <td>0.248408</td>\n",
       "      <td>0.564593</td>\n",
       "      <td>0.742459</td>\n",
       "      <td>0.734234</td>\n",
       "      <td>0.0</td>\n",
       "      <td>0.0</td>\n",
       "      <td>0.0</td>\n",
       "      <td>0.0</td>\n",
       "      <td>0.5</td>\n",
       "      <td>0.0</td>\n",
       "      <td>0.076923</td>\n",
       "      <td>0.397993</td>\n",
       "      <td>0.157068</td>\n",
       "      <td>0</td>\n",
       "    </tr>\n",
       "    <tr>\n",
       "      <td>1</td>\n",
       "      <td>0.485714</td>\n",
       "      <td>0.0</td>\n",
       "      <td>0.240741</td>\n",
       "      <td>0.750000</td>\n",
       "      <td>0.643678</td>\n",
       "      <td>0.248408</td>\n",
       "      <td>0.564593</td>\n",
       "      <td>0.742459</td>\n",
       "      <td>0.734234</td>\n",
       "      <td>0.0</td>\n",
       "      <td>0.0</td>\n",
       "      <td>0.0</td>\n",
       "      <td>0.0</td>\n",
       "      <td>0.5</td>\n",
       "      <td>0.0</td>\n",
       "      <td>0.076923</td>\n",
       "      <td>0.397993</td>\n",
       "      <td>0.157068</td>\n",
       "      <td>0</td>\n",
       "    </tr>\n",
       "    <tr>\n",
       "      <td>2</td>\n",
       "      <td>0.485714</td>\n",
       "      <td>0.0</td>\n",
       "      <td>0.074074</td>\n",
       "      <td>0.888889</td>\n",
       "      <td>0.712644</td>\n",
       "      <td>0.248408</td>\n",
       "      <td>0.564593</td>\n",
       "      <td>0.742459</td>\n",
       "      <td>0.734234</td>\n",
       "      <td>0.0</td>\n",
       "      <td>0.0</td>\n",
       "      <td>0.0</td>\n",
       "      <td>0.0</td>\n",
       "      <td>0.5</td>\n",
       "      <td>0.0</td>\n",
       "      <td>0.076923</td>\n",
       "      <td>0.397993</td>\n",
       "      <td>0.157068</td>\n",
       "      <td>0</td>\n",
       "    </tr>\n",
       "    <tr>\n",
       "      <td>3</td>\n",
       "      <td>0.482857</td>\n",
       "      <td>0.0</td>\n",
       "      <td>0.157407</td>\n",
       "      <td>0.805556</td>\n",
       "      <td>0.735632</td>\n",
       "      <td>0.292994</td>\n",
       "      <td>0.605263</td>\n",
       "      <td>0.723898</td>\n",
       "      <td>0.713964</td>\n",
       "      <td>0.0</td>\n",
       "      <td>0.0</td>\n",
       "      <td>0.0</td>\n",
       "      <td>0.0</td>\n",
       "      <td>0.6</td>\n",
       "      <td>0.6</td>\n",
       "      <td>0.230769</td>\n",
       "      <td>0.230769</td>\n",
       "      <td>0.319372</td>\n",
       "      <td>0</td>\n",
       "    </tr>\n",
       "    <tr>\n",
       "      <td>4</td>\n",
       "      <td>0.482857</td>\n",
       "      <td>0.0</td>\n",
       "      <td>0.129630</td>\n",
       "      <td>0.750000</td>\n",
       "      <td>0.747126</td>\n",
       "      <td>0.292994</td>\n",
       "      <td>0.605263</td>\n",
       "      <td>0.723898</td>\n",
       "      <td>0.713964</td>\n",
       "      <td>0.0</td>\n",
       "      <td>0.0</td>\n",
       "      <td>0.0</td>\n",
       "      <td>0.0</td>\n",
       "      <td>0.6</td>\n",
       "      <td>0.6</td>\n",
       "      <td>0.230769</td>\n",
       "      <td>0.230769</td>\n",
       "      <td>0.319372</td>\n",
       "      <td>0</td>\n",
       "    </tr>\n",
       "    <tr>\n",
       "      <td>5</td>\n",
       "      <td>0.485714</td>\n",
       "      <td>0.0</td>\n",
       "      <td>0.175926</td>\n",
       "      <td>0.805556</td>\n",
       "      <td>0.770115</td>\n",
       "      <td>0.292994</td>\n",
       "      <td>0.605263</td>\n",
       "      <td>0.723898</td>\n",
       "      <td>0.713964</td>\n",
       "      <td>0.0</td>\n",
       "      <td>0.0</td>\n",
       "      <td>0.0</td>\n",
       "      <td>0.0</td>\n",
       "      <td>0.6</td>\n",
       "      <td>0.6</td>\n",
       "      <td>0.230769</td>\n",
       "      <td>0.230769</td>\n",
       "      <td>0.319372</td>\n",
       "      <td>0</td>\n",
       "    </tr>\n",
       "    <tr>\n",
       "      <td>6</td>\n",
       "      <td>0.471429</td>\n",
       "      <td>0.0</td>\n",
       "      <td>0.194444</td>\n",
       "      <td>0.750000</td>\n",
       "      <td>0.770115</td>\n",
       "      <td>0.292994</td>\n",
       "      <td>0.610048</td>\n",
       "      <td>0.696056</td>\n",
       "      <td>0.689189</td>\n",
       "      <td>0.0</td>\n",
       "      <td>0.0</td>\n",
       "      <td>0.0</td>\n",
       "      <td>0.0</td>\n",
       "      <td>0.8</td>\n",
       "      <td>0.8</td>\n",
       "      <td>0.230769</td>\n",
       "      <td>0.197324</td>\n",
       "      <td>0.319372</td>\n",
       "      <td>0</td>\n",
       "    </tr>\n",
       "    <tr>\n",
       "      <td>7</td>\n",
       "      <td>0.471429</td>\n",
       "      <td>0.0</td>\n",
       "      <td>0.138889</td>\n",
       "      <td>0.750000</td>\n",
       "      <td>0.758621</td>\n",
       "      <td>0.292994</td>\n",
       "      <td>0.610048</td>\n",
       "      <td>0.696056</td>\n",
       "      <td>0.689189</td>\n",
       "      <td>0.0</td>\n",
       "      <td>0.0</td>\n",
       "      <td>0.0</td>\n",
       "      <td>0.0</td>\n",
       "      <td>0.8</td>\n",
       "      <td>0.8</td>\n",
       "      <td>0.230769</td>\n",
       "      <td>0.197324</td>\n",
       "      <td>0.319372</td>\n",
       "      <td>0</td>\n",
       "    </tr>\n",
       "    <tr>\n",
       "      <td>8</td>\n",
       "      <td>0.465714</td>\n",
       "      <td>0.0</td>\n",
       "      <td>0.175926</td>\n",
       "      <td>0.750000</td>\n",
       "      <td>0.781609</td>\n",
       "      <td>0.292994</td>\n",
       "      <td>0.610048</td>\n",
       "      <td>0.696056</td>\n",
       "      <td>0.689189</td>\n",
       "      <td>0.0</td>\n",
       "      <td>0.0</td>\n",
       "      <td>0.0</td>\n",
       "      <td>0.0</td>\n",
       "      <td>0.8</td>\n",
       "      <td>0.8</td>\n",
       "      <td>0.230769</td>\n",
       "      <td>0.197324</td>\n",
       "      <td>0.319372</td>\n",
       "      <td>0</td>\n",
       "    </tr>\n",
       "    <tr>\n",
       "      <td>9</td>\n",
       "      <td>0.465714</td>\n",
       "      <td>0.0</td>\n",
       "      <td>0.240741</td>\n",
       "      <td>0.694444</td>\n",
       "      <td>0.781609</td>\n",
       "      <td>0.292994</td>\n",
       "      <td>0.610048</td>\n",
       "      <td>0.700696</td>\n",
       "      <td>0.691441</td>\n",
       "      <td>0.0</td>\n",
       "      <td>0.0</td>\n",
       "      <td>0.0</td>\n",
       "      <td>0.0</td>\n",
       "      <td>1.0</td>\n",
       "      <td>0.5</td>\n",
       "      <td>0.230769</td>\n",
       "      <td>0.197324</td>\n",
       "      <td>0.329843</td>\n",
       "      <td>0</td>\n",
       "    </tr>\n",
       "  </tbody>\n",
       "</table>\n",
       "</div>"
      ],
      "text/plain": [
       "       Temp  Rain  WindSpeed   WindDir     Moist       hPa   DewTemp  \\\n",
       "0  0.471429   0.0   0.000000  0.000000  0.655172  0.248408  0.564593   \n",
       "1  0.485714   0.0   0.240741  0.750000  0.643678  0.248408  0.564593   \n",
       "2  0.485714   0.0   0.074074  0.888889  0.712644  0.248408  0.564593   \n",
       "3  0.482857   0.0   0.157407  0.805556  0.735632  0.292994  0.605263   \n",
       "4  0.482857   0.0   0.129630  0.750000  0.747126  0.292994  0.605263   \n",
       "5  0.485714   0.0   0.175926  0.805556  0.770115  0.292994  0.605263   \n",
       "6  0.471429   0.0   0.194444  0.750000  0.770115  0.292994  0.610048   \n",
       "7  0.471429   0.0   0.138889  0.750000  0.758621  0.292994  0.610048   \n",
       "8  0.465714   0.0   0.175926  0.750000  0.781609  0.292994  0.610048   \n",
       "9  0.465714   0.0   0.240741  0.694444  0.781609  0.292994  0.610048   \n",
       "\n",
       "     CurhPa    SeahPa  Daylight  DaylightMJ  SnowCm  Snow3hr  Clouds_10  \\\n",
       "0  0.742459  0.734234       0.0         0.0     0.0      0.0        0.5   \n",
       "1  0.742459  0.734234       0.0         0.0     0.0      0.0        0.5   \n",
       "2  0.742459  0.734234       0.0         0.0     0.0      0.0        0.5   \n",
       "3  0.723898  0.713964       0.0         0.0     0.0      0.0        0.6   \n",
       "4  0.723898  0.713964       0.0         0.0     0.0      0.0        0.6   \n",
       "5  0.723898  0.713964       0.0         0.0     0.0      0.0        0.6   \n",
       "6  0.696056  0.689189       0.0         0.0     0.0      0.0        0.8   \n",
       "7  0.696056  0.689189       0.0         0.0     0.0      0.0        0.8   \n",
       "8  0.696056  0.689189       0.0         0.0     0.0      0.0        0.8   \n",
       "9  0.700696  0.691441       0.0         0.0     0.0      0.0        1.0   \n",
       "\n",
       "   MClouds_10  HClouds_100m  Visibility_10m  SurfaceTemp  FZ_flag  \n",
       "0         0.0      0.076923        0.397993     0.157068        0  \n",
       "1         0.0      0.076923        0.397993     0.157068        0  \n",
       "2         0.0      0.076923        0.397993     0.157068        0  \n",
       "3         0.6      0.230769        0.230769     0.319372        0  \n",
       "4         0.6      0.230769        0.230769     0.319372        0  \n",
       "5         0.6      0.230769        0.230769     0.319372        0  \n",
       "6         0.8      0.230769        0.197324     0.319372        0  \n",
       "7         0.8      0.230769        0.197324     0.319372        0  \n",
       "8         0.8      0.230769        0.197324     0.319372        0  \n",
       "9         0.5      0.230769        0.197324     0.329843        0  "
      ]
     },
     "execution_count": 87,
     "metadata": {},
     "output_type": "execute_result"
    }
   ],
   "source": [
    "xx.head(10)"
   ]
  },
  {
   "cell_type": "code",
   "execution_count": 88,
   "metadata": {},
   "outputs": [],
   "source": [
    "def build_formula(x_list, y):\n",
    "    x_str = ' + '.join(x_list)\n",
    "    return '{} ~ {}'.format(y, x_str)"
   ]
  },
  {
   "cell_type": "code",
   "execution_count": 89,
   "metadata": {},
   "outputs": [],
   "source": [
    "fm_str = build_formula(['Temp', 'Rain', 'WindSpeed', \n",
    "                        'Moist', 'hPa', 'DewTemp', 'CurhPa', \n",
    "                        'SnowCm', 'Snow3hr', 'Clouds_10', 'MClouds_10',\n",
    "                        'SurfaceTemp'], 'FZ_flag')"
   ]
  },
  {
   "cell_type": "code",
   "execution_count": 90,
   "metadata": {},
   "outputs": [],
   "source": [
    "fm_str = build_formula(['Temp', 'Rain', 'WindSpeed', \n",
    "                        'Moist', 'hPa', 'DewTemp', 'CurhPa', \n",
    "                        'Clouds_10', 'MClouds_10',\n",
    "                        'SurfaceTemp'], 'FZ_flag')"
   ]
  },
  {
   "cell_type": "code",
   "execution_count": 91,
   "metadata": {},
   "outputs": [
    {
     "data": {
      "text/plain": [
       "'FZ_flag ~ Temp + Rain + WindSpeed + Moist + hPa + DewTemp + CurhPa + Clouds_10 + MClouds_10 + SurfaceTemp'"
      ]
     },
     "execution_count": 91,
     "metadata": {},
     "output_type": "execute_result"
    }
   ],
   "source": [
    "fm_str"
   ]
  },
  {
   "cell_type": "code",
   "execution_count": 92,
   "metadata": {},
   "outputs": [],
   "source": [
    "model = sm.Logit.from_formula(fm_str, xx)"
   ]
  },
  {
   "cell_type": "code",
   "execution_count": 93,
   "metadata": {},
   "outputs": [
    {
     "name": "stdout",
     "output_type": "stream",
     "text": [
      "Warning: Maximum number of iterations has been exceeded.\n",
      "         Current function value: inf\n",
      "         Iterations: 100\n"
     ]
    },
    {
     "name": "stderr",
     "output_type": "stream",
     "text": [
      "C:\\ProgramData\\Anaconda3\\lib\\site-packages\\statsmodels\\discrete\\discrete_model.py:1789: RuntimeWarning: divide by zero encountered in log\n",
      "  return np.sum(np.log(self.cdf(q*np.dot(X,params))))\n"
     ]
    },
    {
     "ename": "LinAlgError",
     "evalue": "Singular matrix",
     "output_type": "error",
     "traceback": [
      "\u001b[1;31m---------------------------------------------------------------------------\u001b[0m",
      "\u001b[1;31mLinAlgError\u001b[0m                               Traceback (most recent call last)",
      "\u001b[1;32m<ipython-input-93-bc7c3481d1b3>\u001b[0m in \u001b[0;36m<module>\u001b[1;34m\u001b[0m\n\u001b[1;32m----> 1\u001b[1;33m \u001b[0mresult\u001b[0m \u001b[1;33m=\u001b[0m \u001b[0mmodel\u001b[0m\u001b[1;33m.\u001b[0m\u001b[0mfit\u001b[0m\u001b[1;33m(\u001b[0m\u001b[0mmaxiter\u001b[0m\u001b[1;33m=\u001b[0m\u001b[1;36m100\u001b[0m\u001b[1;33m)\u001b[0m\u001b[1;33m\u001b[0m\u001b[1;33m\u001b[0m\u001b[0m\n\u001b[0m",
      "\u001b[1;32mC:\\ProgramData\\Anaconda3\\lib\\site-packages\\statsmodels\\discrete\\discrete_model.py\u001b[0m in \u001b[0;36mfit\u001b[1;34m(self, start_params, method, maxiter, full_output, disp, callback, **kwargs)\u001b[0m\n\u001b[0;32m   1900\u001b[0m         bnryfit = super(Logit, self).fit(start_params=start_params,\n\u001b[0;32m   1901\u001b[0m                 \u001b[0mmethod\u001b[0m\u001b[1;33m=\u001b[0m\u001b[0mmethod\u001b[0m\u001b[1;33m,\u001b[0m \u001b[0mmaxiter\u001b[0m\u001b[1;33m=\u001b[0m\u001b[0mmaxiter\u001b[0m\u001b[1;33m,\u001b[0m \u001b[0mfull_output\u001b[0m\u001b[1;33m=\u001b[0m\u001b[0mfull_output\u001b[0m\u001b[1;33m,\u001b[0m\u001b[1;33m\u001b[0m\u001b[1;33m\u001b[0m\u001b[0m\n\u001b[1;32m-> 1902\u001b[1;33m                 disp=disp, callback=callback, **kwargs)\n\u001b[0m\u001b[0;32m   1903\u001b[0m \u001b[1;33m\u001b[0m\u001b[0m\n\u001b[0;32m   1904\u001b[0m         \u001b[0mdiscretefit\u001b[0m \u001b[1;33m=\u001b[0m \u001b[0mLogitResults\u001b[0m\u001b[1;33m(\u001b[0m\u001b[0mself\u001b[0m\u001b[1;33m,\u001b[0m \u001b[0mbnryfit\u001b[0m\u001b[1;33m)\u001b[0m\u001b[1;33m\u001b[0m\u001b[1;33m\u001b[0m\u001b[0m\n",
      "\u001b[1;32mC:\\ProgramData\\Anaconda3\\lib\\site-packages\\statsmodels\\discrete\\discrete_model.py\u001b[0m in \u001b[0;36mfit\u001b[1;34m(self, start_params, method, maxiter, full_output, disp, callback, **kwargs)\u001b[0m\n\u001b[0;32m    215\u001b[0m         mlefit = super(DiscreteModel, self).fit(start_params=start_params,\n\u001b[0;32m    216\u001b[0m                 \u001b[0mmethod\u001b[0m\u001b[1;33m=\u001b[0m\u001b[0mmethod\u001b[0m\u001b[1;33m,\u001b[0m \u001b[0mmaxiter\u001b[0m\u001b[1;33m=\u001b[0m\u001b[0mmaxiter\u001b[0m\u001b[1;33m,\u001b[0m \u001b[0mfull_output\u001b[0m\u001b[1;33m=\u001b[0m\u001b[0mfull_output\u001b[0m\u001b[1;33m,\u001b[0m\u001b[1;33m\u001b[0m\u001b[1;33m\u001b[0m\u001b[0m\n\u001b[1;32m--> 217\u001b[1;33m                 disp=disp, callback=callback, **kwargs)\n\u001b[0m\u001b[0;32m    218\u001b[0m \u001b[1;33m\u001b[0m\u001b[0m\n\u001b[0;32m    219\u001b[0m         \u001b[1;32mreturn\u001b[0m \u001b[0mmlefit\u001b[0m \u001b[1;31m# up to subclasses to wrap results\u001b[0m\u001b[1;33m\u001b[0m\u001b[1;33m\u001b[0m\u001b[0m\n",
      "\u001b[1;32mC:\\ProgramData\\Anaconda3\\lib\\site-packages\\statsmodels\\base\\model.py\u001b[0m in \u001b[0;36mfit\u001b[1;34m(self, start_params, method, maxiter, full_output, disp, fargs, callback, retall, skip_hessian, **kwargs)\u001b[0m\n\u001b[0;32m    475\u001b[0m             \u001b[0mHinv\u001b[0m \u001b[1;33m=\u001b[0m \u001b[0mcov_params_func\u001b[0m\u001b[1;33m(\u001b[0m\u001b[0mself\u001b[0m\u001b[1;33m,\u001b[0m \u001b[0mxopt\u001b[0m\u001b[1;33m,\u001b[0m \u001b[0mretvals\u001b[0m\u001b[1;33m)\u001b[0m\u001b[1;33m\u001b[0m\u001b[1;33m\u001b[0m\u001b[0m\n\u001b[0;32m    476\u001b[0m         \u001b[1;32melif\u001b[0m \u001b[0mmethod\u001b[0m \u001b[1;33m==\u001b[0m \u001b[1;34m'newton'\u001b[0m \u001b[1;32mand\u001b[0m \u001b[0mfull_output\u001b[0m\u001b[1;33m:\u001b[0m\u001b[1;33m\u001b[0m\u001b[1;33m\u001b[0m\u001b[0m\n\u001b[1;32m--> 477\u001b[1;33m             \u001b[0mHinv\u001b[0m \u001b[1;33m=\u001b[0m \u001b[0mnp\u001b[0m\u001b[1;33m.\u001b[0m\u001b[0mlinalg\u001b[0m\u001b[1;33m.\u001b[0m\u001b[0minv\u001b[0m\u001b[1;33m(\u001b[0m\u001b[1;33m-\u001b[0m\u001b[0mretvals\u001b[0m\u001b[1;33m[\u001b[0m\u001b[1;34m'Hessian'\u001b[0m\u001b[1;33m]\u001b[0m\u001b[1;33m)\u001b[0m \u001b[1;33m/\u001b[0m \u001b[0mnobs\u001b[0m\u001b[1;33m\u001b[0m\u001b[1;33m\u001b[0m\u001b[0m\n\u001b[0m\u001b[0;32m    478\u001b[0m         \u001b[1;32melif\u001b[0m \u001b[1;32mnot\u001b[0m \u001b[0mskip_hessian\u001b[0m\u001b[1;33m:\u001b[0m\u001b[1;33m\u001b[0m\u001b[1;33m\u001b[0m\u001b[0m\n\u001b[0;32m    479\u001b[0m             \u001b[0mH\u001b[0m \u001b[1;33m=\u001b[0m \u001b[1;33m-\u001b[0m\u001b[1;36m1\u001b[0m \u001b[1;33m*\u001b[0m \u001b[0mself\u001b[0m\u001b[1;33m.\u001b[0m\u001b[0mhessian\u001b[0m\u001b[1;33m(\u001b[0m\u001b[0mxopt\u001b[0m\u001b[1;33m)\u001b[0m\u001b[1;33m\u001b[0m\u001b[1;33m\u001b[0m\u001b[0m\n",
      "\u001b[1;32mC:\\ProgramData\\Anaconda3\\lib\\site-packages\\numpy\\linalg\\linalg.py\u001b[0m in \u001b[0;36minv\u001b[1;34m(a)\u001b[0m\n\u001b[0;32m    549\u001b[0m     \u001b[0msignature\u001b[0m \u001b[1;33m=\u001b[0m \u001b[1;34m'D->D'\u001b[0m \u001b[1;32mif\u001b[0m \u001b[0misComplexType\u001b[0m\u001b[1;33m(\u001b[0m\u001b[0mt\u001b[0m\u001b[1;33m)\u001b[0m \u001b[1;32melse\u001b[0m \u001b[1;34m'd->d'\u001b[0m\u001b[1;33m\u001b[0m\u001b[1;33m\u001b[0m\u001b[0m\n\u001b[0;32m    550\u001b[0m     \u001b[0mextobj\u001b[0m \u001b[1;33m=\u001b[0m \u001b[0mget_linalg_error_extobj\u001b[0m\u001b[1;33m(\u001b[0m\u001b[0m_raise_linalgerror_singular\u001b[0m\u001b[1;33m)\u001b[0m\u001b[1;33m\u001b[0m\u001b[1;33m\u001b[0m\u001b[0m\n\u001b[1;32m--> 551\u001b[1;33m     \u001b[0mainv\u001b[0m \u001b[1;33m=\u001b[0m \u001b[0m_umath_linalg\u001b[0m\u001b[1;33m.\u001b[0m\u001b[0minv\u001b[0m\u001b[1;33m(\u001b[0m\u001b[0ma\u001b[0m\u001b[1;33m,\u001b[0m \u001b[0msignature\u001b[0m\u001b[1;33m=\u001b[0m\u001b[0msignature\u001b[0m\u001b[1;33m,\u001b[0m \u001b[0mextobj\u001b[0m\u001b[1;33m=\u001b[0m\u001b[0mextobj\u001b[0m\u001b[1;33m)\u001b[0m\u001b[1;33m\u001b[0m\u001b[1;33m\u001b[0m\u001b[0m\n\u001b[0m\u001b[0;32m    552\u001b[0m     \u001b[1;32mreturn\u001b[0m \u001b[0mwrap\u001b[0m\u001b[1;33m(\u001b[0m\u001b[0mainv\u001b[0m\u001b[1;33m.\u001b[0m\u001b[0mastype\u001b[0m\u001b[1;33m(\u001b[0m\u001b[0mresult_t\u001b[0m\u001b[1;33m,\u001b[0m \u001b[0mcopy\u001b[0m\u001b[1;33m=\u001b[0m\u001b[1;32mFalse\u001b[0m\u001b[1;33m)\u001b[0m\u001b[1;33m)\u001b[0m\u001b[1;33m\u001b[0m\u001b[1;33m\u001b[0m\u001b[0m\n\u001b[0;32m    553\u001b[0m \u001b[1;33m\u001b[0m\u001b[0m\n",
      "\u001b[1;32mC:\\ProgramData\\Anaconda3\\lib\\site-packages\\numpy\\linalg\\linalg.py\u001b[0m in \u001b[0;36m_raise_linalgerror_singular\u001b[1;34m(err, flag)\u001b[0m\n\u001b[0;32m     95\u001b[0m \u001b[1;33m\u001b[0m\u001b[0m\n\u001b[0;32m     96\u001b[0m \u001b[1;32mdef\u001b[0m \u001b[0m_raise_linalgerror_singular\u001b[0m\u001b[1;33m(\u001b[0m\u001b[0merr\u001b[0m\u001b[1;33m,\u001b[0m \u001b[0mflag\u001b[0m\u001b[1;33m)\u001b[0m\u001b[1;33m:\u001b[0m\u001b[1;33m\u001b[0m\u001b[1;33m\u001b[0m\u001b[0m\n\u001b[1;32m---> 97\u001b[1;33m     \u001b[1;32mraise\u001b[0m \u001b[0mLinAlgError\u001b[0m\u001b[1;33m(\u001b[0m\u001b[1;34m\"Singular matrix\"\u001b[0m\u001b[1;33m)\u001b[0m\u001b[1;33m\u001b[0m\u001b[1;33m\u001b[0m\u001b[0m\n\u001b[0m\u001b[0;32m     98\u001b[0m \u001b[1;33m\u001b[0m\u001b[0m\n\u001b[0;32m     99\u001b[0m \u001b[1;32mdef\u001b[0m \u001b[0m_raise_linalgerror_nonposdef\u001b[0m\u001b[1;33m(\u001b[0m\u001b[0merr\u001b[0m\u001b[1;33m,\u001b[0m \u001b[0mflag\u001b[0m\u001b[1;33m)\u001b[0m\u001b[1;33m:\u001b[0m\u001b[1;33m\u001b[0m\u001b[1;33m\u001b[0m\u001b[0m\n",
      "\u001b[1;31mLinAlgError\u001b[0m: Singular matrix"
     ]
    }
   ],
   "source": [
    "result = model.fit(maxiter=100)"
   ]
  },
  {
   "cell_type": "code",
   "execution_count": 94,
   "metadata": {},
   "outputs": [
    {
     "name": "stdout",
     "output_type": "stream",
     "text": [
      "                           Logit Regression Results                           \n",
      "==============================================================================\n",
      "Dep. Variable:                FZ_flag   No. Observations:                 9413\n",
      "Model:                          Logit   Df Residuals:                     9402\n",
      "Method:                           MLE   Df Model:                           10\n",
      "Date:                Wed, 12 Feb 2020   Pseudo R-squ.:                  0.9614\n",
      "Time:                        16:21:04   Log-Likelihood:                -196.44\n",
      "converged:                      False   LL-Null:                       -5084.7\n",
      "Covariance Type:            nonrobust   LLR p-value:                     0.000\n",
      "===============================================================================\n",
      "                  coef    std err          z      P>|z|      [0.025      0.975]\n",
      "-------------------------------------------------------------------------------\n",
      "Intercept    -317.0897   8109.071     -0.039      0.969   -1.62e+04    1.56e+04\n",
      "Temp          111.3233     10.961     10.157      0.000      89.841     132.806\n",
      "Rain           19.8241      3.077      6.443      0.000      13.793      25.855\n",
      "WindSpeed      58.3882      5.313     10.989      0.000      47.974      68.802\n",
      "Moist          23.9919      3.435      6.985      0.000      17.260      30.724\n",
      "hPa          -289.0705     29.837     -9.688      0.000    -347.550    -230.591\n",
      "DewTemp       120.1673     17.630      6.816      0.000      85.614     154.721\n",
      "CurhPa          9.4719      2.156      4.394      0.000       5.247      13.697\n",
      "Clouds_10     259.7381   8109.066      0.032      0.974   -1.56e+04    1.62e+04\n",
      "MClouds_10     -0.1563      1.368     -0.114      0.909      -2.837       2.524\n",
      "SurfaceTemp  -105.2329     11.656     -9.029      0.000    -128.077     -82.389\n",
      "===============================================================================\n",
      "\n",
      "Possibly complete quasi-separation: A fraction 0.75 of observations can be\n",
      "perfectly predicted. This might indicate that there is complete\n",
      "quasi-separation. In this case some parameters will not be identified.\n"
     ]
    }
   ],
   "source": [
    "print(result.summary())"
   ]
  },
  {
   "cell_type": "code",
   "execution_count": 95,
   "metadata": {},
   "outputs": [
    {
     "name": "stdout",
     "output_type": "stream",
     "text": [
      "                           Results: Logit\n",
      "=====================================================================\n",
      "Model:                Logit              Pseudo R-squared:   0.961   \n",
      "Dependent Variable:   FZ_flag            AIC:                414.8794\n",
      "Date:                 2020-02-12 16:21   BIC:                493.5277\n",
      "No. Observations:     9413               Log-Likelihood:     -196.44 \n",
      "Df Model:             10                 LL-Null:            -5084.7 \n",
      "Df Residuals:         9402               LLR p-value:        0.0000  \n",
      "Converged:            0.0000             Scale:              1.0000  \n",
      "No. Iterations:       100.0000                                       \n",
      "---------------------------------------------------------------------\n",
      "              Coef.    Std.Err.    z    P>|z|     [0.025     0.975]  \n",
      "---------------------------------------------------------------------\n",
      "Intercept   -317.0897 8109.0714 -0.0391 0.9688 -16210.5776 15576.3982\n",
      "Temp         111.3233   10.9606 10.1567 0.0000     89.8409   132.8057\n",
      "Rain          19.8241    3.0770  6.4426 0.0000     13.7933    25.8550\n",
      "WindSpeed     58.3882    5.3135 10.9887 0.0000     47.9739    68.8024\n",
      "Moist         23.9919    3.4349  6.9848 0.0000     17.2597    30.7242\n",
      "hPa         -289.0705   29.8371 -9.6883 0.0000   -347.5502  -230.5908\n",
      "DewTemp      120.1673   17.6296  6.8162 0.0000     85.6140   154.7207\n",
      "CurhPa         9.4719    2.1557  4.3938 0.0000      5.2467    13.6971\n",
      "Clouds_10    259.7381 8109.0657  0.0320 0.9744 -15633.7387 16153.2149\n",
      "MClouds_10    -0.1563    1.3675 -0.1143 0.9090     -2.8366     2.5239\n",
      "SurfaceTemp -105.2329   11.6555 -9.0286 0.0000   -128.0773   -82.3885\n",
      "=====================================================================\n",
      "\n"
     ]
    }
   ],
   "source": [
    "print(result.summary2())"
   ]
  },
  {
   "cell_type": "code",
   "execution_count": null,
   "metadata": {},
   "outputs": [],
   "source": []
  },
  {
   "cell_type": "code",
   "execution_count": null,
   "metadata": {},
   "outputs": [],
   "source": []
  }
 ],
 "metadata": {
  "kernelspec": {
   "display_name": "Python 3",
   "language": "python",
   "name": "python3"
  },
  "language_info": {
   "codemirror_mode": {
    "name": "ipython",
    "version": 3
   },
   "file_extension": ".py",
   "mimetype": "text/x-python",
   "name": "python",
   "nbconvert_exporter": "python",
   "pygments_lexer": "ipython3",
   "version": "3.7.4"
  }
 },
 "nbformat": 4,
 "nbformat_minor": 2
}
