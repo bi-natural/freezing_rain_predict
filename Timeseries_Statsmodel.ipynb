{
 "cells": [
  {
   "cell_type": "code",
   "execution_count": 1,
   "metadata": {},
   "outputs": [],
   "source": [
    "import pandas as pd\n",
    "import os, sys, time"
   ]
  },
  {
   "cell_type": "code",
   "execution_count": 2,
   "metadata": {},
   "outputs": [],
   "source": [
    "df = pd.read_excel('FZ_Data/ASOS_All.xlsx', converters={'지점':str, '지면상태(지면상태코드)':str, '현상번호(국내식)':str})"
   ]
  },
  {
   "cell_type": "code",
   "execution_count": 3,
   "metadata": {},
   "outputs": [
    {
     "data": {
      "text/plain": [
       "지점                       object\n",
       "지점명                      object\n",
       "일시               datetime64[ns]\n",
       "기온(°C)                  float64\n",
       "기온 QC플래그                  int64\n",
       "강수량(mm)                 float64\n",
       "강수량 QC플래그               float64\n",
       "풍속(m/s)                 float64\n",
       "풍속 QC플래그                  int64\n",
       "풍향(16방위)                  int64\n",
       "풍향 QC플래그                  int64\n",
       "습도(%)                   float64\n",
       "습도 QC플래그                  int64\n",
       "증기압(hPa)                float64\n",
       "이슬점온도(°C)               float64\n",
       "현지기압(hPa)               float64\n",
       "현지기압 QC플래그                int64\n",
       "해면기압(hPa)               float64\n",
       "해면기압 QC플래그                int64\n",
       "일조(hr)                  float64\n",
       "일조 QC플래그                  int64\n",
       "일사(MJ/m2)               float64\n",
       "적설(cm)                  float64\n",
       "3시간신적설(cm)              float64\n",
       "전운량(10분위)               float64\n",
       "중하층운량(10분위)             float64\n",
       "운형(운형약어)                 object\n",
       "최저운고(100m )             float64\n",
       "시정(10m)                 float64\n",
       "지면상태(지면상태코드)             object\n",
       "현상번호(국내식)                object\n",
       "지면온도(°C)                float64\n",
       "지면온도 QC플래그                int64\n",
       "5cm 지중온도(°C)            float64\n",
       "10cm 지중온도(°C)           float64\n",
       "20cm 지중온도(°C)           float64\n",
       "30cm 지중온도(°C)           float64\n",
       "dtype: object"
      ]
     },
     "execution_count": 3,
     "metadata": {},
     "output_type": "execute_result"
    }
   ],
   "source": [
    "df.dtypes"
   ]
  },
  {
   "cell_type": "code",
   "execution_count": 4,
   "metadata": {},
   "outputs": [
    {
     "data": {
      "text/plain": [
       "지면상태(지면상태코드)\n",
       "0     1324\n",
       "1     1066\n",
       "11     347\n",
       "12     178\n",
       "13     619\n",
       "14      26\n",
       "15      62\n",
       "16      52\n",
       "17     170\n",
       "18      15\n",
       "19     213\n",
       "2       35\n",
       "3        3\n",
       "4      734\n",
       "dtype: int64"
      ]
     },
     "execution_count": 4,
     "metadata": {},
     "output_type": "execute_result"
    }
   ],
   "source": [
    "df.groupby(['지면상태(지면상태코드)']).size()"
   ]
  },
  {
   "cell_type": "code",
   "execution_count": 5,
   "metadata": {},
   "outputs": [
    {
     "data": {
      "text/plain": [
       "운형(운형약어)\n",
       "Ac         133\n",
       "AcCc         1\n",
       "AcCi       161\n",
       "AcCs        10\n",
       "As         189\n",
       "AsCi         6\n",
       "AsCs         3\n",
       "CbNs         4\n",
       "CbStNs       2\n",
       "Cc           1\n",
       "CcCi         1\n",
       "Ci        1669\n",
       "Cs          80\n",
       "CsCi         3\n",
       "Cu           5\n",
       "CuCi         2\n",
       "CuCs         1\n",
       "CuNs         2\n",
       "CuSc         2\n",
       "Sc        2979\n",
       "ScAc       146\n",
       "ScAcCi      30\n",
       "ScAcCs       2\n",
       "ScAs      1068\n",
       "ScAsCs       1\n",
       "ScCc         1\n",
       "ScCi       380\n",
       "ScCs        14\n",
       "ScNs        64\n",
       "St         179\n",
       "StAc         5\n",
       "StAcCi       1\n",
       "StAs       138\n",
       "StCi         5\n",
       "StNs       981\n",
       "StSc         3\n",
       "StScAs       3\n",
       "StScCi       1\n",
       "StScNs       1\n",
       "dtype: int64"
      ]
     },
     "execution_count": 5,
     "metadata": {},
     "output_type": "execute_result"
    }
   ],
   "source": [
    "df.groupby(['운형(운형약어)']).size()"
   ]
  },
  {
   "cell_type": "code",
   "execution_count": 8,
   "metadata": {},
   "outputs": [
    {
     "ename": "KeyError",
     "evalue": "\"['최저운고(100m )', '습도(%)', '3시간신적설(cm)', '시정(10m)', '일사(MJ/m2)', '지점명', '지면상태(지면상태코드)', '현지기압(hPa)', '풍향(16방위)', '적설(cm)', '운형(운형약어)', '풍속(m/s)', '전운량(10분위)', '강수량(mm)', '기온(°C)', '현상번호(국내식)', '해면기압(hPa)', '증기압(hPa)', '일시', '지면온도(°C)', '이슬점온도(°C)', '지점', '중하층운량(10분위)', '일조(hr)'] not in index\"",
     "output_type": "error",
     "traceback": [
      "\u001b[1;31m---------------------------------------------------------------------------\u001b[0m",
      "\u001b[1;31mKeyError\u001b[0m                                  Traceback (most recent call last)",
      "\u001b[1;32m<ipython-input-8-71332defc3c2>\u001b[0m in \u001b[0;36m<module>\u001b[1;34m\u001b[0m\n\u001b[0;32m      7\u001b[0m        '10cm 지중온도(°C)', '20cm 지중온도(°C)', '30cm 지중온도(°C)']\n\u001b[0;32m      8\u001b[0m \u001b[1;33m\u001b[0m\u001b[0m\n\u001b[1;32m----> 9\u001b[1;33m \u001b[0mdf\u001b[0m \u001b[1;33m=\u001b[0m \u001b[0mdf\u001b[0m\u001b[1;33m[\u001b[0m\u001b[0minterest_columns\u001b[0m\u001b[1;33m]\u001b[0m\u001b[1;33m\u001b[0m\u001b[1;33m\u001b[0m\u001b[0m\n\u001b[0m",
      "\u001b[1;32mC:\\ProgramData\\Anaconda3\\lib\\site-packages\\pandas\\core\\frame.py\u001b[0m in \u001b[0;36m__getitem__\u001b[1;34m(self, key)\u001b[0m\n\u001b[0;32m   2984\u001b[0m             \u001b[1;32mif\u001b[0m \u001b[0mis_iterator\u001b[0m\u001b[1;33m(\u001b[0m\u001b[0mkey\u001b[0m\u001b[1;33m)\u001b[0m\u001b[1;33m:\u001b[0m\u001b[1;33m\u001b[0m\u001b[1;33m\u001b[0m\u001b[0m\n\u001b[0;32m   2985\u001b[0m                 \u001b[0mkey\u001b[0m \u001b[1;33m=\u001b[0m \u001b[0mlist\u001b[0m\u001b[1;33m(\u001b[0m\u001b[0mkey\u001b[0m\u001b[1;33m)\u001b[0m\u001b[1;33m\u001b[0m\u001b[1;33m\u001b[0m\u001b[0m\n\u001b[1;32m-> 2986\u001b[1;33m             \u001b[0mindexer\u001b[0m \u001b[1;33m=\u001b[0m \u001b[0mself\u001b[0m\u001b[1;33m.\u001b[0m\u001b[0mloc\u001b[0m\u001b[1;33m.\u001b[0m\u001b[0m_convert_to_indexer\u001b[0m\u001b[1;33m(\u001b[0m\u001b[0mkey\u001b[0m\u001b[1;33m,\u001b[0m \u001b[0maxis\u001b[0m\u001b[1;33m=\u001b[0m\u001b[1;36m1\u001b[0m\u001b[1;33m,\u001b[0m \u001b[0mraise_missing\u001b[0m\u001b[1;33m=\u001b[0m\u001b[1;32mTrue\u001b[0m\u001b[1;33m)\u001b[0m\u001b[1;33m\u001b[0m\u001b[1;33m\u001b[0m\u001b[0m\n\u001b[0m\u001b[0;32m   2987\u001b[0m \u001b[1;33m\u001b[0m\u001b[0m\n\u001b[0;32m   2988\u001b[0m         \u001b[1;31m# take() does not accept boolean indexers\u001b[0m\u001b[1;33m\u001b[0m\u001b[1;33m\u001b[0m\u001b[1;33m\u001b[0m\u001b[0m\n",
      "\u001b[1;32mC:\\ProgramData\\Anaconda3\\lib\\site-packages\\pandas\\core\\indexing.py\u001b[0m in \u001b[0;36m_convert_to_indexer\u001b[1;34m(self, obj, axis, is_setter, raise_missing)\u001b[0m\n\u001b[0;32m   1283\u001b[0m                 \u001b[1;31m# When setting, missing keys are not allowed, even with .loc:\u001b[0m\u001b[1;33m\u001b[0m\u001b[1;33m\u001b[0m\u001b[1;33m\u001b[0m\u001b[0m\n\u001b[0;32m   1284\u001b[0m                 \u001b[0mkwargs\u001b[0m \u001b[1;33m=\u001b[0m \u001b[1;33m{\u001b[0m\u001b[1;34m\"raise_missing\"\u001b[0m\u001b[1;33m:\u001b[0m \u001b[1;32mTrue\u001b[0m \u001b[1;32mif\u001b[0m \u001b[0mis_setter\u001b[0m \u001b[1;32melse\u001b[0m \u001b[0mraise_missing\u001b[0m\u001b[1;33m}\u001b[0m\u001b[1;33m\u001b[0m\u001b[1;33m\u001b[0m\u001b[0m\n\u001b[1;32m-> 1285\u001b[1;33m                 \u001b[1;32mreturn\u001b[0m \u001b[0mself\u001b[0m\u001b[1;33m.\u001b[0m\u001b[0m_get_listlike_indexer\u001b[0m\u001b[1;33m(\u001b[0m\u001b[0mobj\u001b[0m\u001b[1;33m,\u001b[0m \u001b[0maxis\u001b[0m\u001b[1;33m,\u001b[0m \u001b[1;33m**\u001b[0m\u001b[0mkwargs\u001b[0m\u001b[1;33m)\u001b[0m\u001b[1;33m[\u001b[0m\u001b[1;36m1\u001b[0m\u001b[1;33m]\u001b[0m\u001b[1;33m\u001b[0m\u001b[1;33m\u001b[0m\u001b[0m\n\u001b[0m\u001b[0;32m   1286\u001b[0m         \u001b[1;32melse\u001b[0m\u001b[1;33m:\u001b[0m\u001b[1;33m\u001b[0m\u001b[1;33m\u001b[0m\u001b[0m\n\u001b[0;32m   1287\u001b[0m             \u001b[1;32mtry\u001b[0m\u001b[1;33m:\u001b[0m\u001b[1;33m\u001b[0m\u001b[1;33m\u001b[0m\u001b[0m\n",
      "\u001b[1;32mC:\\ProgramData\\Anaconda3\\lib\\site-packages\\pandas\\core\\indexing.py\u001b[0m in \u001b[0;36m_get_listlike_indexer\u001b[1;34m(self, key, axis, raise_missing)\u001b[0m\n\u001b[0;32m   1090\u001b[0m \u001b[1;33m\u001b[0m\u001b[0m\n\u001b[0;32m   1091\u001b[0m         self._validate_read_indexer(\n\u001b[1;32m-> 1092\u001b[1;33m             \u001b[0mkeyarr\u001b[0m\u001b[1;33m,\u001b[0m \u001b[0mindexer\u001b[0m\u001b[1;33m,\u001b[0m \u001b[0mo\u001b[0m\u001b[1;33m.\u001b[0m\u001b[0m_get_axis_number\u001b[0m\u001b[1;33m(\u001b[0m\u001b[0maxis\u001b[0m\u001b[1;33m)\u001b[0m\u001b[1;33m,\u001b[0m \u001b[0mraise_missing\u001b[0m\u001b[1;33m=\u001b[0m\u001b[0mraise_missing\u001b[0m\u001b[1;33m\u001b[0m\u001b[1;33m\u001b[0m\u001b[0m\n\u001b[0m\u001b[0;32m   1093\u001b[0m         )\n\u001b[0;32m   1094\u001b[0m         \u001b[1;32mreturn\u001b[0m \u001b[0mkeyarr\u001b[0m\u001b[1;33m,\u001b[0m \u001b[0mindexer\u001b[0m\u001b[1;33m\u001b[0m\u001b[1;33m\u001b[0m\u001b[0m\n",
      "\u001b[1;32mC:\\ProgramData\\Anaconda3\\lib\\site-packages\\pandas\\core\\indexing.py\u001b[0m in \u001b[0;36m_validate_read_indexer\u001b[1;34m(self, key, indexer, axis, raise_missing)\u001b[0m\n\u001b[0;32m   1183\u001b[0m             \u001b[1;32mif\u001b[0m \u001b[1;32mnot\u001b[0m \u001b[1;33m(\u001b[0m\u001b[0mself\u001b[0m\u001b[1;33m.\u001b[0m\u001b[0mname\u001b[0m \u001b[1;33m==\u001b[0m \u001b[1;34m\"loc\"\u001b[0m \u001b[1;32mand\u001b[0m \u001b[1;32mnot\u001b[0m \u001b[0mraise_missing\u001b[0m\u001b[1;33m)\u001b[0m\u001b[1;33m:\u001b[0m\u001b[1;33m\u001b[0m\u001b[1;33m\u001b[0m\u001b[0m\n\u001b[0;32m   1184\u001b[0m                 \u001b[0mnot_found\u001b[0m \u001b[1;33m=\u001b[0m \u001b[0mlist\u001b[0m\u001b[1;33m(\u001b[0m\u001b[0mset\u001b[0m\u001b[1;33m(\u001b[0m\u001b[0mkey\u001b[0m\u001b[1;33m)\u001b[0m \u001b[1;33m-\u001b[0m \u001b[0mset\u001b[0m\u001b[1;33m(\u001b[0m\u001b[0max\u001b[0m\u001b[1;33m)\u001b[0m\u001b[1;33m)\u001b[0m\u001b[1;33m\u001b[0m\u001b[1;33m\u001b[0m\u001b[0m\n\u001b[1;32m-> 1185\u001b[1;33m                 \u001b[1;32mraise\u001b[0m \u001b[0mKeyError\u001b[0m\u001b[1;33m(\u001b[0m\u001b[1;34m\"{} not in index\"\u001b[0m\u001b[1;33m.\u001b[0m\u001b[0mformat\u001b[0m\u001b[1;33m(\u001b[0m\u001b[0mnot_found\u001b[0m\u001b[1;33m)\u001b[0m\u001b[1;33m)\u001b[0m\u001b[1;33m\u001b[0m\u001b[1;33m\u001b[0m\u001b[0m\n\u001b[0m\u001b[0;32m   1186\u001b[0m \u001b[1;33m\u001b[0m\u001b[0m\n\u001b[0;32m   1187\u001b[0m             \u001b[1;31m# we skip the warning on Categorical/Interval\u001b[0m\u001b[1;33m\u001b[0m\u001b[1;33m\u001b[0m\u001b[1;33m\u001b[0m\u001b[0m\n",
      "\u001b[1;31mKeyError\u001b[0m: \"['최저운고(100m )', '습도(%)', '3시간신적설(cm)', '시정(10m)', '일사(MJ/m2)', '지점명', '지면상태(지면상태코드)', '현지기압(hPa)', '풍향(16방위)', '적설(cm)', '운형(운형약어)', '풍속(m/s)', '전운량(10분위)', '강수량(mm)', '기온(°C)', '현상번호(국내식)', '해면기압(hPa)', '증기압(hPa)', '일시', '지면온도(°C)', '이슬점온도(°C)', '지점', '중하층운량(10분위)', '일조(hr)'] not in index\""
     ]
    }
   ],
   "source": [
    "interest_columns = ['지점', '지점명', '일시', '기온(°C)', '강수량(mm)', \n",
    "       '풍속(m/s)', '풍향(16방위)', '습도(%)', \n",
    "       '증기압(hPa)', '이슬점온도(°C)', '현지기압(hPa)', '해면기압(hPa)',\n",
    "       '일조(hr)', '일사(MJ/m2)', '적설(cm)', '3시간신적설(cm)',\n",
    "       '전운량(10분위)', '중하층운량(10분위)', '운형(운형약어)', '최저운고(100m )', '시정(10m)',\n",
    "       '지면상태(지면상태코드)', '현상번호(국내식)', '지면온도(°C)', '5cm 지중온도(°C)',\n",
    "       '10cm 지중온도(°C)', '20cm 지중온도(°C)', '30cm 지중온도(°C)']\n",
    "\n",
    "df = df[interest_columns]"
   ]
  },
  {
   "cell_type": "code",
   "execution_count": 6,
   "metadata": {},
   "outputs": [],
   "source": [
    "df.rename(columns = {'지점' : 'Office',\n",
    "                      '지점명' : 'Office_Name',\n",
    "                      '일시' : 'Date',\n",
    "                      '기온(°C)': 'Temp', \n",
    "                      '강수량(mm)': 'Rain', \n",
    "                      '풍속(m/s)': 'WindSpeed', \n",
    "                      '풍향(16방위)': 'WindDir',  \n",
    "                      '습도(%)': 'Moist',\n",
    "                      '증기압(hPa)': 'hPa', \n",
    "                      '이슬점온도(°C)': 'DewTemp', \n",
    "                      '현지기압(hPa)': 'CurhPa', \n",
    "                      '해면기압(hPa)': 'SeahPa',\n",
    "                      '일조(hr)': 'Daylight', \n",
    "                      '일사(MJ/m2)': 'DaylightMJ', \n",
    "                      '적설(cm)': 'SnowCm', \n",
    "                      '3시간신적설(cm)': 'Snow3hr',\n",
    "                      '전운량(10분위)': 'Clouds_10', \n",
    "                      '중하층운량(10분위)': 'MClouds_10',                      \n",
    "                      '운형(운형약어)' : 'CloudDesigns_Abb',                     \n",
    "                      '최저운고(100m )': 'HClouds_100m', \n",
    "                      '시정(10m)': 'Visibility_10m', \n",
    "                      '지면상태(지면상태코드)': 'GroundState_Code',\n",
    "                      '현상번호(국내식)': 'PhenomenaNo',\n",
    "                      '지면온도(°C)': 'SurfaceTemp'\n",
    "                     }, inplace=True)"
   ]
  },
  {
   "cell_type": "code",
   "execution_count": 7,
   "metadata": {},
   "outputs": [
    {
     "data": {
      "text/plain": [
       "Index(['Office', 'Office_Name', 'Date', 'Temp', '기온 QC플래그', 'Rain',\n",
       "       '강수량 QC플래그', 'WindSpeed', '풍속 QC플래그', 'WindDir', '풍향 QC플래그', 'Moist',\n",
       "       '습도 QC플래그', 'hPa', 'DewTemp', 'CurhPa', '현지기압 QC플래그', 'SeahPa',\n",
       "       '해면기압 QC플래그', 'Daylight', '일조 QC플래그', 'DaylightMJ', 'SnowCm', 'Snow3hr',\n",
       "       'Clouds_10', 'MClouds_10', 'CloudDesigns_Abb', 'HClouds_100m',\n",
       "       'Visibility_10m', 'GroundState_Code', 'PhenomenaNo', 'SurfaceTemp',\n",
       "       '지면온도 QC플래그', '5cm 지중온도(°C)', '10cm 지중온도(°C)', '20cm 지중온도(°C)',\n",
       "       '30cm 지중온도(°C)'],\n",
       "      dtype='object')"
      ]
     },
     "execution_count": 7,
     "metadata": {},
     "output_type": "execute_result"
    }
   ],
   "source": [
    "df.columns"
   ]
  },
  {
   "cell_type": "code",
   "execution_count": null,
   "metadata": {},
   "outputs": [],
   "source": []
  }
 ],
 "metadata": {
  "kernelspec": {
   "display_name": "Python 3",
   "language": "python",
   "name": "python3"
  },
  "language_info": {
   "codemirror_mode": {
    "name": "ipython",
    "version": 3
   },
   "file_extension": ".py",
   "mimetype": "text/x-python",
   "name": "python",
   "nbconvert_exporter": "python",
   "pygments_lexer": "ipython3",
   "version": "3.6.5"
  }
 },
 "nbformat": 4,
 "nbformat_minor": 2
}
